{
 "cells": [
  {
   "cell_type": "code",
   "execution_count": 105,
   "id": "4ed3dbc2-4b13-4c7c-a595-99145a59f811",
   "metadata": {},
   "outputs": [],
   "source": [
    "import pandas as pd\n",
    "import numpy as np\n",
    "import matplotlib.pyplot as plt\n",
    "from sklearn.linear_model import LogisticRegression\n",
    "from sklearn.model_selection import GridSearchCV\n",
    "from sklearn.model_selection import train_test_split\n",
    "from sklearn.svm import SVC\n",
    "from sklearn.pipeline import Pipeline\n",
    "from sklearn.preprocessing import StandardScaler\n",
    "\n",
    "test_file = '/app/raw/Flights_2018_1.csv'\n",
    "\n",
    "df = pd.read_csv(test_file, nrows=100)\n",
    "# for col in df:\n",
    "#     print(col)\n"
   ]
  },
  {
   "cell_type": "code",
   "execution_count": 83,
   "id": "37431acb",
   "metadata": {},
   "outputs": [
    {
     "name": "stdout",
     "output_type": "stream",
     "text": [
      "[0. 1.]\n",
      "(915,)\n"
     ]
    }
   ],
   "source": [
    "\n",
    "# df[(df['ArrDel15'] != math.isnan)]\n",
    "df = df[[\"DayofMonth\",\"Month\",\"Year\", \"Distance\",\"DepDelay\", \"ArrDel15\"]].dropna()# get rid of nan\n",
    "print(df.ArrDel15.unique()) # find unique values\n",
    "\n",
    "X = df[[\"DayofMonth\",\"Month\",\"Year\", \"Distance\", \"DepDelay\"]]\n",
    "y = df[[\"ArrDel15\"]]\n",
    "y = y.ArrDel15.ravel() # flatten\n",
    "print(y.shape)\n",
    "\n",
    "# split into train and \n",
    "X_train, X_test, y_train, y_test = train_test_split(X, y,\n",
    "                                                    test_size=0.2,\n",
    "                                                    random_state=150) # TODO how to choose random state"
   ]
  },
  {
   "cell_type": "code",
   "execution_count": null,
   "id": "2291000d",
   "metadata": {},
   "outputs": [],
   "source": [
    "log_reg = LogisticRegression()\n",
    "\n",
    "#TODO gridCV\n",
    "# param_grid = [\n",
    "#   {'solver':[''],'C':[.01, .5, 1, 5, 10, 100, 1000], 'penalty':['l1','l2','elasticnet']},\n",
    "# ]\n",
    "param_grid = [\n",
    "  {'solver':['liblinear', 'saga'],'C':[.01, .5, 1, 5, 10, 100, 1000], 'penalty':['l1','l2','elasticnet']},\n",
    "]\n",
    "\n",
    "search = GridSearchCV(log_reg, param_grid, cv=5) # TODO how to choose cv\n",
    "\n",
    "logreg_model = search.fit(X_train, y_train)\n",
    "\n",
    "# change this:\n",
    "print('Grid search found best model solver:', logreg_model.best_estimator_.get_params()['solver'])\n",
    "print('Grid search found best penalty:', logreg_model.best_estimator_.get_params()['penalty'])\n",
    "print('Grid search found best hyperparameter C:', logreg_model.best_estimator_.get_params()['C'])\n",
    "\n",
    "# TODO confirm this is actually printing for best model\n",
    "# TODO can we get \n",
    "test_accuracy = logreg_model.score(X_test, y_test)\n",
    "train_accuracy = logreg_model.score(X_train, y_train)\n",
    "\n",
    "print(\"Test accuracy:\" + \" \" + str(test_accuracy))\n",
    "print(\"Train accuracy:\" + \" \" + str(train_accuracy))"
   ]
  },
  {
   "cell_type": "code",
   "execution_count": 108,
   "id": "42553e3e",
   "metadata": {},
   "outputs": [
    {
     "name": "stderr",
     "output_type": "stream",
     "text": [
      "/mamba/lib/python3.11/site-packages/sklearn/model_selection/_validation.py:378: FitFailedWarning: \n",
      "70 fits failed out of a total of 350.\n",
      "The score on these train-test partitions for these parameters will be set to nan.\n",
      "If these failures are not expected, you can try to debug them by setting error_score='raise'.\n",
      "\n",
      "Below are more details about the failures:\n",
      "--------------------------------------------------------------------------------\n",
      "28 fits failed with the following error:\n",
      "Traceback (most recent call last):\n",
      "  File \"/mamba/lib/python3.11/site-packages/sklearn/model_selection/_validation.py\", line 686, in _fit_and_score\n",
      "    estimator.fit(X_train, y_train, **fit_params)\n",
      "  File \"/mamba/lib/python3.11/site-packages/sklearn/pipeline.py\", line 405, in fit\n",
      "    self._final_estimator.fit(Xt, y, **fit_params_last_step)\n",
      "  File \"/mamba/lib/python3.11/site-packages/sklearn/svm/_base.py\", line 217, in fit\n",
      "    raise ValueError(\n",
      "ValueError: Precomputed matrix must be a square matrix. Input is a 585x5 matrix.\n",
      "\n",
      "--------------------------------------------------------------------------------\n",
      "42 fits failed with the following error:\n",
      "Traceback (most recent call last):\n",
      "  File \"/mamba/lib/python3.11/site-packages/sklearn/model_selection/_validation.py\", line 686, in _fit_and_score\n",
      "    estimator.fit(X_train, y_train, **fit_params)\n",
      "  File \"/mamba/lib/python3.11/site-packages/sklearn/pipeline.py\", line 405, in fit\n",
      "    self._final_estimator.fit(Xt, y, **fit_params_last_step)\n",
      "  File \"/mamba/lib/python3.11/site-packages/sklearn/svm/_base.py\", line 217, in fit\n",
      "    raise ValueError(\n",
      "ValueError: Precomputed matrix must be a square matrix. Input is a 586x5 matrix.\n",
      "\n",
      "  warnings.warn(some_fits_failed_message, FitFailedWarning)\n",
      "/mamba/lib/python3.11/site-packages/sklearn/model_selection/_search.py:952: UserWarning: One or more of the test scores are non-finite: [0.90712888 0.87296617 0.84017333 0.84154319        nan 0.90712888\n",
      " 0.85657441 0.84017333 0.84017333        nan 0.94807567 0.92485323\n",
      " 0.94259622 0.91668064        nan 0.94807567 0.9084801  0.94122635\n",
      " 0.91394092        nan 0.95217594 0.93440499 0.9439754  0.90027956\n",
      "        nan 0.95217594 0.91804119 0.94260554 0.91666201        nan\n",
      " 0.94943621 0.94123567 0.9425869  0.89753052        nan 0.94943621\n",
      " 0.93577486 0.94533594 0.89349548        nan 0.94943621 0.94124499\n",
      " 0.94669649 0.87712236        nan 0.94943621 0.94124499 0.94395676\n",
      " 0.88530426        nan 0.94943621 0.94123567 0.94532662 0.8689125\n",
      "        nan 0.94943621 0.9371354  0.94669649 0.88255521        nan\n",
      " 0.94943621 0.94396608 0.94669649 0.8689125         nan 0.94943621\n",
      " 0.94668717 0.94804771 0.88392508        nan]\n",
      "  warnings.warn(\n"
     ]
    }
   ],
   "source": [
    "# NOTE THIS TAKES A FEW MIN TO RUN\n",
    "\n",
    "# reference: https://scikit-learn.org/stable/modules/generated/sklearn.svm.SVC.html\n",
    "\n",
    "# create a pipeline to run standardscaler and then the svm\n",
    "svm = Pipeline(steps=[(\"scaler\", StandardScaler()), (\"svm\",SVC())]) # standard scaler makes a huge difference of over 10%\n",
    "param_grid = [\n",
    "  {'svm__gamma':['scale', 'auto'],'svm__C':[.01, .5, 1, 5, 10, 100, 1000], \"svm__kernel\":['linear', 'poly', 'rbf', 'sigmoid', 'precomputed']},\n",
    "]\n",
    "search = GridSearchCV(svm, param_grid, cv=5) # TODO how to choose cv\n",
    "svm_model = search.fit(X_train, y_train)\n"
   ]
  },
  {
   "cell_type": "code",
   "execution_count": 109,
   "id": "f8ada6fe",
   "metadata": {},
   "outputs": [
    {
     "name": "stdout",
     "output_type": "stream",
     "text": [
      "Grid search found best gamma: scale\n",
      "Grid search found best penalty: linear\n",
      "Grid search found best hyperparameter C: 1\n",
      "Test accuracy: 0.9453551912568307\n",
      "Train accuracy: 0.9508196721311475\n"
     ]
    }
   ],
   "source": [
    "\n",
    "print('Grid search found best gamma:', svm_model.best_estimator_.get_params()['svm__gamma'])\n",
    "print('Grid search found best penalty:', svm_model.best_estimator_.get_params()['svm__kernel'])\n",
    "print('Grid search found best hyperparameter C:', svm_model.best_estimator_.get_params()['svm__C'])\n",
    "\n",
    "test_accuracy = svm_model.score(X_test, y_test)\n",
    "train_accuracy = svm_model.score(X_train, y_train)\n",
    "\n",
    "print(\"Test accuracy:\" + \" \" + str(test_accuracy))\n",
    "print(\"Train accuracy:\" + \" \" + str(train_accuracy))"
   ]
  }
 ],
 "metadata": {
  "kernelspec": {
   "display_name": "Python 3 (ipykernel)",
   "language": "python",
   "name": "python3"
  },
  "language_info": {
   "codemirror_mode": {
    "name": "ipython",
    "version": 3
   },
   "file_extension": ".py",
   "mimetype": "text/x-python",
   "name": "python",
   "nbconvert_exporter": "python",
   "pygments_lexer": "ipython3",
   "version": "3.11.0"
  }
 },
 "nbformat": 4,
 "nbformat_minor": 5
}
