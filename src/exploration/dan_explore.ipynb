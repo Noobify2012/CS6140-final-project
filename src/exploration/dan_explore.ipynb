{
 "cells": [
  {
   "cell_type": "code",
   "execution_count": 2,
   "metadata": {},
   "outputs": [],
   "source": [
    "import glob\n",
    "import numpy as np\n",
    "import pandas as pd\n",
    "import pprint\n",
    "\n",
    "from pathlib import Path\n",
    "from sklearn.linear_model import LogisticRegression\n",
    "from sklearn.model_selection import GridSearchCV, train_test_split\n",
    "from joblib import parallel_backend\n",
    "\n",
    "\n",
    "proj_dir = '/home/drumblum/Northeastern/cs6140/CS6140-final-project/'\n",
    "raw_dir = proj_dir + \"raw/\"\n",
    "res_dir = proj_dir + \"res/\"\n",
    "glob_2018 = \"Flights_2018_*.csv\"\n",
    "single_2018 = \"Flights_2018_1.csv\"\n",
    "pickle_file = \"2018_df.pkl\""
   ]
  },
  {
   "cell_type": "code",
   "execution_count": 5,
   "metadata": {},
   "outputs": [],
   "source": [
    "''' Cell to get a single CSV file loaded into DF\n",
    "'''\n",
    "df = pd.read_csv(raw_dir + single_2018, low_memory=False)"
   ]
  },
  {
   "cell_type": "code",
   "execution_count": 35,
   "metadata": {},
   "outputs": [],
   "source": [
    "''' Cell to load ALL 2018 CSV files into DF\n",
    "'''\n",
    "\n",
    "# csv_files = glob.glob(str(raw_dir) + \"/Flights_2018_*.csv\")\n",
    "# csv_files = glob.glob(raw_dir + glob_2018)\n",
    "# print(csv_files)\n",
    "# def read_csv_low_memory(csv):\n",
    "#     return pd.read_csv(csv, low_memory=False)\n",
    "\n",
    "# df = pd.concat(map(read_csv_low_memory, csv_files))\n",
    "# df.to_pickle(res_dir + pickle_file)\n"
   ]
  },
  {
   "cell_type": "code",
   "execution_count": 4,
   "metadata": {},
   "outputs": [],
   "source": [
    "'''Cell to get the pickedl ALL 2018 into DF\n",
    "'''\n",
    "# df = pd.read_pickle(res_dir + pickle_file)"
   ]
  },
  {
   "cell_type": "code",
   "execution_count": 6,
   "metadata": {},
   "outputs": [],
   "source": [
    "def analyze_model(model, X_test, X_train, y_test, y_train):\n",
    "    # TODO score vs score_samples\n",
    "    test_accuracy = model.score(X_test, y_test)\n",
    "    train_accuracy = model.score(X_train, y_train)\n",
    "    y_pred = model.predict(X_test)\n",
    "    f1 = f1_score(y_test, y_pred)\n",
    "    prf = precision_recall_fscore_support(y_test, y_pred, average='binary') # TODO different average values: micro macro binary weighted samples\n",
    "\n",
    "    print(f\"Test accuracy: {test_accuracy}\")\n",
    "    print(f\"Train accuracy: {train_accuracy}\")\n",
    "    print(f\"Precision: {prf[0]}\")\n",
    "    print(f\"Recall: {prf[1]}\")\n",
    "    print(f\"F-Beta Score: {prf[2]}\")\n",
    "    print(f\"F1 Score: {f1}\")\n",
    "\n",
    "    ConfusionMatrixDisplay.from_predictions(y_test, y_pred)\n",
    "    plt.show()"
   ]
  },
  {
   "cell_type": "code",
   "execution_count": 7,
   "metadata": {},
   "outputs": [],
   "source": [
    "df_modified = df.drop(columns=[\n",
    "                               'Div1Airport', \n",
    "                               'Div1AirportID', \n",
    "                               'Div1AirportSeqID', \n",
    "                               'Div1WheelsOn', \n",
    "                               'Div1TotalGTime', \n",
    "                               'Div1LongestGTime', \n",
    "                               'Div1WheelsOff', \n",
    "                               'Div1TailNum',\n",
    "                               'Div2Airport', \n",
    "                               'Div2AirportID', \n",
    "                               'Div2AirportSeqID', \n",
    "                               'Div2WheelsOn', \n",
    "                               'Div2TotalGTime', \n",
    "                               'Div2LongestGTime', \n",
    "                               'Div2WheelsOff', \n",
    "                               'Div2TailNum',\n",
    "                               'Div3Airport', \n",
    "                               'Div3AirportID', \n",
    "                               'Div3AirportSeqID', \n",
    "                               'Div3WheelsOn', \n",
    "                               'Div3TotalGTime', \n",
    "                               'Div3LongestGTime', \n",
    "                               'Div3WheelsOff', \n",
    "                               'Div3TailNum',\n",
    "                               'Div4Airport', \n",
    "                               'Div4AirportID', \n",
    "                               'Div4AirportSeqID', \n",
    "                               'Div4WheelsOn', \n",
    "                               'Div4TotalGTime', \n",
    "                               'Div4LongestGTime', \n",
    "                               'Div4WheelsOff', \n",
    "                               'Div4TailNum',\n",
    "                               'Div5Airport', \n",
    "                               'Div5AirportID', \n",
    "                               'Div5AirportSeqID', \n",
    "                               'Div5WheelsOn', \n",
    "                               'Div5TotalGTime', \n",
    "                               'Div5LongestGTime', \n",
    "                               'Div5WheelsOff', \n",
    "                               'Div5TailNum', \n",
    "                               'Duplicate', \n",
    "                               'Unnamed: 119'])\n",
    "# df_modified = df_modified[df_modified['ArrDel15']]\n",
    "df_modified = df_modified.dropna(subset=['ArrDel15'])"
   ]
  },
  {
   "cell_type": "code",
   "execution_count": 8,
   "metadata": {},
   "outputs": [
    {
     "data": {
      "text/html": [
       "<div>\n",
       "<style scoped>\n",
       "    .dataframe tbody tr th:only-of-type {\n",
       "        vertical-align: middle;\n",
       "    }\n",
       "\n",
       "    .dataframe tbody tr th {\n",
       "        vertical-align: top;\n",
       "    }\n",
       "\n",
       "    .dataframe thead th {\n",
       "        text-align: right;\n",
       "    }\n",
       "</style>\n",
       "<table border=\"1\" class=\"dataframe\">\n",
       "  <thead>\n",
       "    <tr style=\"text-align: right;\">\n",
       "      <th></th>\n",
       "      <th>Year</th>\n",
       "      <th>Quarter</th>\n",
       "      <th>Month</th>\n",
       "      <th>DayofMonth</th>\n",
       "      <th>DayOfWeek</th>\n",
       "      <th>FlightDate</th>\n",
       "      <th>Marketing_Airline_Network</th>\n",
       "      <th>Operated_or_Branded_Code_Share_Partners</th>\n",
       "      <th>DOT_ID_Marketing_Airline</th>\n",
       "      <th>IATA_Code_Marketing_Airline</th>\n",
       "      <th>...</th>\n",
       "      <th>SecurityDelay</th>\n",
       "      <th>LateAircraftDelay</th>\n",
       "      <th>FirstDepTime</th>\n",
       "      <th>TotalAddGTime</th>\n",
       "      <th>LongestAddGTime</th>\n",
       "      <th>DivAirportLandings</th>\n",
       "      <th>DivReachedDest</th>\n",
       "      <th>DivActualElapsedTime</th>\n",
       "      <th>DivArrDelay</th>\n",
       "      <th>DivDistance</th>\n",
       "    </tr>\n",
       "  </thead>\n",
       "  <tbody>\n",
       "  </tbody>\n",
       "</table>\n",
       "<p>0 rows × 78 columns</p>\n",
       "</div>"
      ],
      "text/plain": [
       "Empty DataFrame\n",
       "Columns: [Year, Quarter, Month, DayofMonth, DayOfWeek, FlightDate, Marketing_Airline_Network, Operated_or_Branded_Code_Share_Partners, DOT_ID_Marketing_Airline, IATA_Code_Marketing_Airline, Flight_Number_Marketing_Airline, Originally_Scheduled_Code_Share_Airline, DOT_ID_Originally_Scheduled_Code_Share_Airline, IATA_Code_Originally_Scheduled_Code_Share_Airline, Flight_Num_Originally_Scheduled_Code_Share_Airline, Operating_Airline , DOT_ID_Operating_Airline, IATA_Code_Operating_Airline, Tail_Number, Flight_Number_Operating_Airline, OriginAirportID, OriginAirportSeqID, OriginCityMarketID, Origin, OriginCityName, OriginState, OriginStateFips, OriginStateName, OriginWac, DestAirportID, DestAirportSeqID, DestCityMarketID, Dest, DestCityName, DestState, DestStateFips, DestStateName, DestWac, CRSDepTime, DepTime, DepDelay, DepDelayMinutes, DepDel15, DepartureDelayGroups, DepTimeBlk, TaxiOut, WheelsOff, WheelsOn, TaxiIn, CRSArrTime, ArrTime, ArrDelay, ArrDelayMinutes, ArrDel15, ArrivalDelayGroups, ArrTimeBlk, Cancelled, CancellationCode, Diverted, CRSElapsedTime, ActualElapsedTime, AirTime, Flights, Distance, DistanceGroup, CarrierDelay, WeatherDelay, NASDelay, SecurityDelay, LateAircraftDelay, FirstDepTime, TotalAddGTime, LongestAddGTime, DivAirportLandings, DivReachedDest, DivActualElapsedTime, DivArrDelay, DivDistance]\n",
       "Index: []\n",
       "\n",
       "[0 rows x 78 columns]"
      ]
     },
     "execution_count": 8,
     "metadata": {},
     "output_type": "execute_result"
    }
   ],
   "source": [
    "df_modified[df_modified['ArrDel15'].isnull()]\n"
   ]
  },
  {
   "cell_type": "code",
   "execution_count": 9,
   "metadata": {},
   "outputs": [
    {
     "name": "stdout",
     "output_type": "stream",
     "text": [
      "[0. 1.]\n",
      "(443245,)\n"
     ]
    }
   ],
   "source": [
    "# df[(df['ArrDel15'] != math.isnan)]\n",
    "# df = df[[\"DayofMonth\",\"Month\",\"Year\", \"Distance\",\"DepDelay\", \"ArrDel15\"]].dropna()# get rid of nan\n",
    "print(df_modified.ArrDel15.unique()) # find unique values\n",
    "\n",
    "flight_set =  df_modified[[\"DayofMonth\",\"Month\",\"Year\", \"Distance\", \"DepDelay\", \"ArrDel15\"]]\n",
    "flight_set = flight_set.dropna()\n",
    "X = flight_set[[\"DayofMonth\",\"Month\",\"Year\", \"Distance\", \"DepDelay\"]]\n",
    "# X = X.dropna()\n",
    "# X = X.drop(columns=['ArrDel15'])\n",
    "# X = df_modified.drop(columns=['ArrDel15', 'FlightDate'])\n",
    "Y = flight_set[[\"ArrDel15\"]]\n",
    "Y = Y.ArrDel15.ravel() # flatten\n",
    "print(Y.shape)\n",
    "\n",
    "# split into train and \n",
    "x_train, x_test, y_train, y_test = train_test_split(X, Y,\n",
    "                                                    test_size=0.2,\n",
    "                                                    random_state=150) # TODO how to choose random state"
   ]
  },
  {
   "cell_type": "code",
   "execution_count": 11,
   "metadata": {},
   "outputs": [],
   "source": [
    "# log_reg = LogisticRegression(n_jobs=20)\n",
    "log_reg = LogisticRegression()\n",
    "\n",
    "param_grid = [\n",
    "  # {'solver':['liblinear'],'C':[.001, .01, .5, .1, 1, 5, 10], 'penalty':['l1','l2'], 'n_jobs': [2]},\n",
    "  # {'solver':['saga'],'C':[.001, .01, .5, .1, 1, 5, 10], 'penalty':['l2','elasticnet'], 'n_jobs': [-1]} # l1 gives erros here\n",
    "  # {'solver':['saga'],'C':[.001, .01, .5, .1, 1, 5, 10], 'penalty':['l2','elasticnet'], 'n_jobs': [-1]} # l1 gives erros here\n",
    "  # {'solver':['saga'],'C':[.001, .01], 'penalty':['l2']} \n",
    "\n",
    "  {'solver':['liblinear'],'C':[.001, .01, .5, .1, 1, 5, 10], 'penalty':['l1'], 'n_jobs': [1]},\n",
    "  {'solver':['saga'],'C':[.001, .01, .5, .1, 1, 5, 10], 'penalty':['l2', 'elasticnet'], 'n_jobs': [-1] } \n",
    "]\n",
    "\n",
    "# TODO n_jobs = 5 is ideal for my computer, results may vary\n",
    "# TODO choose best scoring function f1, f1_macro, etc.\n",
    "search = GridSearchCV(log_reg, param_grid, scoring='f1', cv=5, verbose=1) \n",
    "# TODO how to choose cv\n",
    "# TODO choose verbosity\n",
    "# TODO use scoring param?\n",
    "\n"
   ]
  },
  {
   "cell_type": "code",
   "execution_count": 12,
   "metadata": {},
   "outputs": [
    {
     "name": "stdout",
     "output_type": "stream",
     "text": [
      "Fitting 5 folds for each of 3 candidates, totalling 15 fits\n"
     ]
    },
    {
     "name": "stderr",
     "output_type": "stream",
     "text": [
      "/home/drumblum/mambaforge/envs/cs6140/lib/python3.11/site-packages/sklearn/model_selection/_validation.py:378: FitFailedWarning: \n",
      "5 fits failed out of a total of 15.\n",
      "The score on these train-test partitions for these parameters will be set to nan.\n",
      "If these failures are not expected, you can try to debug them by setting error_score='raise'.\n",
      "\n",
      "Below are more details about the failures:\n",
      "--------------------------------------------------------------------------------\n",
      "5 fits failed with the following error:\n",
      "joblib.externals.loky.process_executor._RemoteTraceback: \n",
      "\"\"\"\n",
      "Traceback (most recent call last):\n",
      "  File \"/home/drumblum/mambaforge/envs/cs6140/lib/python3.11/site-packages/joblib/externals/loky/process_executor.py\", line 428, in _process_worker\n",
      "    r = call_item()\n",
      "        ^^^^^^^^^^^\n",
      "  File \"/home/drumblum/mambaforge/envs/cs6140/lib/python3.11/site-packages/joblib/externals/loky/process_executor.py\", line 275, in __call__\n",
      "    return self.fn(*self.args, **self.kwargs)\n",
      "           ^^^^^^^^^^^^^^^^^^^^^^^^^^^^^^^^^^\n",
      "  File \"/home/drumblum/mambaforge/envs/cs6140/lib/python3.11/site-packages/joblib/_parallel_backends.py\", line 620, in __call__\n",
      "    return self.func(*args, **kwargs)\n",
      "           ^^^^^^^^^^^^^^^^^^^^^^^^^^\n",
      "  File \"/home/drumblum/mambaforge/envs/cs6140/lib/python3.11/site-packages/joblib/parallel.py\", line 288, in __call__\n",
      "    return [func(*args, **kwargs)\n",
      "           ^^^^^^^^^^^^^^^^^^^^^^\n",
      "  File \"/home/drumblum/mambaforge/envs/cs6140/lib/python3.11/site-packages/joblib/parallel.py\", line 288, in <listcomp>\n",
      "    return [func(*args, **kwargs)\n",
      "            ^^^^^^^^^^^^^^^^^^^^^\n",
      "  File \"/home/drumblum/mambaforge/envs/cs6140/lib/python3.11/site-packages/sklearn/utils/parallel.py\", line 123, in __call__\n",
      "    return self.function(*args, **kwargs)\n",
      "           ^^^^^^^^^^^^^^^^^^^^^^^^^^^^^^\n",
      "  File \"/home/drumblum/mambaforge/envs/cs6140/lib/python3.11/site-packages/sklearn/linear_model/_logistic.py\", line 521, in _logistic_regression_path\n",
      "    alpha = (1.0 / C) * (1 - l1_ratio)\n",
      "                         ~~^~~~~~~~~~\n",
      "TypeError: unsupported operand type(s) for -: 'int' and 'NoneType'\n",
      "\"\"\"\n",
      "\n",
      "The above exception was the direct cause of the following exception:\n",
      "\n",
      "Traceback (most recent call last):\n",
      "  File \"/home/drumblum/mambaforge/envs/cs6140/lib/python3.11/site-packages/sklearn/model_selection/_validation.py\", line 686, in _fit_and_score\n",
      "    estimator.fit(X_train, y_train, **fit_params)\n",
      "  File \"/home/drumblum/mambaforge/envs/cs6140/lib/python3.11/site-packages/sklearn/linear_model/_logistic.py\", line 1291, in fit\n",
      "    fold_coefs_ = Parallel(n_jobs=self.n_jobs, verbose=self.verbose, prefer=prefer)(\n",
      "                  ^^^^^^^^^^^^^^^^^^^^^^^^^^^^^^^^^^^^^^^^^^^^^^^^^^^^^^^^^^^^^^^^^^\n",
      "  File \"/home/drumblum/mambaforge/envs/cs6140/lib/python3.11/site-packages/sklearn/utils/parallel.py\", line 63, in __call__\n",
      "    return super().__call__(iterable_with_config)\n",
      "           ^^^^^^^^^^^^^^^^^^^^^^^^^^^^^^^^^^^^^^\n",
      "  File \"/home/drumblum/mambaforge/envs/cs6140/lib/python3.11/site-packages/joblib/parallel.py\", line 1098, in __call__\n",
      "    self.retrieve()\n",
      "  File \"/home/drumblum/mambaforge/envs/cs6140/lib/python3.11/site-packages/joblib/parallel.py\", line 975, in retrieve\n",
      "    self._output.extend(job.get(timeout=self.timeout))\n",
      "                        ^^^^^^^^^^^^^^^^^^^^^^^^^^^^^\n",
      "  File \"/home/drumblum/mambaforge/envs/cs6140/lib/python3.11/site-packages/joblib/_parallel_backends.py\", line 567, in wrap_future_result\n",
      "    return future.result(timeout=timeout)\n",
      "           ^^^^^^^^^^^^^^^^^^^^^^^^^^^^^^\n",
      "  File \"/home/drumblum/mambaforge/envs/cs6140/lib/python3.11/concurrent/futures/_base.py\", line 456, in result\n",
      "    return self.__get_result()\n",
      "           ^^^^^^^^^^^^^^^^^^^\n",
      "  File \"/home/drumblum/mambaforge/envs/cs6140/lib/python3.11/concurrent/futures/_base.py\", line 401, in __get_result\n",
      "    raise self._exception\n",
      "TypeError: unsupported operand type(s) for -: 'int' and 'NoneType'\n",
      "\n",
      "  warnings.warn(some_fits_failed_message, FitFailedWarning)\n",
      "/home/drumblum/mambaforge/envs/cs6140/lib/python3.11/site-packages/sklearn/model_selection/_search.py:952: UserWarning: One or more of the test scores are non-finite: [0.80118104 0.80113806        nan]\n",
      "  warnings.warn(\n"
     ]
    }
   ],
   "source": [
    "\n",
    "logreg_model = search.fit(x_train, y_train)"
   ]
  },
  {
   "cell_type": "code",
   "execution_count": 60,
   "metadata": {},
   "outputs": [
    {
     "name": "stdout",
     "output_type": "stream",
     "text": [
      "{'mean_fit_time': array([1.25269165, 1.62640162, 0.59978728]),\n",
      " 'mean_score_time': array([0.02880807, 0.03774452, 0.        ]),\n",
      " 'mean_test_score': array([0.80117387, 0.80113805,        nan]),\n",
      " 'param_C': masked_array(data=[0.01, 0.01, 0.01],\n",
      "             mask=[False, False, False],\n",
      "       fill_value='?',\n",
      "            dtype=object),\n",
      " 'param_n_jobs': masked_array(data=[1, -1, -1],\n",
      "             mask=[False, False, False],\n",
      "       fill_value='?',\n",
      "            dtype=object),\n",
      " 'param_penalty': masked_array(data=['l1', 'l2', 'elasticnet'],\n",
      "             mask=[False, False, False],\n",
      "       fill_value='?',\n",
      "            dtype=object),\n",
      " 'param_solver': masked_array(data=['liblinear', 'saga', 'saga'],\n",
      "             mask=[False, False, False],\n",
      "       fill_value='?',\n",
      "            dtype=object),\n",
      " 'params': [{'C': 0.01, 'n_jobs': 1, 'penalty': 'l1', 'solver': 'liblinear'},\n",
      "            {'C': 0.01, 'n_jobs': -1, 'penalty': 'l2', 'solver': 'saga'},\n",
      "            {'C': 0.01,\n",
      "             'n_jobs': -1,\n",
      "             'penalty': 'elasticnet',\n",
      "             'solver': 'saga'}],\n",
      " 'rank_test_score': array([1, 2, 3], dtype=int32),\n",
      " 'split0_test_score': array([0.8       , 0.79989261,        nan]),\n",
      " 'split1_test_score': array([0.79750918, 0.79749104,        nan]),\n",
      " 'split2_test_score': array([0.80334877, 0.80342033,        nan]),\n",
      " 'split3_test_score': array([0.80363264, 0.80352533,        nan]),\n",
      " 'split4_test_score': array([0.80137875, 0.80136097,        nan]),\n",
      " 'std_fit_time': array([0.22281985, 0.10543598, 0.1328413 ]),\n",
      " 'std_score_time': array([0.00303768, 0.00941246, 0.        ]),\n",
      " 'std_test_score': array([0.00226387, 0.00227198,        nan])}\n"
     ]
    }
   ],
   "source": [
    "# pprint.pprint(logreg_model.best_estimator_.get_params())\n",
    "pprint.pprint(logreg_model.cv_results_)"
   ]
  }
 ],
 "metadata": {
  "kernelspec": {
   "display_name": "Python 3 (ipykernel)",
   "language": "python",
   "name": "python3"
  },
  "language_info": {
   "codemirror_mode": {
    "name": "ipython",
    "version": 3
   },
   "file_extension": ".py",
   "mimetype": "text/x-python",
   "name": "python",
   "nbconvert_exporter": "python",
   "pygments_lexer": "ipython3",
   "version": "3.11.0"
  },
  "orig_nbformat": 4
 },
 "nbformat": 4,
 "nbformat_minor": 2
}
