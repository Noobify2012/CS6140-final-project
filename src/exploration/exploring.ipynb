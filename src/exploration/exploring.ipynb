{
 "cells": [
  {
   "cell_type": "code",
   "execution_count": 55,
   "id": "4d0df13c-9bc8-4ad3-975f-85c7278a723a",
   "metadata": {
    "tags": []
   },
   "outputs": [],
   "source": [
    "import pandas as pd\n",
    "import os\n",
    "import numpy as np\n",
    "# import scipy.io\n",
    "\n",
    "# file = '../../res/Combined_Flights_2021.parquet'\n",
    "# file = './res/Combined_Flights_2021.parquet'\n",
    "# file_2022_6 = '/app/raw/Flights_2018_1.csv'\n",
    "# csv_file = pd.read_csv(file_2022_6, engine='pyarrow')\n",
    "# print(list(csv_file.columns))\n",
    "# for line in list(csv_file.columns):\n",
    "#     print(line)\n",
    "sample = pd.read_csv('../../res/test.csv', engine='pyarrow')\n",
    "\n"
   ]
  },
  {
   "cell_type": "code",
   "execution_count": 51,
   "id": "49b11ff2",
   "metadata": {},
   "outputs": [],
   "source": [
    "# sample = csv_file.sample(n = 100000)\n",
    "# sample.to_csv(\"../../res/test.csv\", index=False)"
   ]
  },
  {
   "cell_type": "code",
   "execution_count": 63,
   "id": "9a96e7bc",
   "metadata": {},
   "outputs": [
    {
     "name": "stdout",
     "output_type": "stream",
     "text": [
      "[[2018 1 1 5 5 datetime.date(2018, 1, 5) 'B6' 'B6' 20409 'B6' 797 '' nan\n",
      "  '' nan 'B6' 20409 'B6' 'N663JB' 797 10721 1072102 30721 'BOS'\n",
      "  'Boston, MA' 'MA' 25 'Massachusetts' 13 10397 1039707 30397 'ATL'\n",
      "  'Atlanta, GA' 'GA' 13 'Georgia' 34 1607 1902.0 175.0 175.0 1.0 11.0\n",
      "  '1600-1659' 29.0 1931.0 2150.0 8.0 1907 2158.0 171.0 171.0 1.0 11.0\n",
      "  '1900-1959' 0.0 '' 0.0 180.0 176.0 139.0 1.0 946.0 4 171.0 0.0 0.0 0.0\n",
      "  0.0 nan nan nan 0 nan nan nan nan '' nan nan nan nan nan nan '' '' nan\n",
      "  nan nan nan nan nan '' None None None None None None None None None\n",
      "  None None None None None None None None None None None None None None\n",
      "  None 'N' None]\n",
      " [2018 1 1 10 3 datetime.date(2018, 1, 10) 'B6' 'B6' 20409 'B6' 504 ''\n",
      "  nan '' nan 'B6' 20409 'B6' 'N629JB' 504 12954 1295406 32575 'LGB'\n",
      "  'Long Beach, CA' 'CA' 6 'California' 91 10721 1072102 30721 'BOS'\n",
      "  'Boston, MA' 'MA' 25 'Massachusetts' 13 2115 2116.0 1.0 1.0 0.0 0.0\n",
      "  '2100-2159' 9.0 2125.0 517.0 5.0 529 522.0 -7.0 0.0 0.0 -1.0\n",
      "  '0001-0559' 0.0 '' 0.0 314.0 306.0 292.0 1.0 2602.0 11 nan nan nan nan\n",
      "  nan nan nan nan 0 nan nan nan nan '' nan nan nan nan nan nan '' '' nan\n",
      "  nan nan nan nan nan '' None None None None None None None None None\n",
      "  None None None None None None None None None None None None None None\n",
      "  None 'N' None]]\n"
     ]
    }
   ],
   "source": [
    "bos = sample.query('Origin == \"BOS\" or Dest == \"BOS\"').to_numpy()\n",
    "# sample['Origin']\n",
    "# sample['OriginAirportSeqID']\n",
    "print(bos[0:2])"
   ]
  },
  {
   "cell_type": "code",
   "execution_count": 65,
   "id": "22198dd8",
   "metadata": {},
   "outputs": [],
   "source": [
    "# file = open(\"/app/raw/Flights_2018_1.csv\")\n",
    "# print(file.readline())\n",
    "# print(file.readline())\n",
    "# bos = file[np.where(OriginAirportID == \"BOS\")]\n",
    "# print(bos)\n",
    "\n",
    "# for i in file:\n",
    "#     print(i)\n",
    "\n",
    "\n",
    "import psycopg2\n",
    "from sqlalchemy import create_engine"
   ]
  },
  {
   "cell_type": "code",
   "execution_count": 54,
   "id": "68d62969",
   "metadata": {},
   "outputs": [],
   "source": [
    "# file_csv = '../../res/Combined_Flights_2021.csv'\n",
    "# for line in list(pq_file.columns):\n",
    "#     print(line)\n",
    "# print(csv_file.columns)\n",
    "\n",
    "# pd.read_csv(file_csv)"
   ]
  }
 ],
 "metadata": {
  "kernelspec": {
   "display_name": "Python 3 (ipykernel)",
   "language": "python",
   "name": "python3"
  },
  "language_info": {
   "codemirror_mode": {
    "name": "ipython",
    "version": 3
   },
   "file_extension": ".py",
   "mimetype": "text/x-python",
   "name": "python",
   "nbconvert_exporter": "python",
   "pygments_lexer": "ipython3",
   "version": "3.11.0"
  }
 },
 "nbformat": 4,
 "nbformat_minor": 5
}
