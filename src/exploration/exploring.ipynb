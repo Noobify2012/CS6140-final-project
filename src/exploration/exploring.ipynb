{
 "cells": [
  {
   "cell_type": "code",
   "execution_count": 57,
   "id": "4d0df13c-9bc8-4ad3-975f-85c7278a723a",
   "metadata": {
    "tags": []
   },
   "outputs": [
    {
     "ename": "ModuleNotFoundError",
     "evalue": "No module named 'matplotlib'",
     "output_type": "error",
     "traceback": [
      "\u001b[0;31m---------------------------------------------------------------------------\u001b[0m",
      "\u001b[0;31mModuleNotFoundError\u001b[0m                       Traceback (most recent call last)",
      "Cell \u001b[0;32mIn[57], line 8\u001b[0m\n\u001b[1;32m      6\u001b[0m \u001b[39mimport\u001b[39;00m \u001b[39mnumpy\u001b[39;00m \u001b[39mas\u001b[39;00m \u001b[39mnp\u001b[39;00m\n\u001b[1;32m      7\u001b[0m \u001b[39mimport\u001b[39;00m \u001b[39mpsycopg2\u001b[39;00m\n\u001b[0;32m----> 8\u001b[0m \u001b[39mimport\u001b[39;00m \u001b[39mmatplotlib\u001b[39;00m\u001b[39m.\u001b[39;00m\u001b[39mpyplot\u001b[39;00m \u001b[39mas\u001b[39;00m \u001b[39mplt\u001b[39;00m\n\u001b[1;32m      9\u001b[0m \u001b[39m# from sqlalchemy import create_engine, URL, MetaData\u001b[39;00m\n\u001b[1;32m     10\u001b[0m \u001b[39m# import scipy.io\u001b[39;00m\n\u001b[1;32m     11\u001b[0m \n\u001b[0;32m   (...)\u001b[0m\n\u001b[1;32m     14\u001b[0m \u001b[39m# file = '../../res/Combined_Flights_2021.parquet'\u001b[39;00m\n\u001b[1;32m     15\u001b[0m \u001b[39m# file = './res/Combined_Flights_2021.parquet'\u001b[39;00m\n\u001b[1;32m     16\u001b[0m test_file \u001b[39m=\u001b[39m \u001b[39m'\u001b[39m\u001b[39m/app/raw/Flights_2018_1.csv\u001b[39m\u001b[39m'\u001b[39m\n",
      "\u001b[0;31mModuleNotFoundError\u001b[0m: No module named 'matplotlib'"
     ]
    }
   ],
   "source": [
    "#Authors: Dan Blum, Matt Greene, Bram Zilzter\n",
    "#Dataset: https://www.kaggle.com/datasets/robikscube/flight-delay-dataset-20182022?select=readme.md\n",
    "\n",
    "import pandas as pd\n",
    "import os\n",
    "import numpy as np\n",
    "import psycopg2\n",
    "import matplotlib.pyplot as plt\n",
    "# from sqlalchemy import create_engine, URL, MetaData\n",
    "# import scipy.io\n",
    "\n",
    "# test_file = '/app/res/test.csv'\n",
    "\n",
    "# file = '../../res/Combined_Flights_2021.parquet'\n",
    "# file = './res/Combined_Flights_2021.parquet'\n",
    "test_file = '/app/raw/Flights_2018_1.csv'\n",
    "# csv_file = pd.read_csv(file_2022_6, engine='pyarrow')\n",
    "# print(list(csv_file.columns))\n",
    "# for line in list(csv_file.columns):\n",
    "#     print(line)\n",
    "sample = pd.read_csv(test_file, engine='pyarrow')\n",
    "print(\"I'm loaded\")"
   ]
  },
  {
   "cell_type": "code",
   "execution_count": 42,
   "id": "49b11ff2",
   "metadata": {},
   "outputs": [],
   "source": [
    "# sample = csv_file.sample(n = 100000)\n",
    "# sample.to_csv(\"../../res/test.csv\", index=False)\n",
    "# sample.head(3).to_csv(\"res/sample.csv\")"
   ]
  },
  {
   "cell_type": "code",
   "execution_count": null,
   "id": "cb4a03fe",
   "metadata": {},
   "outputs": [],
   "source": [
    "# single_sample = csv_file(n = 100000)\n",
    "# sample.to_csv(\"../../res/test.csv\", index=False)"
   ]
  },
  {
   "cell_type": "code",
   "execution_count": 32,
   "id": "93bf80b7",
   "metadata": {},
   "outputs": [
    {
     "name": "stdout",
     "output_type": "stream",
     "text": [
      "18149\n"
     ]
    }
   ],
   "source": [
    "####### START OF EDA #######\n",
    "#get all the flights in the first file that either depart from or arrive to boston\n",
    "bos_sample = sample.query('Origin == \"BOS\" or Dest == \"BOS\"')\n",
    "#print the number of flights from or to boston \n",
    "print(len(bos_sample.index))"
   ]
  },
  {
   "cell_type": "code",
   "execution_count": 40,
   "id": "b610bfc4",
   "metadata": {},
   "outputs": [
    {
     "data": {
      "text/plain": [
       "dtype('O')"
      ]
     },
     "execution_count": 40,
     "metadata": {},
     "output_type": "execute_result"
    }
   ],
   "source": [
    "bos_sample.dtypes\n",
    "###Flight date is actually in ISO 8601 format(YYYYMMDD), pandas doesn't recognize it, we can probably drop Year, Quarter, Month, DayofMonth, DayofWeek\n",
    "bos_sample.FlightDate.dtype #need to give input format for ISO 8601 "
   ]
  },
  {
   "cell_type": "code",
   "execution_count": 45,
   "id": "ebc993a7",
   "metadata": {},
   "outputs": [
    {
     "data": {
      "text/plain": [
       "N    18149\n",
       "Name: Duplicate, dtype: int64"
      ]
     },
     "execution_count": 45,
     "metadata": {},
     "output_type": "execute_result"
    }
   ],
   "source": [
    "####### Check for duplicates #######\n",
    "# bos_sample.groupby('Duplicate').count()\n",
    "bos_sample['Duplicate'].value_counts()"
   ]
  },
  {
   "cell_type": "code",
   "execution_count": 29,
   "id": "1d3a0038",
   "metadata": {},
   "outputs": [],
   "source": [
    "#split into departures from boston and arrive to boston\n",
    "bos_dep_sample = bos_sample.query('Origin == \"BOS\"')\n",
    "\n",
    "bos_arr_sample = bos_sample.query('Dest == \"BOS\"')"
   ]
  },
  {
   "cell_type": "code",
   "execution_count": 30,
   "id": "555aed6d",
   "metadata": {},
   "outputs": [
    {
     "name": "stdout",
     "output_type": "stream",
     "text": [
      "16.100909793661177\n",
      "19.646845454004875\n",
      "9.584023351402871\n",
      "19.72437004825162\n"
     ]
    }
   ],
   "source": [
    "#what is the average delay time for the flights to or from boston\n",
    "\n",
    "#departure delay: DepDelay - early departures as neg numbers\n",
    "print(bos_sample['DepDelay'].mean())\n",
    "\n",
    "#DepDel15(15 minutes or more as boolean)\n",
    "\n",
    "\n",
    "#DepDelayMinutes delays greater than 15 minutes - early departures set to 0\n",
    "print(bos_sample['DepDelayMinutes'].mean())\n",
    "\n",
    "#Arrival Delay: ArrDelay - early has neg num\n",
    "print(bos_sample['ArrDelay'].mean())\n",
    "\n",
    "# ArrDelayMinutes - arrival times, early set to 0\n",
    "print(bos_sample['ArrDelayMinutes'].mean())\n",
    "\n",
    "#ArrDel15 - arrival times more than 15 minutes as boolean\n"
   ]
  },
  {
   "cell_type": "code",
   "execution_count": 27,
   "id": "fe572e04",
   "metadata": {},
   "outputs": [
    {
     "name": "stdout",
     "output_type": "stream",
     "text": [
      "17.370546318289787\n",
      "20.62565320665083\n",
      "8.594404761904762\n",
      "19.840595238095236\n"
     ]
    }
   ],
   "source": [
    "#what is the average delay time for the flights from boston\n",
    "\n",
    "#departure delay: DepDelay - early departures as neg numbers\n",
    "print(bos_dep_sample['DepDelay'].mean())\n",
    "\n",
    "#DepDel15(15 minutes or more as boolean)\n",
    "\n",
    "#DepDelayMinutes delays greater than 15 minutes - early departures set to 0\n",
    "print(bos_dep_sample['DepDelayMinutes'].mean())\n",
    "\n",
    "#Arrival Delay: ArrDelay - early has neg num\n",
    "print(bos_dep_sample['ArrDelay'].mean())\n",
    "\n",
    "# ArrDelayMinutes - arrival times, early set to 0\n",
    "print(bos_dep_sample['ArrDelayMinutes'].mean())\n",
    "\n",
    "#ArrDel15 - arrival times more than 15 minutes as boolean"
   ]
  },
  {
   "cell_type": "code",
   "execution_count": 31,
   "id": "5e6d7052",
   "metadata": {},
   "outputs": [
    {
     "name": "stdout",
     "output_type": "stream",
     "text": [
      "14.827795641300465\n",
      "18.66535667500298\n",
      "10.575175867413854\n",
      "19.607964707285085\n"
     ]
    }
   ],
   "source": [
    "#what is the average delay time to the flights from boston\n",
    "\n",
    "#departure delay: DepDelay - early departures as neg numbers\n",
    "print(bos_arr_sample['DepDelay'].mean())\n",
    "\n",
    "#DepDel15(15 minutes or more as boolean)\n",
    "\n",
    "\n",
    "#DepDelayMinutes delays greater than 15 minutes - early departures set to 0\n",
    "print(bos_arr_sample['DepDelayMinutes'].mean())\n",
    "\n",
    "#Arrival Delay: ArrDelay - early has neg num\n",
    "print(bos_arr_sample['ArrDelay'].mean())\n",
    "\n",
    "# ArrDelayMinutes - arrival times, early set to 0\n",
    "print(bos_arr_sample['ArrDelayMinutes'].mean())\n",
    "\n",
    "#ArrDel15 - arrival times more than 15 minutes as boolean"
   ]
  },
  {
   "cell_type": "code",
   "execution_count": 46,
   "id": "9a96e7bc",
   "metadata": {},
   "outputs": [
    {
     "name": "stdout",
     "output_type": "stream",
     "text": [
      "[[2018 1 1 2 2 datetime.date(2018, 1, 2) 'DL' 'DL_CODESHARE' 19790 'DL'\n",
      "  3300 '' nan '' nan '9E' 20363 '9E' 'N300PQ' 3300 11193 1119302 33105\n",
      "  'CVG' 'Cincinnati, OH' 'KY' 21 'Kentucky' 52 10721 1072102 30721 'BOS'\n",
      "  'Boston, MA' 'MA' 25 'Massachusetts' 13 910 1041.0 91.0 91.0 1.0 6.0\n",
      "  '0900-0959' 15.0 1056.0 1237.0 10.0 1119 1247.0 88.0 88.0 1.0 5.0\n",
      "  '1100-1159' 0.0 '' 0.0 129.0 126.0 101.0 1.0 752.0 4 88.0 0.0 0.0 0.0\n",
      "  0.0 nan nan nan 0 nan nan nan nan '' nan nan nan nan nan nan '' '' nan\n",
      "  nan nan nan nan nan '' None None None None None None None None None\n",
      "  None None None None None None None None None None None None None None\n",
      "  None 'N' None]\n",
      " [2018 1 1 3 3 datetime.date(2018, 1, 3) 'DL' 'DL_CODESHARE' 19790 'DL'\n",
      "  3303 '' nan '' nan '9E' 20363 '9E' 'N905XJ' 3303 14492 1449202 34492\n",
      "  'RDU' 'Raleigh/Durham, NC' 'NC' 37 'North Carolina' 36 10721 1072102\n",
      "  30721 'BOS' 'Boston, MA' 'MA' 25 'Massachusetts' 13 1420 1423.0 3.0 3.0\n",
      "  0.0 0.0 '1400-1459' 12.0 1435.0 1559.0 6.0 1619 1605.0 -14.0 0.0 0.0\n",
      "  -1.0 '1600-1659' 0.0 '' 0.0 119.0 102.0 84.0 1.0 612.0 3 nan nan nan\n",
      "  nan nan nan nan nan 0 nan nan nan nan '' nan nan nan nan nan nan '' ''\n",
      "  nan nan nan nan nan nan '' None None None None None None None None None\n",
      "  None None None None None None None None None None None None None None\n",
      "  None 'N' None]]\n"
     ]
    }
   ],
   "source": [
    "bos = sample.query('Origin == \"BOS\" or Dest == \"BOS\"').to_numpy()\n",
    "# sample['Origin']\n",
    "# sample['OriginAirportSeqID']\n",
    "print(bos[0:2])"
   ]
  },
  {
   "cell_type": "code",
   "execution_count": 49,
   "id": "7f1aeeba",
   "metadata": {},
   "outputs": [
    {
     "data": {
      "text/plain": [
       "array([1.])"
      ]
     },
     "execution_count": 49,
     "metadata": {},
     "output_type": "execute_result"
    }
   ],
   "source": [
    "bos_sample.Flights.unique()"
   ]
  },
  {
   "cell_type": "code",
   "execution_count": 58,
   "id": "fd859877",
   "metadata": {},
   "outputs": [
    {
     "data": {
      "text/plain": [
       "3.0       1291\n",
       "2.0       1290\n",
       "1.0       1262\n",
       "4.0       1246\n",
       "5.0       1225\n",
       "          ... \n",
       "777.0        1\n",
       "822.0        1\n",
       "529.0        1\n",
       "1287.0       1\n",
       "1118.0       1\n",
       "Name: CarrierDelay, Length: 708, dtype: int64"
      ]
     },
     "execution_count": 58,
     "metadata": {},
     "output_type": "execute_result"
    }
   ],
   "source": [
    "sample_carr_delay = sample.query('CarrierDelay != 0.0')\n",
    "sample_carr_delay['CarrierDelay'].value_counts()"
   ]
  },
  {
   "cell_type": "code",
   "execution_count": 60,
   "id": "675d09d5",
   "metadata": {},
   "outputs": [
    {
     "data": {
      "text/plain": [
       "4.0      149\n",
       "7.0      144\n",
       "6.0      138\n",
       "9.0      134\n",
       "15.0     132\n",
       "        ... \n",
       "315.0      1\n",
       "475.0      1\n",
       "527.0      1\n",
       "973.0      1\n",
       "878.0      1\n",
       "Name: WeatherDelay, Length: 476, dtype: int64"
      ]
     },
     "execution_count": 60,
     "metadata": {},
     "output_type": "execute_result"
    }
   ],
   "source": [
    "sample_weath_delay = sample.query('WeatherDelay != 0.0')\n",
    "sample_weath_delay['WeatherDelay'].value_counts()"
   ]
  },
  {
   "cell_type": "code",
   "execution_count": 62,
   "id": "9e0a4c17",
   "metadata": {},
   "outputs": [
    {
     "data": {
      "text/plain": [
       "1.0       1616\n",
       "15.0      1563\n",
       "16.0      1430\n",
       "2.0       1390\n",
       "3.0       1291\n",
       "          ... \n",
       "1180.0       1\n",
       "492.0        1\n",
       "239.0        1\n",
       "743.0        1\n",
       "368.0        1\n",
       "Name: NASDelay, Length: 375, dtype: int64"
      ]
     },
     "execution_count": 62,
     "metadata": {},
     "output_type": "execute_result"
    }
   ],
   "source": [
    "sample_nas_delay = sample.query('NASDelay != 0.0')\n",
    "sample_nas_delay['NASDelay'].value_counts()"
   ]
  },
  {
   "cell_type": "code",
   "execution_count": 64,
   "id": "0c328d0b",
   "metadata": {},
   "outputs": [
    {
     "data": {
      "text/plain": [
       "16.0    11\n",
       "4.0     10\n",
       "10.0    10\n",
       "18.0     9\n",
       "15.0     8\n",
       "        ..\n",
       "76.0     1\n",
       "56.0     1\n",
       "66.0     1\n",
       "96.0     1\n",
       "39.0     1\n",
       "Name: SecurityDelay, Length: 74, dtype: int64"
      ]
     },
     "execution_count": 64,
     "metadata": {},
     "output_type": "execute_result"
    }
   ],
   "source": [
    "sample_sec_delay = sample.query('SecurityDelay != 0.0')\n",
    "sample_sec_delay['SecurityDelay'].value_counts()"
   ]
  },
  {
   "cell_type": "code",
   "execution_count": 65,
   "id": "63d376ee",
   "metadata": {},
   "outputs": [
    {
     "data": {
      "text/plain": [
       "15.0      945\n",
       "16.0      938\n",
       "17.0      928\n",
       "18.0      842\n",
       "19.0      770\n",
       "         ... \n",
       "981.0       1\n",
       "1379.0      1\n",
       "656.0       1\n",
       "746.0       1\n",
       "280.0       1\n",
       "Name: LateAircraftDelay, Length: 493, dtype: int64"
      ]
     },
     "execution_count": 65,
     "metadata": {},
     "output_type": "execute_result"
    }
   ],
   "source": [
    "sample_lac_delay = sample.query('LateAircraftDelay != 0.0')\n",
    "sample_lac_delay['LateAircraftDelay'].value_counts()"
   ]
  },
  {
   "cell_type": "code",
   "execution_count": null,
   "id": "22198dd8",
   "metadata": {},
   "outputs": [],
   "source": [
    "# file = open(\"/app/raw/Flights_2018_1.csv\")\n",
    "# print(file.readline())\n",
    "# print(file.readline())\n",
    "# bos = file[np.where(OriginAirportID == \"BOS\")]\n",
    "# print(bos)\n",
    "\n",
    "# for i in file:\n",
    "#     print(i)\n",
    "\n",
    "\n"
   ]
  },
  {
   "cell_type": "code",
   "execution_count": null,
   "id": "68d62969",
   "metadata": {},
   "outputs": [],
   "source": [
    "# file_csv = '../../res/Combined_Flights_2021.csv'\n",
    "# for line in list(pq_file.columns):\n",
    "#     print(line)\n",
    "# print(csv_file.columns)\n",
    "\n",
    "# pd.read_csv(file_csv)"
   ]
  },
  {
   "cell_type": "code",
   "execution_count": 15,
   "id": "0f1ff742",
   "metadata": {},
   "outputs": [
    {
     "name": "stdout",
     "output_type": "stream",
     "text": [
      "[(1, 'testing'), (2, 'today')]\n"
     ]
    }
   ],
   "source": [
    "###### Dan's adding files to postgres ######\n",
    "#testing the postgresql server\n",
    "# url_object = URL.create(\n",
    "#     \"postgresql+psycopg2\",\n",
    "#     username=\"postgres\",\n",
    "#     password=\"postgres\",\n",
    "#     host=\"flights-db\",\n",
    "#     port=\"5432\",\n",
    "#     database=\"flights\"\n",
    "# )\n",
    "\n",
    "# db = create_engine(url_object)k\n",
    "\n",
    "# with db.connect() as conn:\n",
    "#     s = \n",
    "    # for row in conn.execute()\n",
    "\n",
    "conn_string = \"host='flights-db' dbname='flights' user='postgres' password='postgres'\"\n",
    "with psycopg2.connect(conn_string) as conn:\n",
    "    cursor = conn.cursor()\n",
    "    cursor.execute(\"SELECT * FROM demo\")\n",
    "    records = cursor.fetchall()\n",
    "    print(records)"
   ]
  }
 ],
 "metadata": {
  "kernelspec": {
   "display_name": "Python 3 (ipykernel)",
   "language": "python",
   "name": "python3"
  },
  "language_info": {
   "codemirror_mode": {
    "name": "ipython",
    "version": 3
   },
   "file_extension": ".py",
   "mimetype": "text/x-python",
   "name": "python",
   "nbconvert_exporter": "python",
   "pygments_lexer": "ipython3",
   "version": "3.11.0"
  }
 },
 "nbformat": 4,
 "nbformat_minor": 5
}
