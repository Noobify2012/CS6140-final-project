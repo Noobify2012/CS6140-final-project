{
 "cells": [
  {
   "cell_type": "code",
   "execution_count": 6,
   "id": "4d0df13c-9bc8-4ad3-975f-85c7278a723a",
   "metadata": {
    "tags": []
   },
   "outputs": [
    {
     "name": "stdout",
     "output_type": "stream",
     "text": [
      "I'm loaded\n"
     ]
    }
   ],
   "source": [
    "#Authors: Dan Blum, Matt Greene, Bram Zilzter\n",
    "#Dataset: https://www.kaggle.com/datasets/robikscube/flight-delay-dataset-20182022?select=readme.md\n",
    "\n",
    "import pandas as pd\n",
    "import os\n",
    "import numpy as np\n",
    "import psycopg2\n",
    "# from sqlalchemy import create_engine, URL, MetaData\n",
    "# import scipy.io\n",
    "\n",
    "# test_file = '/app/res/test.csv'\n",
    "\n",
    "# file = '../../res/Combined_Flights_2021.parquet'\n",
    "# file = './res/Combined_Flights_2021.parquet'\n",
    "test_file = '/app/raw/Flights_2018_1.csv'\n",
    "# csv_file = pd.read_csv(file_2022_6, engine='pyarrow')\n",
    "# print(list(csv_file.columns))\n",
    "# for line in list(csv_file.columns):\n",
    "#     print(line)\n",
    "sample = pd.read_csv(test_file, engine='pyarrow')\n",
    "print(\"I'm loaded\")"
   ]
  },
  {
   "cell_type": "code",
   "execution_count": 42,
   "id": "49b11ff2",
   "metadata": {},
   "outputs": [],
   "source": [
    "# sample = csv_file.sample(n = 100000)\n",
    "# sample.to_csv(\"../../res/test.csv\", index=False)\n",
    "# sample.head(3).to_csv(\"res/sample.csv\")"
   ]
  },
  {
   "cell_type": "code",
   "execution_count": null,
   "id": "cb4a03fe",
   "metadata": {},
   "outputs": [],
   "source": [
    "# single_sample = csv_file(n = 100000)\n",
    "# sample.to_csv(\"../../res/test.csv\", index=False)"
   ]
  },
  {
   "cell_type": "code",
   "execution_count": 32,
   "id": "93bf80b7",
   "metadata": {},
   "outputs": [
    {
     "name": "stdout",
     "output_type": "stream",
     "text": [
      "18149\n"
     ]
    }
   ],
   "source": [
    "####### START OF EDA #######\n",
    "#get all the flights in the first file that either depart from or arrive to boston\n",
    "bos_sample = sample.query('Origin == \"BOS\" or Dest == \"BOS\"')\n",
    "#print the number of flights from or to boston \n",
    "print(len(bos_sample.index))"
   ]
  },
  {
   "cell_type": "code",
   "execution_count": 40,
   "id": "b610bfc4",
   "metadata": {},
   "outputs": [
    {
     "data": {
      "text/plain": [
       "dtype('O')"
      ]
     },
     "execution_count": 40,
     "metadata": {},
     "output_type": "execute_result"
    }
   ],
   "source": [
    "bos_sample.dtypes\n",
    "###Flight date is actually in ISO 8601 format(YYYYMMDD), pandas doesn't recognize it, we can probably drop Year, Quarter, Month, DayofMonth, DayofWeek\n",
    "bos_sample.FlightDate.dtype #need to give input format for ISO 8601 "
   ]
  },
  {
   "cell_type": "code",
   "execution_count": 45,
   "id": "ebc993a7",
   "metadata": {},
   "outputs": [
    {
     "data": {
      "text/plain": [
       "N    18149\n",
       "Name: Duplicate, dtype: int64"
      ]
     },
     "execution_count": 45,
     "metadata": {},
     "output_type": "execute_result"
    }
   ],
   "source": [
    "####### Check for duplicates #######\n",
    "# bos_sample.groupby('Duplicate').count()\n",
    "bos_sample['Duplicate'].value_counts()"
   ]
  },
  {
   "cell_type": "code",
   "execution_count": 29,
   "id": "1d3a0038",
   "metadata": {},
   "outputs": [],
   "source": [
    "#split into departures from boston and arrive to boston\n",
    "bos_dep_sample = bos_sample.query('Origin == \"BOS\"')\n",
    "\n",
    "bos_arr_sample = bos_sample.query('Dest == \"BOS\"')"
   ]
  },
  {
   "cell_type": "code",
   "execution_count": 30,
   "id": "555aed6d",
   "metadata": {},
   "outputs": [
    {
     "name": "stdout",
     "output_type": "stream",
     "text": [
      "16.100909793661177\n",
      "19.646845454004875\n",
      "9.584023351402871\n",
      "19.72437004825162\n"
     ]
    }
   ],
   "source": [
    "#what is the average delay time for the flights to or from boston\n",
    "\n",
    "#departure delay: DepDelay - early departures as neg numbers\n",
    "print(bos_sample['DepDelay'].mean())\n",
    "\n",
    "#DepDel15(15 minutes or more as boolean)\n",
    "\n",
    "\n",
    "#DepDelayMinutes delays greater than 15 minutes - early departures set to 0\n",
    "print(bos_sample['DepDelayMinutes'].mean())\n",
    "\n",
    "#Arrival Delay: ArrDelay - early has neg num\n",
    "print(bos_sample['ArrDelay'].mean())\n",
    "\n",
    "# ArrDelayMinutes - arrival times, early set to 0\n",
    "print(bos_sample['ArrDelayMinutes'].mean())\n",
    "\n",
    "#ArrDel15 - arrival times more than 15 minutes as boolean\n"
   ]
  },
  {
   "cell_type": "code",
   "execution_count": 27,
   "id": "fe572e04",
   "metadata": {},
   "outputs": [
    {
     "name": "stdout",
     "output_type": "stream",
     "text": [
      "17.370546318289787\n",
      "20.62565320665083\n",
      "8.594404761904762\n",
      "19.840595238095236\n"
     ]
    }
   ],
   "source": [
    "#what is the average delay time for the flights from boston\n",
    "\n",
    "#departure delay: DepDelay - early departures as neg numbers\n",
    "print(bos_dep_sample['DepDelay'].mean())\n",
    "\n",
    "#DepDel15(15 minutes or more as boolean)\n",
    "\n",
    "#DepDelayMinutes delays greater than 15 minutes - early departures set to 0\n",
    "print(bos_dep_sample['DepDelayMinutes'].mean())\n",
    "\n",
    "#Arrival Delay: ArrDelay - early has neg num\n",
    "print(bos_dep_sample['ArrDelay'].mean())\n",
    "\n",
    "# ArrDelayMinutes - arrival times, early set to 0\n",
    "print(bos_dep_sample['ArrDelayMinutes'].mean())\n",
    "\n",
    "#ArrDel15 - arrival times more than 15 minutes as boolean"
   ]
  },
  {
   "cell_type": "code",
   "execution_count": 31,
   "id": "5e6d7052",
   "metadata": {},
   "outputs": [
    {
     "name": "stdout",
     "output_type": "stream",
     "text": [
      "14.827795641300465\n",
      "18.66535667500298\n",
      "10.575175867413854\n",
      "19.607964707285085\n"
     ]
    }
   ],
   "source": [
    "#what is the average delay time to the flights from boston\n",
    "\n",
    "#departure delay: DepDelay - early departures as neg numbers\n",
    "print(bos_arr_sample['DepDelay'].mean())\n",
    "\n",
    "#DepDel15(15 minutes or more as boolean)\n",
    "\n",
    "\n",
    "#DepDelayMinutes delays greater than 15 minutes - early departures set to 0\n",
    "print(bos_arr_sample['DepDelayMinutes'].mean())\n",
    "\n",
    "#Arrival Delay: ArrDelay - early has neg num\n",
    "print(bos_arr_sample['ArrDelay'].mean())\n",
    "\n",
    "# ArrDelayMinutes - arrival times, early set to 0\n",
    "print(bos_arr_sample['ArrDelayMinutes'].mean())\n",
    "\n",
    "#ArrDel15 - arrival times more than 15 minutes as boolean"
   ]
  },
  {
   "cell_type": "code",
   "execution_count": 5,
   "id": "9a96e7bc",
   "metadata": {},
   "outputs": [
    {
     "name": "stdout",
     "output_type": "stream",
     "text": [
      "[[2018 1 1 5 5 datetime.date(2018, 1, 5) 'B6' 'B6' 20409 'B6' 797 '' nan\n",
      "  '' nan 'B6' 20409 'B6' 'N663JB' 797 10721 1072102 30721 'BOS'\n",
      "  'Boston, MA' 'MA' 25 'Massachusetts' 13 10397 1039707 30397 'ATL'\n",
      "  'Atlanta, GA' 'GA' 13 'Georgia' 34 1607 1902.0 175.0 175.0 1.0 11.0\n",
      "  '1600-1659' 29.0 1931.0 2150.0 8.0 1907 2158.0 171.0 171.0 1.0 11.0\n",
      "  '1900-1959' 0.0 '' 0.0 180.0 176.0 139.0 1.0 946.0 4 171.0 0.0 0.0 0.0\n",
      "  0.0 nan nan nan 0 nan nan nan nan '' nan nan nan nan nan nan '' '' nan\n",
      "  nan nan nan nan nan '' None None None None None None None None None\n",
      "  None None None None None None None None None None None None None None\n",
      "  None 'N' None]\n",
      " [2018 1 1 10 3 datetime.date(2018, 1, 10) 'B6' 'B6' 20409 'B6' 504 ''\n",
      "  nan '' nan 'B6' 20409 'B6' 'N629JB' 504 12954 1295406 32575 'LGB'\n",
      "  'Long Beach, CA' 'CA' 6 'California' 91 10721 1072102 30721 'BOS'\n",
      "  'Boston, MA' 'MA' 25 'Massachusetts' 13 2115 2116.0 1.0 1.0 0.0 0.0\n",
      "  '2100-2159' 9.0 2125.0 517.0 5.0 529 522.0 -7.0 0.0 0.0 -1.0\n",
      "  '0001-0559' 0.0 '' 0.0 314.0 306.0 292.0 1.0 2602.0 11 nan nan nan nan\n",
      "  nan nan nan nan 0 nan nan nan nan '' nan nan nan nan nan nan '' '' nan\n",
      "  nan nan nan nan nan '' None None None None None None None None None\n",
      "  None None None None None None None None None None None None None None\n",
      "  None 'N' None]]\n"
     ]
    }
   ],
   "source": [
    "bos = sample.query('Origin == \"BOS\" or Dest == \"BOS\"').to_numpy()\n",
    "# sample['Origin']\n",
    "# sample['OriginAirportSeqID']\n",
    "print(bos[0:2])"
   ]
  },
  {
   "cell_type": "code",
   "execution_count": null,
   "id": "22198dd8",
   "metadata": {},
   "outputs": [],
   "source": [
    "# file = open(\"/app/raw/Flights_2018_1.csv\")\n",
    "# print(file.readline())\n",
    "# print(file.readline())\n",
    "# bos = file[np.where(OriginAirportID == \"BOS\")]\n",
    "# print(bos)\n",
    "\n",
    "# for i in file:\n",
    "#     print(i)\n",
    "\n",
    "\n"
   ]
  },
  {
   "cell_type": "code",
   "execution_count": null,
   "id": "68d62969",
   "metadata": {},
   "outputs": [],
   "source": [
    "# file_csv = '../../res/Combined_Flights_2021.csv'\n",
    "# for line in list(pq_file.columns):\n",
    "#     print(line)\n",
    "# print(csv_file.columns)\n",
    "\n",
    "# pd.read_csv(file_csv)"
   ]
  },
  {
   "cell_type": "code",
   "execution_count": 15,
   "id": "0f1ff742",
   "metadata": {},
   "outputs": [
    {
     "name": "stdout",
     "output_type": "stream",
     "text": [
      "[(1, 'testing'), (2, 'today')]\n"
     ]
    }
   ],
   "source": [
    "###### Dan's adding files to postgres ######\n",
    "#testing the postgresql server\n",
    "# url_object = URL.create(\n",
    "#     \"postgresql+psycopg2\",\n",
    "#     username=\"postgres\",\n",
    "#     password=\"postgres\",\n",
    "#     host=\"flights-db\",\n",
    "#     port=\"5432\",\n",
    "#     database=\"flights\"\n",
    "# )\n",
    "\n",
    "# db = create_engine(url_object)k\n",
    "\n",
    "# with db.connect() as conn:\n",
    "#     s = \n",
    "    # for row in conn.execute()\n",
    "\n",
    "conn_string = \"host='flights-db' dbname='flights' user='postgres' password='postgres'\"\n",
    "with psycopg2.connect(conn_string) as conn:\n",
    "    cursor = conn.cursor()\n",
    "    cursor.execute(\"SELECT * FROM demo\")\n",
    "    records = cursor.fetchall()\n",
    "    print(records)"
   ]
  }
 ],
 "metadata": {
  "kernelspec": {
   "display_name": "Python 3 (ipykernel)",
   "language": "python",
   "name": "python3"
  },
  "language_info": {
   "codemirror_mode": {
    "name": "ipython",
    "version": 3
   },
   "file_extension": ".py",
   "mimetype": "text/x-python",
   "name": "python",
   "nbconvert_exporter": "python",
   "pygments_lexer": "ipython3",
   "version": "3.11.0"
  }
 },
 "nbformat": 4,
 "nbformat_minor": 5
}
