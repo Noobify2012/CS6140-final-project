{
 "cells": [
  {
   "cell_type": "code",
   "execution_count": 1,
   "metadata": {},
   "outputs": [
    {
     "name": "stderr",
     "output_type": "stream",
     "text": [
      "<jemalloc>: MADV_DONTNEED does not work (memset will be used instead)\n",
      "<jemalloc>: (This is the expected behaviour if you are running under QEMU)\n"
     ]
    }
   ],
   "source": [
    "#Authors: Dan Blum, Matt Greene, Bram Zilzter\n",
    "#Dataset: https://www.kaggle.com/datasets/robikscube/flight-delay-dataset-20182022?select=readme.md\n",
    "\n",
    "import pandas as pd\n",
    "import os"
   ]
  },
  {
   "cell_type": "code",
   "execution_count": 8,
   "metadata": {},
   "outputs": [],
   "source": [
    "def readfile(path):\n",
    "    #read csv into data frame\n",
    "    init_frame = pd.read_csv(path, engine='pyarrow')\n",
    "    #grab columns we need\n",
    "    #Year, Month, DayofMonth, Operating_Airline, Origin, Dest, ArrDel15, DistanceGroup, CarrierDelay, WeatherDelay, NASDelay, SecurityDelay, LateAircraftDelay, Duplicate\n",
    "    frame = init_frame[['Year', 'Month', 'DayofMonth', 'Operating_Airline ', 'Origin', 'Dest', 'ArrDel15', 'DistanceGroup', 'CarrierDelay', 'WeatherDelay', 'NASDelay', 'SecurityDelay', 'LateAircraftDelay', 'Duplicate']].copy()\n",
    "    #get rid of space in operating airline\n",
    "    frame.rename(columns={\"Operating_Airline \": \"Operating_Airline\"})\n",
    "    return frame\n",
    "\n"
   ]
  },
  {
   "cell_type": "code",
   "execution_count": 9,
   "metadata": {},
   "outputs": [
    {
     "name": "stdout",
     "output_type": "stream",
     "text": [
      "Year                  2018\n",
      "Month                    1\n",
      "DayofMonth              23\n",
      "Operating_Airline       9E\n",
      "Origin                 ABY\n",
      "Dest                   ATL\n",
      "ArrDel15               0.0\n",
      "DistanceGroup            1\n",
      "CarrierDelay           NaN\n",
      "WeatherDelay           NaN\n",
      "NASDelay               NaN\n",
      "SecurityDelay          NaN\n",
      "LateAircraftDelay      NaN\n",
      "Duplicate                N\n",
      "Name: 0, dtype: object\n"
     ]
    }
   ],
   "source": [
    "test_file = '/app/raw/Flights_2018_1.csv'\n",
    "test_frame = readfile(test_file)\n",
    "print(test_frame.iloc[0])"
   ]
  },
  {
   "cell_type": "code",
   "execution_count": null,
   "metadata": {},
   "outputs": [],
   "source": []
  }
 ],
 "metadata": {
  "kernelspec": {
   "display_name": "Python 3 (ipykernel)",
   "language": "python",
   "name": "python3"
  },
  "language_info": {
   "codemirror_mode": {
    "name": "ipython",
    "version": 3
   },
   "file_extension": ".py",
   "mimetype": "text/x-python",
   "name": "python",
   "nbconvert_exporter": "python",
   "pygments_lexer": "ipython3",
   "version": "3.11.0"
  },
  "orig_nbformat": 4
 },
 "nbformat": 4,
 "nbformat_minor": 2
}
