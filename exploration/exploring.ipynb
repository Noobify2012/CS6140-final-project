{
 "cells": [
  {
   "cell_type": "code",
   "execution_count": null,
   "id": "4d0df13c-9bc8-4ad3-975f-85c7278a723a",
   "metadata": {
    "tags": []
   },
   "outputs": [],
   "source": [
    "import pandas as pd\n",
    "import os\n",
    "import numpy as np\n",
    "from final_project import builder, loader\n",
    "\n",
    "\n",
    "# df = loader.get_df(file=\"Flights_2018_1.csv\")\n",
    "# searchString = \"Flights_2018_1.csv\"\n",
    "searchString = \"2020\"\n",
    "\n",
    "df = loader.get_df(year=searchString)\n",
    "# # print(df.columns)\n",
    "# # df.head()\n",
    "dfs = builder.columnManager(df)\n",
    "builder.runEDA(dfs,searchString)\n",
    "# builder.boxplotData(dfs,searchString)\n",
    "# builder.airlineAnalysis(dfs)\n",
    "# builder.originAnalysis(df, 20)\n",
    "# builder.destAnalysis(df, 20)\n",
    "\n",
    "# if 'Duplicate' in df.columns:\n",
    "#     print(\"found duplicate\")\n",
    "\n",
    "# dfs = builder.encodeFrame(df)\n",
    "# print(dfs.columns)\n",
    "\n",
    "\n"
   ]
  }
 ],
 "metadata": {
  "kernelspec": {
   "display_name": "Python 3 (ipykernel)",
   "language": "python",
   "name": "python3"
  },
  "language_info": {
   "codemirror_mode": {
    "name": "ipython",
    "version": 3
   },
   "file_extension": ".py",
   "mimetype": "text/x-python",
   "name": "python",
   "nbconvert_exporter": "python",
   "pygments_lexer": "ipython3",
   "version": "3.10.10"
  }
 },
 "nbformat": 4,
 "nbformat_minor": 5
}
