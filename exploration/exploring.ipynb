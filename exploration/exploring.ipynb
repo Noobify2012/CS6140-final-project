{
 "cells": [
  {
   "cell_type": "code",
   "execution_count": null,
   "id": "4d0df13c-9bc8-4ad3-975f-85c7278a723a",
   "metadata": {
    "tags": []
   },
   "outputs": [],
   "source": [
    "import pandas as pd\n",
    "import os\n",
    "import numpy as np\n",
    "import seaborn as sns\n",
    "import matplotlib.pyplot as plt\n",
    "from final_project import builder, loader\n",
    "\n",
    "\n",
    "# df = loader.get_df(file=\"Flights_2018_1.csv\")\n",
    "# searchString = \"Flights_2018_1.csv\"\n",
    "years = ['2018', '2019', '2020', '2021', '2022']\n",
    "# years = ['2022']\n",
    "for year in years:\n",
    "    searchString = year\n",
    "\n",
    "\n",
    "    dfs = loader.get_df(year=searchString)\n",
    "# # print(df.columns)\n",
    "# # df.head()\n",
    "    dfs = builder.columnManager(dfs)\n",
    "    builder.boxplotData(dfs,searchString)\n",
    "    # builder.runEDA(dfs,searchString)\n",
    "# builder.boxplotData(dfs,searchString)\n",
    "# builder.airlineAnalysis(dfs)\n",
    "# builder.originAnalysis(df, 20)\n",
    "# builder.destAnalysis(df, 20)\n",
    "\n",
    "# if 'Duplicate' in df.columns:\n",
    "#     print(\"found duplicate\")\n",
    "\n",
    "# dfs = builder.encodeFrame(df)\n",
    "# print(dfs.columns)\n",
    "\n",
    "# dfs = builder.encodeFrame(dfs)\n",
    "    data = dfs\n",
    "\n",
    "\n",
    "# X = data[['Year', 'Month', 'DayofMonth', 'Operating_Airline', 'Origin', 'Dest',  'DistanceGroup', 'CarrierDelay', 'WeatherDelay', 'NASDelay', 'SecurityDelay', 'LateAircraftDelay']].copy()  #independent columns\n",
    "    Y = data[['ArrDel15']].copy()    #target column i.e price range\n",
    "# if 'ArrDel15' in data:\n",
    "    # print(\"found delays\")\n",
    "    data = data.drop(columns=['ArrDel15'])\n",
    "# if 'ArrDel15' in data:\n",
    "    # print(\"found delays again\")\n",
    "    X = data.copy()\n",
    "# X = data.drop(['ArrDel15']) #independent columns\n",
    "\n",
    "\n",
    "\n",
    "# #get correlations of each features in dataset\n",
    "# # print(\"X columns: \" + X.columns)\n",
    "#     corrmat = data.corr()\n",
    "#     top_corr_features = corrmat.index\n",
    "#     plt.figure(figsize=(20,20))\n",
    "# #plot heat map\n",
    "#     g=sns.heatmap(data[top_corr_features].corr(),annot=True,cmap=\"Blues\")\n",
    "\n",
    "\n"
   ]
  },
  {
   "cell_type": "code",
   "execution_count": null,
   "id": "5d273d4e",
   "metadata": {},
   "outputs": [],
   "source": []
  }
 ],
 "metadata": {
  "kernelspec": {
   "display_name": "Python 3 (ipykernel)",
   "language": "python",
   "name": "python3"
  },
  "language_info": {
   "codemirror_mode": {
    "name": "ipython",
    "version": 3
   },
   "file_extension": ".py",
   "mimetype": "text/x-python",
   "name": "python",
   "nbconvert_exporter": "python",
   "pygments_lexer": "ipython3",
   "version": "3.10.10"
  }
 },
 "nbformat": 4,
 "nbformat_minor": 5
}
