{
 "cells": [
  {
   "cell_type": "code",
   "execution_count": 1,
   "id": "4d0df13c-9bc8-4ad3-975f-85c7278a723a",
   "metadata": {
    "tags": []
   },
   "outputs": [
    {
     "name": "stdout",
     "output_type": "stream",
     "text": [
      "found duplicate\n",
      "length of vars to be dropped: 3\n",
      "Index(['Quarter', 'DayOfWeek', 'FlightDate', 'Marketing_Airline_Network',\n",
      "       'Operated_or_Branded_Code_Share_Partners', 'DOT_ID_Marketing_Airline',\n",
      "       'IATA_Code_Marketing_Airline', 'Flight_Number_Marketing_Airline',\n",
      "       'Originally_Scheduled_Code_Share_Airline',\n",
      "       'DOT_ID_Originally_Scheduled_Code_Share_Airline',\n",
      "       ...\n",
      "       'Dest_TYS', 'Dest_UIN', 'Dest_USA', 'Dest_VLD', 'Dest_VPS', 'Dest_WRG',\n",
      "       'Dest_XNA', 'Dest_YAK', 'Dest_YKM', 'Dest_YNG'],\n",
      "      dtype='object', length=745)\n",
      "made it past that stupid thing\n",
      "Index(['Quarter', 'DayOfWeek', 'FlightDate', 'Marketing_Airline_Network',\n",
      "       'Operated_or_Branded_Code_Share_Partners', 'DOT_ID_Marketing_Airline',\n",
      "       'IATA_Code_Marketing_Airline', 'Flight_Number_Marketing_Airline',\n",
      "       'Originally_Scheduled_Code_Share_Airline',\n",
      "       'DOT_ID_Originally_Scheduled_Code_Share_Airline',\n",
      "       ...\n",
      "       'Dest_TYS', 'Dest_UIN', 'Dest_USA', 'Dest_VLD', 'Dest_VPS', 'Dest_WRG',\n",
      "       'Dest_XNA', 'Dest_YAK', 'Dest_YKM', 'Dest_YNG'],\n",
      "      dtype='object', length=744)\n"
     ]
    }
   ],
   "source": [
    "import pandas as pd\n",
    "import os\n",
    "import numpy as np\n",
    "from final_project import builder, loader\n",
    "\n",
    "\n",
    "# df = loader.get_df(file=\"Flights_2018_1.csv\")\n",
    "# # print(df.columns)\n",
    "# # df.head()\n",
    "# # dfs = builder.columnManager(df)\n",
    "# if 'Duplicate' in df.columns:\n",
    "#     print(\"found duplicate\")\n",
    "\n",
    "# dfs = builder.encodeFrame(df)\n",
    "# print(dfs.columns)\n",
    "\n",
    "\n"
   ]
  },
  {
   "cell_type": "code",
   "execution_count": null,
   "id": "1601ce87",
   "metadata": {},
   "outputs": [],
   "source": []
  },
  {
   "cell_type": "code",
   "execution_count": null,
   "id": "7618312a",
   "metadata": {},
   "outputs": [],
   "source": []
  }
 ],
 "metadata": {
  "kernelspec": {
   "display_name": "Python 3 (ipykernel)",
   "language": "python",
   "name": "python3"
  },
  "language_info": {
   "codemirror_mode": {
    "name": "ipython",
    "version": 3
   },
   "file_extension": ".py",
   "mimetype": "text/x-python",
   "name": "python",
   "nbconvert_exporter": "python",
   "pygments_lexer": "ipython3",
   "version": "3.10.10"
  }
 },
 "nbformat": 4,
 "nbformat_minor": 5
}
