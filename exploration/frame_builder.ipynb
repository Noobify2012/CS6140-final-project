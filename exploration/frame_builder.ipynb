{
 "cells": [
  {
   "cell_type": "code",
   "execution_count": null,
   "metadata": {},
   "outputs": [],
   "source": [
    "#Authors: Dan Blum, Matt Greene, Bram Zilzter\n",
    "#Dataset: https://www.kaggle.com/datasets/robikscube/flight-delay-dataset-20182022?select=readme.md\n",
    "\n",
    "%load_ext autoreload\n",
    "%autoreload 2\n",
    "from final_project import loader, builder\n",
    "import pandas as pd\n",
    "import matplotlib.pyplot as plt\n",
    "from sklearn.preprocessing import OneHotEncoder\n",
    "# add dataframe with Distance included\n"
   ]
  },
  {
   "cell_type": "code",
   "execution_count": null,
   "metadata": {},
   "outputs": [],
   "source": [
    "keep_columns = [\n",
    "    'Year',\n",
    "    'Month',\n",
    "    'DayofMonth',\n",
    "    'Operating_Airline',\n",
    "    'Origin',\n",
    "    'Dest',\n",
    "    'ArrDel15',\n",
    "    'DistanceGroup',\n",
    "    'CarrierDelay',\n",
    "    'WeatherDelay',\n",
    "    'NASDelay',\n",
    "    'SecurityDelay',\n",
    "    'LateAircraftDelay',\n",
    "    'Duplicate'\n",
    "]\n",
    "\n",
    "# test_file = 'Flights_2018_1.csv'\n",
    "test_frame = loader.get_df(year=2019)\n",
    "\n",
    "# test_frame = loader.get_df(file=test_file)\n",
    "test_frame = test_frame[keep_columns].copy()\n",
    "print(test_frame.iloc[0])\n"
   ]
  },
  {
   "cell_type": "code",
   "execution_count": null,
   "metadata": {},
   "outputs": [],
   "source": [
    "builder.runEDA(test_frame)\n"
   ]
  },
  {
   "cell_type": "code",
   "execution_count": null,
   "metadata": {},
   "outputs": [],
   "source": [
    "test_frame_encoded = builder.encodeFrame(test_frame)\n",
    "# test_frame_encoded = builder.cyclical_encode_dmy(test_frame)\n",
    "test_frame_encoded.head(5)\n"
   ]
  },
  {
   "cell_type": "code",
   "execution_count": null,
   "metadata": {},
   "outputs": [],
   "source": []
  }
 ],
 "metadata": {
  "kernelspec": {
   "display_name": "Python 3 (ipykernel)",
   "language": "python",
   "name": "python3"
  },
  "language_info": {
   "codemirror_mode": {
    "name": "ipython",
    "version": 3
   },
   "file_extension": ".py",
   "mimetype": "text/x-python",
   "name": "python",
   "nbconvert_exporter": "python",
   "pygments_lexer": "ipython3",
   "version": "3.10.10"
  },
  "orig_nbformat": 4
 },
 "nbformat": 4,
 "nbformat_minor": 2
}
