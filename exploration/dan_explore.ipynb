{
 "cells": [
  {
   "cell_type": "code",
   "execution_count": null,
   "metadata": {},
   "outputs": [],
   "source": [
    "%load_ext autoreload\n",
    "%autoreload 2\n",
    "\n",
    "from final_project import loader, builder, models, plots\n",
    "from sklearn import datasets\n",
    "from sklearn.model_selection import train_test_split\n"
   ]
  },
  {
   "cell_type": "code",
   "execution_count": 2,
   "metadata": {},
   "outputs": [],
   "source": [
    "\n",
    "# df = loader.get_df(file=\"Flights_2018_1.csv\")\n",
    "df = loader.get_df(year=2018)\n",
    "\n",
    "# for c in df.columns:\n",
    "#     print(c)\n",
    "df = df[df['Origin'] == 'BOS']\n",
    "# df.drop(df[df['Origin'] == 'BOS'].index, inplace=True)\n",
    "\n",
    "# print(df)"
   ]
  },
  {
   "cell_type": "code",
   "execution_count": null,
   "metadata": {},
   "outputs": [],
   "source": [
    "\n",
    "\n",
    "# print(len(df.columns))\n",
    "# for c in df.columns:\n",
    "#     print(c)\n",
    "\n",
    "# df = loader.get_df(file=\"Flights_2018_1.csv\")\n",
    "df = df[[\n",
    "    'DistanceGroup',\n",
    "    'DayofMonth',\n",
    "    'Month',\n",
    "    'Year',\n",
    "    'Duplicate',\n",
    "    'ArrDel15',\n",
    "    'DistanceGroup',\n",
    "    'WeatherDelay',\n",
    "    'NASDelay',\n",
    "    'SecurityDelay'\n",
    "]]\n",
    "df = builder.encodeFrame(df)\n",
    "x = df.drop(columns=['ArrDel15'])\n",
    "y = df[['ArrDel15']]\n",
    "x_train, x_test, y_train, y_test = train_test_split(x, y, test_size=0.2, random_state=150)\n",
    "y_train = y_train.to_numpy().ravel()\n",
    "y_test = y_test.to_numpy().ravel()\n",
    "\n",
    "\n",
    "# x, y = datasets.make_classification(n_samples=1000, n_features=10, n_informative=3, n_classes=2, n_redundant=1, random_state=0)\n",
    "# x_train, x_test, y_train, y_test = train_test_split(x, y, test_size=0.3, random_state=0)"
   ]
  },
  {
   "cell_type": "code",
   "execution_count": null,
   "metadata": {},
   "outputs": [],
   "source": [
    "lr_pipeline = models.get_pipeline(models.ModelENUM.LR)\n",
    "param_grd = [\n",
    "    models.get_lr_param(penalty=[\"l1\"], c_list=[0.1], max_iter=[500])\n",
    "]\n",
    "grid_search = models.get_grid_search_cv(lr_pipeline, param_grd, cv=3, n_jobs=20)"
   ]
  },
  {
   "cell_type": "code",
   "execution_count": null,
   "metadata": {},
   "outputs": [],
   "source": [
    "model = grid_search.fit(x_train, y_train)"
   ]
  },
  {
   "cell_type": "code",
   "execution_count": null,
   "metadata": {},
   "outputs": [],
   "source": [
    "# models.analyze_model(model, x_test, x_train, y_test, y_train)\n",
    "models.analyze_model(model, x_test, x_train, y_test, y_train)"
   ]
  },
  {
   "cell_type": "code",
   "execution_count": null,
   "metadata": {},
   "outputs": [],
   "source": [
    "import numpy as np\n",
    "number_true = np.count_nonzero(y_test == 1)\n",
    "print(number_true)\n",
    "\n",
    "y_prob = model.predict_proba(x_test)[:, 1]\n",
    "y_pred = model.predict(x_test)\n",
    "plots.save_precision_recall_curve(\"lr\", \"test_file\", y_test, y_prob)\n",
    "plots.save_confusion_matrix(\"lr\", \"test_file\", y_test, y_pred)\n",
    "\n"
   ]
  }
 ],
 "metadata": {
  "kernelspec": {
   "display_name": "Python 3 (ipykernel)",
   "language": "python",
   "name": "python3"
  },
  "language_info": {
   "codemirror_mode": {
    "name": "ipython",
    "version": 3
   },
   "file_extension": ".py",
   "mimetype": "text/x-python",
   "name": "python",
   "nbconvert_exporter": "python",
   "pygments_lexer": "ipython3",
   "version": "3.11.1"
  }
 },
 "nbformat": 4,
 "nbformat_minor": 4
}
