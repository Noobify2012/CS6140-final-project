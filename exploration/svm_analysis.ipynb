{
 "cells": [
  {
   "cell_type": "code",
   "execution_count": 1,
   "metadata": {},
   "outputs": [],
   "source": [
    "%load_ext autoreload\n",
    "%autoreload 2\n",
    "\n",
    "import json\n",
    "import numpy as np\n",
    "import pandas as pd\n",
    "\n",
    "from final_project import loader, builder, models, plots\n",
    "from final_project.models import ModelENUM\n",
    "from pathlib import Path\n",
    "from sklearn.model_selection import train_test_split"
   ]
  },
  {
   "cell_type": "code",
   "execution_count": 2,
   "metadata": {},
   "outputs": [
    {
     "name": "stdout",
     "output_type": "stream",
     "text": [
      "(512522, 122)\n"
     ]
    }
   ],
   "source": [
    "df = loader.get_df(all_files=True)\n",
    "df = df[df['Origin'] == 'BOS']\n",
    "df = df[[\n",
    "    'DistanceGroup',\n",
    "    'DayofMonth',\n",
    "    'Month',\n",
    "    'Year',\n",
    "    'Duplicate',\n",
    "    'ArrDel15',\n",
    "    'DistanceGroup',\n",
    "    'WeatherDelay',\n",
    "    'NASDelay',\n",
    "    'SecurityDelay',\n",
    "    'Operating_Airline',\n",
    "    'Dest'\n",
    "]]\n",
    "df = builder.encodeFrame(df)\n",
    "\n",
    "delay_df = df[df['ArrDel15'] > 0.5].sample(n=2000)\n",
    "on_time_df = df[df['ArrDel15'] <= 0.5].sample(n=8000)\n",
    "sample_df = pd.concat([delay_df, on_time_df], ignore_index=True)\n",
    "\n",
    "\n",
    "x = sample_df.drop(columns=['ArrDel15'])\n",
    "y = sample_df[['ArrDel15']]\n",
    "x_train, x_test, y_train, y_test = train_test_split(x, y, test_size=0.2, random_state=150)\n",
    "print(df.shape)"
   ]
  },
  {
   "cell_type": "code",
   "execution_count": 6,
   "metadata": {},
   "outputs": [],
   "source": [
    "svm_pipeline = models.get_pipeline(ModelENUM.SVM)\n",
    "param_grid = [\n",
    "    models.get_svm_param(gamma=['auto', 'scale'], c_list=[1, 10], coef0=[0, 1, 2], degree=[2,3], kernel=['linear', 'poly'], max_iter=[5000], cache_size=[8000])\n",
    "    # models.get_svm_param(gamma=['auto', 'scale'], c_list=[.001, .01, 1, 10], coef0=[0, 1, 2], kernel=['linear', 'poly', 'rbf'], max_iter=[10000])\n",
    "    # models.get_svm_param(gamma=[2, 3, 4, 'scale', 'auto'], c_list=[1e-2, 1e-1, 1e1, 1e2], coef0=[0, 1, 2], kernel=['linear', 'poly', 'rbf'])\n",
    "    # models.get_svm_param(gamma=[2], c_list=[1e-2], coef0=[1], kernel=['linear'])\n",
    "]\n",
    "grid_search = models.get_grid_search_cv(\n",
    "    pipeline=svm_pipeline, param_grid=param_grid, cv=3, n_jobs=40\n",
    ")"
   ]
  },
  {
   "cell_type": "code",
   "execution_count": 7,
   "metadata": {},
   "outputs": [
    {
     "name": "stdout",
     "output_type": "stream",
     "text": [
      "Fitting 3 folds for each of 72 candidates, totalling 216 fits\n",
      "[CV 2/3; 2/72] START svm__C=0.001, svm__cache_size=4000, svm__coef0=0, svm__gamma=auto, svm__kernel=poly, svm__max_iter=10000, svm__probability=True\n",
      "[CV 2/3; 4/72] START svm__C=0.001, svm__cache_size=4000, svm__coef0=0, svm__gamma=scale, svm__kernel=linear, svm__max_iter=10000, svm__probability=True\n",
      "[CV 1/3; 4/72] START svm__C=0.001, svm__cache_size=4000, svm__coef0=0, svm__gamma=scale, svm__kernel=linear, svm__max_iter=10000, svm__probability=True\n",
      "[CV 3/3; 2/72] START svm__C=0.001, svm__cache_size=4000, svm__coef0=0, svm__gamma=auto, svm__kernel=poly, svm__max_iter=10000, svm__probability=True\n",
      "[CV 3/3; 1/72] START svm__C=0.001, svm__cache_size=4000, svm__coef0=0, svm__gamma=auto, svm__kernel=linear, svm__max_iter=10000, svm__probability=True[CV 1/3; 1/72] START svm__C=0.001, svm__cache_size=4000, svm__coef0=0, svm__gamma=auto, svm__kernel=linear, svm__max_iter=10000, svm__probability=True\n",
      "\n",
      "[CV 3/3; 4/72] START svm__C=0.001, svm__cache_size=4000, svm__coef0=0, svm__gamma=scale, svm__kernel=linear, svm__max_iter=10000, svm__probability=True[CV 3/3; 3/72] START svm__C=0.001, svm__cache_size=4000, svm__coef0=0, svm__gamma=auto, svm__kernel=rbf, svm__max_iter=10000, svm__probability=True\n",
      "\n",
      "[CV 2/3; 1/72] START svm__C=0.001, svm__cache_size=4000, svm__coef0=0, svm__gamma=auto, svm__kernel=linear, svm__max_iter=10000, svm__probability=True\n",
      "[CV 1/3; 2/72] START svm__C=0.001, svm__cache_size=4000, svm__coef0=0, svm__gamma=auto, svm__kernel=poly, svm__max_iter=10000, svm__probability=True\n",
      "[CV 2/3; 6/72] START svm__C=0.001, svm__cache_size=4000, svm__coef0=0, svm__gamma=scale, svm__kernel=rbf, svm__max_iter=10000, svm__probability=True\n",
      "[CV 1/3; 3/72] START svm__C=0.001, svm__cache_size=4000, svm__coef0=0, svm__gamma=auto, svm__kernel=rbf, svm__max_iter=10000, svm__probability=True\n",
      "[CV 1/3; 5/72] START svm__C=0.001, svm__cache_size=4000, svm__coef0=0, svm__gamma=scale, svm__kernel=poly, svm__max_iter=10000, svm__probability=True\n",
      "[CV 3/3; 11/72] START svm__C=0.001, svm__cache_size=4000, svm__coef0=1, svm__gamma=scale, svm__kernel=poly, svm__max_iter=10000, svm__probability=True\n",
      "[CV 1/3; 6/72] START svm__C=0.001, svm__cache_size=4000, svm__coef0=0, svm__gamma=scale, svm__kernel=rbf, svm__max_iter=10000, svm__probability=True\n",
      "[CV 3/3; 5/72] START svm__C=0.001, svm__cache_size=4000, svm__coef0=0, svm__gamma=scale, svm__kernel=poly, svm__max_iter=10000, svm__probability=True\n",
      "[CV 1/3; 7/72] START svm__C=0.001, svm__cache_size=4000, svm__coef0=1, svm__gamma=auto, svm__kernel=linear, svm__max_iter=10000, svm__probability=True\n",
      "[CV 2/3; 3/72] START svm__C=0.001, svm__cache_size=4000, svm__coef0=0, svm__gamma=auto, svm__kernel=rbf, svm__max_iter=10000, svm__probability=True\n",
      "[CV 2/3; 7/72] START svm__C=0.001, svm__cache_size=4000, svm__coef0=1, svm__gamma=auto, svm__kernel=linear, svm__max_iter=10000, svm__probability=True\n",
      "[CV 2/3; 5/72] START svm__C=0.001, svm__cache_size=4000, svm__coef0=0, svm__gamma=scale, svm__kernel=poly, svm__max_iter=10000, svm__probability=True\n",
      "[CV 1/3; 8/72] START svm__C=0.001, svm__cache_size=4000, svm__coef0=1, svm__gamma=auto, svm__kernel=poly, svm__max_iter=10000, svm__probability=True\n",
      "[CV 3/3; 9/72] START svm__C=0.001, svm__cache_size=4000, svm__coef0=1, svm__gamma=auto, svm__kernel=rbf, svm__max_iter=10000, svm__probability=True\n",
      "[CV 2/3; 12/72] START svm__C=0.001, svm__cache_size=4000, svm__coef0=1, svm__gamma=scale, svm__kernel=rbf, svm__max_iter=10000, svm__probability=True\n",
      "[CV 3/3; 6/72] START svm__C=0.001, svm__cache_size=4000, svm__coef0=0, svm__gamma=scale, svm__kernel=rbf, svm__max_iter=10000, svm__probability=True\n",
      "[CV 2/3; 10/72] START svm__C=0.001, svm__cache_size=4000, svm__coef0=1, svm__gamma=scale, svm__kernel=linear, svm__max_iter=10000, svm__probability=True\n",
      "[CV 1/3; 9/72] START svm__C=0.001, svm__cache_size=4000, svm__coef0=1, svm__gamma=auto, svm__kernel=rbf, svm__max_iter=10000, svm__probability=True\n",
      "[CV 3/3; 7/72] START svm__C=0.001, svm__cache_size=4000, svm__coef0=1, svm__gamma=auto, svm__kernel=linear, svm__max_iter=10000, svm__probability=True\n",
      "[CV 1/3; 12/72] START svm__C=0.001, svm__cache_size=4000, svm__coef0=1, svm__gamma=scale, svm__kernel=rbf, svm__max_iter=10000, svm__probability=True\n",
      "[CV 3/3; 10/72] START svm__C=0.001, svm__cache_size=4000, svm__coef0=1, svm__gamma=scale, svm__kernel=linear, svm__max_iter=10000, svm__probability=True\n",
      "[CV 3/3; 8/72] START svm__C=0.001, svm__cache_size=4000, svm__coef0=1, svm__gamma=auto, svm__kernel=poly, svm__max_iter=10000, svm__probability=True\n",
      "[CV 1/3; 11/72] START svm__C=0.001, svm__cache_size=4000, svm__coef0=1, svm__gamma=scale, svm__kernel=poly, svm__max_iter=10000, svm__probability=True\n",
      "[CV 1/3; 10/72] START svm__C=0.001, svm__cache_size=4000, svm__coef0=1, svm__gamma=scale, svm__kernel=linear, svm__max_iter=10000, svm__probability=True\n",
      "[CV 2/3; 8/72] START svm__C=0.001, svm__cache_size=4000, svm__coef0=1, svm__gamma=auto, svm__kernel=poly, svm__max_iter=10000, svm__probability=True\n",
      "[CV 2/3; 9/72] START svm__C=0.001, svm__cache_size=4000, svm__coef0=1, svm__gamma=auto, svm__kernel=rbf, svm__max_iter=10000, svm__probability=True\n",
      "[CV 2/3; 11/72] START svm__C=0.001, svm__cache_size=4000, svm__coef0=1, svm__gamma=scale, svm__kernel=poly, svm__max_iter=10000, svm__probability=True\n",
      "[CV 2/3; 13/72] START svm__C=0.001, svm__cache_size=4000, svm__coef0=2, svm__gamma=auto, svm__kernel=linear, svm__max_iter=10000, svm__probability=True\n",
      "[CV 3/3; 13/72] START svm__C=0.001, svm__cache_size=4000, svm__coef0=2, svm__gamma=auto, svm__kernel=linear, svm__max_iter=10000, svm__probability=True\n",
      "[CV 3/3; 12/72] START svm__C=0.001, svm__cache_size=4000, svm__coef0=1, svm__gamma=scale, svm__kernel=rbf, svm__max_iter=10000, svm__probability=True\n",
      "[CV 1/3; 13/72] START svm__C=0.001, svm__cache_size=4000, svm__coef0=2, svm__gamma=auto, svm__kernel=linear, svm__max_iter=10000, svm__probability=True\n",
      "[CV 1/3; 14/72] START svm__C=0.001, svm__cache_size=4000, svm__coef0=2, svm__gamma=auto, svm__kernel=poly, svm__max_iter=10000, svm__probability=True\n",
      "[CV 2/3; 10/72] END svm__C=0.001, svm__cache_size=4000, svm__coef0=1, svm__gamma=scale, svm__kernel=linear, svm__max_iter=10000, svm__probability=True;, score=0.000 total time=  56.9s\n",
      "[CV 2/3; 14/72] START svm__C=0.001, svm__cache_size=4000, svm__coef0=2, svm__gamma=auto, svm__kernel=poly, svm__max_iter=10000, svm__probability=True\n",
      "[CV 2/3; 7/72] END svm__C=0.001, svm__cache_size=4000, svm__coef0=1, svm__gamma=auto, svm__kernel=linear, svm__max_iter=10000, svm__probability=True;, score=0.000 total time= 1.3min\n",
      "[CV 3/3; 14/72] START svm__C=0.001, svm__cache_size=4000, svm__coef0=2, svm__gamma=auto, svm__kernel=poly, svm__max_iter=10000, svm__probability=True\n",
      "[CV 2/3; 4/72] END svm__C=0.001, svm__cache_size=4000, svm__coef0=0, svm__gamma=scale, svm__kernel=linear, svm__max_iter=10000, svm__probability=True;, score=0.000 total time= 1.4min\n",
      "[CV 1/3; 15/72] START svm__C=0.001, svm__cache_size=4000, svm__coef0=2, svm__gamma=auto, svm__kernel=rbf, svm__max_iter=10000, svm__probability=True\n",
      "[CV 2/3; 13/72] END svm__C=0.001, svm__cache_size=4000, svm__coef0=2, svm__gamma=auto, svm__kernel=linear, svm__max_iter=10000, svm__probability=True;, score=0.000 total time= 1.4min\n",
      "[CV 2/3; 15/72] START svm__C=0.001, svm__cache_size=4000, svm__coef0=2, svm__gamma=auto, svm__kernel=rbf, svm__max_iter=10000, svm__probability=True\n",
      "[CV 1/3; 4/72] END svm__C=0.001, svm__cache_size=4000, svm__coef0=0, svm__gamma=scale, svm__kernel=linear, svm__max_iter=10000, svm__probability=True;, score=0.000 total time= 1.4min\n",
      "[CV 3/3; 15/72] START svm__C=0.001, svm__cache_size=4000, svm__coef0=2, svm__gamma=auto, svm__kernel=rbf, svm__max_iter=10000, svm__probability=True\n",
      "[CV 2/3; 1/72] END svm__C=0.001, svm__cache_size=4000, svm__coef0=0, svm__gamma=auto, svm__kernel=linear, svm__max_iter=10000, svm__probability=True;, score=0.000 total time= 1.4min\n",
      "[CV 1/3; 16/72] START svm__C=0.001, svm__cache_size=4000, svm__coef0=2, svm__gamma=scale, svm__kernel=linear, svm__max_iter=10000, svm__probability=True\n",
      "[CV 1/3; 2/72] END svm__C=0.001, svm__cache_size=4000, svm__coef0=0, svm__gamma=auto, svm__kernel=poly, svm__max_iter=10000, svm__probability=True;, score=0.000 total time= 1.5min\n",
      "[CV 2/3; 16/72] START svm__C=0.001, svm__cache_size=4000, svm__coef0=2, svm__gamma=scale, svm__kernel=linear, svm__max_iter=10000, svm__probability=True\n",
      "[CV 2/3; 5/72] END svm__C=0.001, svm__cache_size=4000, svm__coef0=0, svm__gamma=scale, svm__kernel=poly, svm__max_iter=10000, svm__probability=True;, score=0.000 total time= 1.5min\n",
      "[CV 3/3; 16/72] START svm__C=0.001, svm__cache_size=4000, svm__coef0=2, svm__gamma=scale, svm__kernel=linear, svm__max_iter=10000, svm__probability=True\n",
      "[CV 1/3; 1/72] END svm__C=0.001, svm__cache_size=4000, svm__coef0=0, svm__gamma=auto, svm__kernel=linear, svm__max_iter=10000, svm__probability=True;, score=0.000 total time= 1.5min\n",
      "[CV 1/3; 17/72] START svm__C=0.001, svm__cache_size=4000, svm__coef0=2, svm__gamma=scale, svm__kernel=poly, svm__max_iter=10000, svm__probability=True\n",
      "[CV 3/3; 1/72] END svm__C=0.001, svm__cache_size=4000, svm__coef0=0, svm__gamma=auto, svm__kernel=linear, svm__max_iter=10000, svm__probability=True;, score=0.000 total time= 1.6min\n",
      "[CV 2/3; 17/72] START svm__C=0.001, svm__cache_size=4000, svm__coef0=2, svm__gamma=scale, svm__kernel=poly, svm__max_iter=10000, svm__probability=True\n",
      "[CV 1/3; 7/72] END svm__C=0.001, svm__cache_size=4000, svm__coef0=1, svm__gamma=auto, svm__kernel=linear, svm__max_iter=10000, svm__probability=True;, score=0.000 total time= 1.6min\n",
      "[CV 3/3; 17/72] START svm__C=0.001, svm__cache_size=4000, svm__coef0=2, svm__gamma=scale, svm__kernel=poly, svm__max_iter=10000, svm__probability=True\n",
      "[CV 3/3; 4/72] END svm__C=0.001, svm__cache_size=4000, svm__coef0=0, svm__gamma=scale, svm__kernel=linear, svm__max_iter=10000, svm__probability=True;, score=0.000 total time= 1.6min\n",
      "[CV 1/3; 18/72] START svm__C=0.001, svm__cache_size=4000, svm__coef0=2, svm__gamma=scale, svm__kernel=rbf, svm__max_iter=10000, svm__probability=True\n",
      "[CV 2/3; 11/72] END svm__C=0.001, svm__cache_size=4000, svm__coef0=1, svm__gamma=scale, svm__kernel=poly, svm__max_iter=10000, svm__probability=True;, score=0.000 total time= 1.6min\n",
      "[CV 2/3; 18/72] START svm__C=0.001, svm__cache_size=4000, svm__coef0=2, svm__gamma=scale, svm__kernel=rbf, svm__max_iter=10000, svm__probability=True\n",
      "[CV 1/3; 8/72] END svm__C=0.001, svm__cache_size=4000, svm__coef0=1, svm__gamma=auto, svm__kernel=poly, svm__max_iter=10000, svm__probability=True;, score=0.000 total time= 1.6min\n",
      "[CV 3/3; 18/72] START svm__C=0.001, svm__cache_size=4000, svm__coef0=2, svm__gamma=scale, svm__kernel=rbf, svm__max_iter=10000, svm__probability=True\n",
      "[CV 3/3; 8/72] END svm__C=0.001, svm__cache_size=4000, svm__coef0=1, svm__gamma=auto, svm__kernel=poly, svm__max_iter=10000, svm__probability=True;, score=0.000 total time= 1.6min\n",
      "[CV 1/3; 19/72] START svm__C=0.01, svm__cache_size=4000, svm__coef0=0, svm__gamma=auto, svm__kernel=linear, svm__max_iter=10000, svm__probability=True\n",
      "[CV 1/3; 10/72] END svm__C=0.001, svm__cache_size=4000, svm__coef0=1, svm__gamma=scale, svm__kernel=linear, svm__max_iter=10000, svm__probability=True;, score=0.000 total time= 1.6min\n",
      "[CV 2/3; 19/72] START svm__C=0.01, svm__cache_size=4000, svm__coef0=0, svm__gamma=auto, svm__kernel=linear, svm__max_iter=10000, svm__probability=True\n",
      "[CV 1/3; 13/72] END svm__C=0.001, svm__cache_size=4000, svm__coef0=2, svm__gamma=auto, svm__kernel=linear, svm__max_iter=10000, svm__probability=True;, score=0.000 total time= 1.6min\n",
      "[CV 1/3; 3/72] END svm__C=0.001, svm__cache_size=4000, svm__coef0=0, svm__gamma=auto, svm__kernel=rbf, svm__max_iter=10000, svm__probability=True;, score=0.000 total time= 1.7min[CV 1/3; 5/72] END svm__C=0.001, svm__cache_size=4000, svm__coef0=0, svm__gamma=scale, svm__kernel=poly, svm__max_iter=10000, svm__probability=True;, score=0.000 total time= 1.7min\n",
      "\n",
      "[CV 3/3; 19/72] START svm__C=0.01, svm__cache_size=4000, svm__coef0=0, svm__gamma=auto, svm__kernel=linear, svm__max_iter=10000, svm__probability=True\n",
      "[CV 1/3; 20/72] START svm__C=0.01, svm__cache_size=4000, svm__coef0=0, svm__gamma=auto, svm__kernel=poly, svm__max_iter=10000, svm__probability=True\n",
      "[CV 2/3; 20/72] START svm__C=0.01, svm__cache_size=4000, svm__coef0=0, svm__gamma=auto, svm__kernel=poly, svm__max_iter=10000, svm__probability=True\n",
      "[CV 2/3; 3/72] END svm__C=0.001, svm__cache_size=4000, svm__coef0=0, svm__gamma=auto, svm__kernel=rbf, svm__max_iter=10000, svm__probability=True;, score=0.000 total time= 1.7min\n",
      "[CV 3/3; 20/72] START svm__C=0.01, svm__cache_size=4000, svm__coef0=0, svm__gamma=auto, svm__kernel=poly, svm__max_iter=10000, svm__probability=True\n",
      "[CV 3/3; 13/72] END svm__C=0.001, svm__cache_size=4000, svm__coef0=2, svm__gamma=auto, svm__kernel=linear, svm__max_iter=10000, svm__probability=True;, score=0.000 total time= 1.7min\n",
      "[CV 1/3; 21/72] START svm__C=0.01, svm__cache_size=4000, svm__coef0=0, svm__gamma=auto, svm__kernel=rbf, svm__max_iter=10000, svm__probability=True\n",
      "[CV 3/3; 2/72] END svm__C=0.001, svm__cache_size=4000, svm__coef0=0, svm__gamma=auto, svm__kernel=poly, svm__max_iter=10000, svm__probability=True;, score=0.000 total time= 1.8min\n",
      "[CV 2/3; 6/72] END svm__C=0.001, svm__cache_size=4000, svm__coef0=0, svm__gamma=scale, svm__kernel=rbf, svm__max_iter=10000, svm__probability=True;, score=0.000 total time= 1.8min\n",
      "[CV 2/3; 21/72] START svm__C=0.01, svm__cache_size=4000, svm__coef0=0, svm__gamma=auto, svm__kernel=rbf, svm__max_iter=10000, svm__probability=True\n",
      "[CV 3/3; 21/72] START svm__C=0.01, svm__cache_size=4000, svm__coef0=0, svm__gamma=auto, svm__kernel=rbf, svm__max_iter=10000, svm__probability=True\n",
      "[CV 2/3; 2/72] END svm__C=0.001, svm__cache_size=4000, svm__coef0=0, svm__gamma=auto, svm__kernel=poly, svm__max_iter=10000, svm__probability=True;, score=0.000 total time= 1.8min\n",
      "[CV 1/3; 22/72] START svm__C=0.01, svm__cache_size=4000, svm__coef0=0, svm__gamma=scale, svm__kernel=linear, svm__max_iter=10000, svm__probability=True\n",
      "[CV 3/3; 3/72] END svm__C=0.001, svm__cache_size=4000, svm__coef0=0, svm__gamma=auto, svm__kernel=rbf, svm__max_iter=10000, svm__probability=True;, score=0.000 total time= 1.8min\n",
      "[CV 2/3; 8/72] END svm__C=0.001, svm__cache_size=4000, svm__coef0=1, svm__gamma=auto, svm__kernel=poly, svm__max_iter=10000, svm__probability=True;, score=0.000 total time= 1.8min\n",
      "[CV 2/3; 22/72] START svm__C=0.01, svm__cache_size=4000, svm__coef0=0, svm__gamma=scale, svm__kernel=linear, svm__max_iter=10000, svm__probability=True\n",
      "[CV 3/3; 22/72] START svm__C=0.01, svm__cache_size=4000, svm__coef0=0, svm__gamma=scale, svm__kernel=linear, svm__max_iter=10000, svm__probability=True\n",
      "[CV 3/3; 6/72] END svm__C=0.001, svm__cache_size=4000, svm__coef0=0, svm__gamma=scale, svm__kernel=rbf, svm__max_iter=10000, svm__probability=True;, score=0.000 total time= 1.8min\n",
      "[CV 1/3; 23/72] START svm__C=0.01, svm__cache_size=4000, svm__coef0=0, svm__gamma=scale, svm__kernel=poly, svm__max_iter=10000, svm__probability=True\n",
      "[CV 1/3; 11/72] END svm__C=0.001, svm__cache_size=4000, svm__coef0=1, svm__gamma=scale, svm__kernel=poly, svm__max_iter=10000, svm__probability=True;, score=0.000 total time= 1.8min\n",
      "[CV 2/3; 23/72] START svm__C=0.01, svm__cache_size=4000, svm__coef0=0, svm__gamma=scale, svm__kernel=poly, svm__max_iter=10000, svm__probability=True\n",
      "[CV 3/3; 7/72] END svm__C=0.001, svm__cache_size=4000, svm__coef0=1, svm__gamma=auto, svm__kernel=linear, svm__max_iter=10000, svm__probability=True;, score=0.000 total time= 1.8min\n",
      "[CV 3/3; 23/72] START svm__C=0.01, svm__cache_size=4000, svm__coef0=0, svm__gamma=scale, svm__kernel=poly, svm__max_iter=10000, svm__probability=True\n",
      "[CV 3/3; 5/72] END svm__C=0.001, svm__cache_size=4000, svm__coef0=0, svm__gamma=scale, svm__kernel=poly, svm__max_iter=10000, svm__probability=True;, score=0.000 total time= 1.9min\n",
      "[CV 3/3; 12/72] END svm__C=0.001, svm__cache_size=4000, svm__coef0=1, svm__gamma=scale, svm__kernel=rbf, svm__max_iter=10000, svm__probability=True;, score=0.000 total time= 1.8min\n",
      "[CV 1/3; 24/72] START svm__C=0.01, svm__cache_size=4000, svm__coef0=0, svm__gamma=scale, svm__kernel=rbf, svm__max_iter=10000, svm__probability=True\n",
      "[CV 2/3; 24/72] START svm__C=0.01, svm__cache_size=4000, svm__coef0=0, svm__gamma=scale, svm__kernel=rbf, svm__max_iter=10000, svm__probability=True\n",
      "[CV 3/3; 11/72] END svm__C=0.001, svm__cache_size=4000, svm__coef0=1, svm__gamma=scale, svm__kernel=poly, svm__max_iter=10000, svm__probability=True;, score=0.000 total time= 1.9min\n",
      "[CV 3/3; 24/72] START svm__C=0.01, svm__cache_size=4000, svm__coef0=0, svm__gamma=scale, svm__kernel=rbf, svm__max_iter=10000, svm__probability=True\n",
      "[CV 1/3; 14/72] END svm__C=0.001, svm__cache_size=4000, svm__coef0=2, svm__gamma=auto, svm__kernel=poly, svm__max_iter=10000, svm__probability=True;, score=0.000 total time= 1.9min\n",
      "[CV 1/3; 25/72] START svm__C=0.01, svm__cache_size=4000, svm__coef0=1, svm__gamma=auto, svm__kernel=linear, svm__max_iter=10000, svm__probability=True\n",
      "[CV 2/3; 9/72] END svm__C=0.001, svm__cache_size=4000, svm__coef0=1, svm__gamma=auto, svm__kernel=rbf, svm__max_iter=10000, svm__probability=True;, score=0.000 total time= 1.9min\n",
      "[CV 1/3; 12/72] END svm__C=0.001, svm__cache_size=4000, svm__coef0=1, svm__gamma=scale, svm__kernel=rbf, svm__max_iter=10000, svm__probability=True;, score=0.000 total time= 2.0min\n",
      "[CV 2/3; 25/72] START svm__C=0.01, svm__cache_size=4000, svm__coef0=1, svm__gamma=auto, svm__kernel=linear, svm__max_iter=10000, svm__probability=True\n",
      "[CV 3/3; 25/72] START svm__C=0.01, svm__cache_size=4000, svm__coef0=1, svm__gamma=auto, svm__kernel=linear, svm__max_iter=10000, svm__probability=True\n",
      "[CV 3/3; 10/72] END svm__C=0.001, svm__cache_size=4000, svm__coef0=1, svm__gamma=scale, svm__kernel=linear, svm__max_iter=10000, svm__probability=True;, score=0.000 total time= 2.0min\n",
      "[CV 1/3; 26/72] START svm__C=0.01, svm__cache_size=4000, svm__coef0=1, svm__gamma=auto, svm__kernel=poly, svm__max_iter=10000, svm__probability=True\n",
      "[CV 1/3; 6/72] END svm__C=0.001, svm__cache_size=4000, svm__coef0=0, svm__gamma=scale, svm__kernel=rbf, svm__max_iter=10000, svm__probability=True;, score=0.000 total time= 2.1min\n",
      "[CV 2/3; 26/72] START svm__C=0.01, svm__cache_size=4000, svm__coef0=1, svm__gamma=auto, svm__kernel=poly, svm__max_iter=10000, svm__probability=True\n",
      "[CV 3/3; 9/72] END svm__C=0.001, svm__cache_size=4000, svm__coef0=1, svm__gamma=auto, svm__kernel=rbf, svm__max_iter=10000, svm__probability=True;, score=0.000 total time= 2.1min\n",
      "[CV 3/3; 26/72] START svm__C=0.01, svm__cache_size=4000, svm__coef0=1, svm__gamma=auto, svm__kernel=poly, svm__max_iter=10000, svm__probability=True\n",
      "[CV 2/3; 12/72] END svm__C=0.001, svm__cache_size=4000, svm__coef0=1, svm__gamma=scale, svm__kernel=rbf, svm__max_iter=10000, svm__probability=True;, score=0.000 total time= 2.1min\n",
      "[CV 1/3; 27/72] START svm__C=0.01, svm__cache_size=4000, svm__coef0=1, svm__gamma=auto, svm__kernel=rbf, svm__max_iter=10000, svm__probability=True\n",
      "[CV 1/3; 9/72] END svm__C=0.001, svm__cache_size=4000, svm__coef0=1, svm__gamma=auto, svm__kernel=rbf, svm__max_iter=10000, svm__probability=True;, score=0.000 total time= 2.3min\n",
      "[CV 2/3; 27/72] START svm__C=0.01, svm__cache_size=4000, svm__coef0=1, svm__gamma=auto, svm__kernel=rbf, svm__max_iter=10000, svm__probability=True\n",
      "[CV 2/3; 14/72] END svm__C=0.001, svm__cache_size=4000, svm__coef0=2, svm__gamma=auto, svm__kernel=poly, svm__max_iter=10000, svm__probability=True;, score=0.000 total time= 1.5min\n",
      "[CV 3/3; 27/72] START svm__C=0.01, svm__cache_size=4000, svm__coef0=1, svm__gamma=auto, svm__kernel=rbf, svm__max_iter=10000, svm__probability=True\n",
      "[CV 1/3; 16/72] END svm__C=0.001, svm__cache_size=4000, svm__coef0=2, svm__gamma=scale, svm__kernel=linear, svm__max_iter=10000, svm__probability=True;, score=0.000 total time= 1.5min\n",
      "[CV 1/3; 28/72] START svm__C=0.01, svm__cache_size=4000, svm__coef0=1, svm__gamma=scale, svm__kernel=linear, svm__max_iter=10000, svm__probability=True\n",
      "[CV 3/3; 14/72] END svm__C=0.001, svm__cache_size=4000, svm__coef0=2, svm__gamma=auto, svm__kernel=poly, svm__max_iter=10000, svm__probability=True;, score=0.000 total time= 1.6min\n",
      "[CV 2/3; 28/72] START svm__C=0.01, svm__cache_size=4000, svm__coef0=1, svm__gamma=scale, svm__kernel=linear, svm__max_iter=10000, svm__probability=True\n",
      "[CV 1/3; 20/72] END svm__C=0.01, svm__cache_size=4000, svm__coef0=0, svm__gamma=auto, svm__kernel=poly, svm__max_iter=10000, svm__probability=True;, score=0.000 total time= 1.4min\n",
      "[CV 3/3; 28/72] START svm__C=0.01, svm__cache_size=4000, svm__coef0=1, svm__gamma=scale, svm__kernel=linear, svm__max_iter=10000, svm__probability=True\n",
      "[CV 1/3; 15/72] END svm__C=0.001, svm__cache_size=4000, svm__coef0=2, svm__gamma=auto, svm__kernel=rbf, svm__max_iter=10000, svm__probability=True;, score=0.000 total time= 1.7min\n",
      "[CV 1/3; 29/72] START svm__C=0.01, svm__cache_size=4000, svm__coef0=1, svm__gamma=scale, svm__kernel=poly, svm__max_iter=10000, svm__probability=True\n",
      "[CV 3/3; 16/72] END svm__C=0.001, svm__cache_size=4000, svm__coef0=2, svm__gamma=scale, svm__kernel=linear, svm__max_iter=10000, svm__probability=True;, score=0.000 total time= 1.6min\n",
      "[CV 2/3; 29/72] START svm__C=0.01, svm__cache_size=4000, svm__coef0=1, svm__gamma=scale, svm__kernel=poly, svm__max_iter=10000, svm__probability=True\n",
      "[CV 3/3; 15/72] END svm__C=0.001, svm__cache_size=4000, svm__coef0=2, svm__gamma=auto, svm__kernel=rbf, svm__max_iter=10000, svm__probability=True;, score=0.000 total time= 1.7min\n",
      "[CV 3/3; 29/72] START svm__C=0.01, svm__cache_size=4000, svm__coef0=1, svm__gamma=scale, svm__kernel=poly, svm__max_iter=10000, svm__probability=True\n",
      "[CV 2/3; 16/72] END svm__C=0.001, svm__cache_size=4000, svm__coef0=2, svm__gamma=scale, svm__kernel=linear, svm__max_iter=10000, svm__probability=True;, score=0.000 total time= 1.7min\n",
      "[CV 1/3; 30/72] START svm__C=0.01, svm__cache_size=4000, svm__coef0=1, svm__gamma=scale, svm__kernel=rbf, svm__max_iter=10000, svm__probability=True\n",
      "[CV 1/3; 21/72] END svm__C=0.01, svm__cache_size=4000, svm__coef0=0, svm__gamma=auto, svm__kernel=rbf, svm__max_iter=10000, svm__probability=True;, score=0.000 total time= 1.6min\n",
      "[CV 2/3; 30/72] START svm__C=0.01, svm__cache_size=4000, svm__coef0=1, svm__gamma=scale, svm__kernel=rbf, svm__max_iter=10000, svm__probability=True\n",
      "[CV 1/3; 19/72] END svm__C=0.01, svm__cache_size=4000, svm__coef0=0, svm__gamma=auto, svm__kernel=linear, svm__max_iter=10000, svm__probability=True;, score=0.000 total time= 1.7min\n",
      "[CV 3/3; 30/72] START svm__C=0.01, svm__cache_size=4000, svm__coef0=1, svm__gamma=scale, svm__kernel=rbf, svm__max_iter=10000, svm__probability=True\n",
      "[CV 3/3; 19/72] END svm__C=0.01, svm__cache_size=4000, svm__coef0=0, svm__gamma=auto, svm__kernel=linear, svm__max_iter=10000, svm__probability=True;, score=0.000 total time= 1.7min\n",
      "[CV 1/3; 31/72] START svm__C=0.01, svm__cache_size=4000, svm__coef0=2, svm__gamma=auto, svm__kernel=linear, svm__max_iter=10000, svm__probability=True\n",
      "[CV 2/3; 24/72] END svm__C=0.01, svm__cache_size=4000, svm__coef0=0, svm__gamma=scale, svm__kernel=rbf, svm__max_iter=10000, svm__probability=True;, score=0.000 total time= 1.5min\n",
      "[CV 2/3; 31/72] START svm__C=0.01, svm__cache_size=4000, svm__coef0=2, svm__gamma=auto, svm__kernel=linear, svm__max_iter=10000, svm__probability=True\n",
      "[CV 2/3; 15/72] END svm__C=0.001, svm__cache_size=4000, svm__coef0=2, svm__gamma=auto, svm__kernel=rbf, svm__max_iter=10000, svm__probability=True;, score=0.000 total time= 2.0min\n",
      "[CV 3/3; 31/72] START svm__C=0.01, svm__cache_size=4000, svm__coef0=2, svm__gamma=auto, svm__kernel=linear, svm__max_iter=10000, svm__probability=True\n",
      "[CV 2/3; 22/72] END svm__C=0.01, svm__cache_size=4000, svm__coef0=0, svm__gamma=scale, svm__kernel=linear, svm__max_iter=10000, svm__probability=True;, score=0.000 total time= 1.6min\n",
      "[CV 1/3; 32/72] START svm__C=0.01, svm__cache_size=4000, svm__coef0=2, svm__gamma=auto, svm__kernel=poly, svm__max_iter=10000, svm__probability=True\n",
      "[CV 2/3; 20/72] END svm__C=0.01, svm__cache_size=4000, svm__coef0=0, svm__gamma=auto, svm__kernel=poly, svm__max_iter=10000, svm__probability=True;, score=0.000 total time= 1.8min\n",
      "[CV 2/3; 32/72] START svm__C=0.01, svm__cache_size=4000, svm__coef0=2, svm__gamma=auto, svm__kernel=poly, svm__max_iter=10000, svm__probability=True\n",
      "[CV 3/3; 25/72] END svm__C=0.01, svm__cache_size=4000, svm__coef0=1, svm__gamma=auto, svm__kernel=linear, svm__max_iter=10000, svm__probability=True;, score=0.000 total time= 1.5min\n",
      "[CV 3/3; 32/72] START svm__C=0.01, svm__cache_size=4000, svm__coef0=2, svm__gamma=auto, svm__kernel=poly, svm__max_iter=10000, svm__probability=True\n",
      "[CV 1/3; 17/72] END svm__C=0.001, svm__cache_size=4000, svm__coef0=2, svm__gamma=scale, svm__kernel=poly, svm__max_iter=10000, svm__probability=True;, score=0.000 total time= 2.0min\n",
      "[CV 1/3; 33/72] START svm__C=0.01, svm__cache_size=4000, svm__coef0=2, svm__gamma=auto, svm__kernel=rbf, svm__max_iter=10000, svm__probability=True\n",
      "[CV 3/3; 22/72] END svm__C=0.01, svm__cache_size=4000, svm__coef0=0, svm__gamma=scale, svm__kernel=linear, svm__max_iter=10000, svm__probability=True;, score=0.000 total time= 1.7min\n",
      "[CV 2/3; 33/72] START svm__C=0.01, svm__cache_size=4000, svm__coef0=2, svm__gamma=auto, svm__kernel=rbf, svm__max_iter=10000, svm__probability=True\n",
      "[CV 1/3; 18/72] END svm__C=0.001, svm__cache_size=4000, svm__coef0=2, svm__gamma=scale, svm__kernel=rbf, svm__max_iter=10000, svm__probability=True;, score=0.000 total time= 2.0min\n",
      "[CV 3/3; 33/72] START svm__C=0.01, svm__cache_size=4000, svm__coef0=2, svm__gamma=auto, svm__kernel=rbf, svm__max_iter=10000, svm__probability=True\n",
      "[CV 2/3; 21/72] END svm__C=0.01, svm__cache_size=4000, svm__coef0=0, svm__gamma=auto, svm__kernel=rbf, svm__max_iter=10000, svm__probability=True;, score=0.000 total time= 1.8min\n",
      "[CV 1/3; 34/72] START svm__C=0.01, svm__cache_size=4000, svm__coef0=2, svm__gamma=scale, svm__kernel=linear, svm__max_iter=10000, svm__probability=True\n",
      "[CV 3/3; 17/72] END svm__C=0.001, svm__cache_size=4000, svm__coef0=2, svm__gamma=scale, svm__kernel=poly, svm__max_iter=10000, svm__probability=True;, score=0.000 total time= 2.0min\n",
      "[CV 2/3; 34/72] START svm__C=0.01, svm__cache_size=4000, svm__coef0=2, svm__gamma=scale, svm__kernel=linear, svm__max_iter=10000, svm__probability=True\n",
      "[CV 3/3; 20/72] END svm__C=0.01, svm__cache_size=4000, svm__coef0=0, svm__gamma=auto, svm__kernel=poly, svm__max_iter=10000, svm__probability=True;, score=0.000 total time= 1.9min\n",
      "[CV 3/3; 34/72] START svm__C=0.01, svm__cache_size=4000, svm__coef0=2, svm__gamma=scale, svm__kernel=linear, svm__max_iter=10000, svm__probability=True\n",
      "[CV 1/3; 26/72] END svm__C=0.01, svm__cache_size=4000, svm__coef0=1, svm__gamma=auto, svm__kernel=poly, svm__max_iter=10000, svm__probability=True;, score=0.000 total time= 1.6min\n",
      "[CV 1/3; 35/72] START svm__C=0.01, svm__cache_size=4000, svm__coef0=2, svm__gamma=scale, svm__kernel=poly, svm__max_iter=10000, svm__probability=True\n",
      "[CV 1/3; 25/72] END svm__C=0.01, svm__cache_size=4000, svm__coef0=1, svm__gamma=auto, svm__kernel=linear, svm__max_iter=10000, svm__probability=True;, score=0.000 total time= 1.7min\n",
      "[CV 2/3; 35/72] START svm__C=0.01, svm__cache_size=4000, svm__coef0=2, svm__gamma=scale, svm__kernel=poly, svm__max_iter=10000, svm__probability=True\n",
      "[CV 3/3; 18/72] END svm__C=0.001, svm__cache_size=4000, svm__coef0=2, svm__gamma=scale, svm__kernel=rbf, svm__max_iter=10000, svm__probability=True;, score=0.000 total time= 2.0min\n",
      "[CV 3/3; 35/72] START svm__C=0.01, svm__cache_size=4000, svm__coef0=2, svm__gamma=scale, svm__kernel=poly, svm__max_iter=10000, svm__probability=True\n",
      "[CV 2/3; 18/72] END svm__C=0.001, svm__cache_size=4000, svm__coef0=2, svm__gamma=scale, svm__kernel=rbf, svm__max_iter=10000, svm__probability=True;, score=0.000 total time= 2.1min\n",
      "[CV 1/3; 36/72] START svm__C=0.01, svm__cache_size=4000, svm__coef0=2, svm__gamma=scale, svm__kernel=rbf, svm__max_iter=10000, svm__probability=True\n",
      "[CV 3/3; 21/72] END svm__C=0.01, svm__cache_size=4000, svm__coef0=0, svm__gamma=auto, svm__kernel=rbf, svm__max_iter=10000, svm__probability=True;, score=0.000 total time= 1.9min\n",
      "[CV 2/3; 36/72] START svm__C=0.01, svm__cache_size=4000, svm__coef0=2, svm__gamma=scale, svm__kernel=rbf, svm__max_iter=10000, svm__probability=True\n",
      "[CV 1/3; 22/72] END svm__C=0.01, svm__cache_size=4000, svm__coef0=0, svm__gamma=scale, svm__kernel=linear, svm__max_iter=10000, svm__probability=True;, score=0.000 total time= 1.9min\n",
      "[CV 3/3; 36/72] START svm__C=0.01, svm__cache_size=4000, svm__coef0=2, svm__gamma=scale, svm__kernel=rbf, svm__max_iter=10000, svm__probability=True\n",
      "[CV 2/3; 25/72] END svm__C=0.01, svm__cache_size=4000, svm__coef0=1, svm__gamma=auto, svm__kernel=linear, svm__max_iter=10000, svm__probability=True;, score=0.000 total time= 1.7min\n",
      "[CV 1/3; 37/72] START svm__C=1, svm__cache_size=4000, svm__coef0=0, svm__gamma=auto, svm__kernel=linear, svm__max_iter=10000, svm__probability=True\n",
      "[CV 3/3; 26/72] END svm__C=0.01, svm__cache_size=4000, svm__coef0=1, svm__gamma=auto, svm__kernel=poly, svm__max_iter=10000, svm__probability=True;, score=0.000 total time= 1.6min\n",
      "[CV 2/3; 37/72] START svm__C=1, svm__cache_size=4000, svm__coef0=0, svm__gamma=auto, svm__kernel=linear, svm__max_iter=10000, svm__probability=True\n",
      "[CV 2/3; 19/72] END svm__C=0.01, svm__cache_size=4000, svm__coef0=0, svm__gamma=auto, svm__kernel=linear, svm__max_iter=10000, svm__probability=True;, score=0.000 total time= 2.1min\n",
      "[CV 3/3; 37/72] START svm__C=1, svm__cache_size=4000, svm__coef0=0, svm__gamma=auto, svm__kernel=linear, svm__max_iter=10000, svm__probability=True\n",
      "[CV 2/3; 17/72] END svm__C=0.001, svm__cache_size=4000, svm__coef0=2, svm__gamma=scale, svm__kernel=poly, svm__max_iter=10000, svm__probability=True;, score=0.000 total time= 2.3min\n",
      "[CV 1/3; 38/72] START svm__C=1, svm__cache_size=4000, svm__coef0=0, svm__gamma=auto, svm__kernel=poly, svm__max_iter=10000, svm__probability=True\n",
      "[CV 1/3; 23/72] END svm__C=0.01, svm__cache_size=4000, svm__coef0=0, svm__gamma=scale, svm__kernel=poly, svm__max_iter=10000, svm__probability=True;, score=0.000 total time= 2.1min\n",
      "[CV 2/3; 38/72] START svm__C=1, svm__cache_size=4000, svm__coef0=0, svm__gamma=auto, svm__kernel=poly, svm__max_iter=10000, svm__probability=True\n",
      "[CV 2/3; 23/72] END svm__C=0.01, svm__cache_size=4000, svm__coef0=0, svm__gamma=scale, svm__kernel=poly, svm__max_iter=10000, svm__probability=True;, score=0.000 total time= 2.1min\n",
      "[CV 3/3; 38/72] START svm__C=1, svm__cache_size=4000, svm__coef0=0, svm__gamma=auto, svm__kernel=poly, svm__max_iter=10000, svm__probability=True\n",
      "[CV 1/3; 27/72] END svm__C=0.01, svm__cache_size=4000, svm__coef0=1, svm__gamma=auto, svm__kernel=rbf, svm__max_iter=10000, svm__probability=True;, score=0.000 total time= 1.8min\n",
      "[CV 1/3; 39/72] START svm__C=1, svm__cache_size=4000, svm__coef0=0, svm__gamma=auto, svm__kernel=rbf, svm__max_iter=10000, svm__probability=True\n",
      "[CV 2/3; 26/72] END svm__C=0.01, svm__cache_size=4000, svm__coef0=1, svm__gamma=auto, svm__kernel=poly, svm__max_iter=10000, svm__probability=True;, score=0.000 total time= 1.8min\n",
      "[CV 2/3; 39/72] START svm__C=1, svm__cache_size=4000, svm__coef0=0, svm__gamma=auto, svm__kernel=rbf, svm__max_iter=10000, svm__probability=True\n",
      "[CV 2/3; 27/72] END svm__C=0.01, svm__cache_size=4000, svm__coef0=1, svm__gamma=auto, svm__kernel=rbf, svm__max_iter=10000, svm__probability=True;, score=0.000 total time= 1.8min\n",
      "[CV 3/3; 39/72] START svm__C=1, svm__cache_size=4000, svm__coef0=0, svm__gamma=auto, svm__kernel=rbf, svm__max_iter=10000, svm__probability=True\n",
      "[CV 3/3; 23/72] END svm__C=0.01, svm__cache_size=4000, svm__coef0=0, svm__gamma=scale, svm__kernel=poly, svm__max_iter=10000, svm__probability=True;, score=0.000 total time= 2.3min\n",
      "[CV 1/3; 40/72] START svm__C=1, svm__cache_size=4000, svm__coef0=0, svm__gamma=scale, svm__kernel=linear, svm__max_iter=10000, svm__probability=True\n",
      "[CV 3/3; 27/72] END svm__C=0.01, svm__cache_size=4000, svm__coef0=1, svm__gamma=auto, svm__kernel=rbf, svm__max_iter=10000, svm__probability=True;, score=0.000 total time= 1.8min\n",
      "[CV 2/3; 40/72] START svm__C=1, svm__cache_size=4000, svm__coef0=0, svm__gamma=scale, svm__kernel=linear, svm__max_iter=10000, svm__probability=True\n",
      "[CV 3/3; 24/72] END svm__C=0.01, svm__cache_size=4000, svm__coef0=0, svm__gamma=scale, svm__kernel=rbf, svm__max_iter=10000, svm__probability=True;, score=0.000 total time= 2.3min\n",
      "[CV 3/3; 40/72] START svm__C=1, svm__cache_size=4000, svm__coef0=0, svm__gamma=scale, svm__kernel=linear, svm__max_iter=10000, svm__probability=True\n",
      "[CV 1/3; 28/72] END svm__C=0.01, svm__cache_size=4000, svm__coef0=1, svm__gamma=scale, svm__kernel=linear, svm__max_iter=10000, svm__probability=True;, score=0.000 total time= 1.6min\n",
      "[CV 1/3; 41/72] START svm__C=1, svm__cache_size=4000, svm__coef0=0, svm__gamma=scale, svm__kernel=poly, svm__max_iter=10000, svm__probability=True\n",
      "[CV 1/3; 24/72] END svm__C=0.01, svm__cache_size=4000, svm__coef0=0, svm__gamma=scale, svm__kernel=rbf, svm__max_iter=10000, svm__probability=True;, score=0.000 total time= 2.7min\n",
      "[CV 2/3; 41/72] START svm__C=1, svm__cache_size=4000, svm__coef0=0, svm__gamma=scale, svm__kernel=poly, svm__max_iter=10000, svm__probability=True\n",
      "[CV 3/3; 28/72] END svm__C=0.01, svm__cache_size=4000, svm__coef0=1, svm__gamma=scale, svm__kernel=linear, svm__max_iter=10000, svm__probability=True;, score=0.000 total time= 1.6min\n",
      "[CV 3/3; 41/72] START svm__C=1, svm__cache_size=4000, svm__coef0=0, svm__gamma=scale, svm__kernel=poly, svm__max_iter=10000, svm__probability=True\n",
      "[CV 2/3; 28/72] END svm__C=0.01, svm__cache_size=4000, svm__coef0=1, svm__gamma=scale, svm__kernel=linear, svm__max_iter=10000, svm__probability=True;, score=0.000 total time= 1.9min\n",
      "[CV 1/3; 42/72] START svm__C=1, svm__cache_size=4000, svm__coef0=0, svm__gamma=scale, svm__kernel=rbf, svm__max_iter=10000, svm__probability=True\n",
      "[CV 1/3; 32/72] END svm__C=0.01, svm__cache_size=4000, svm__coef0=2, svm__gamma=auto, svm__kernel=poly, svm__max_iter=10000, svm__probability=True;, score=0.000 total time= 1.4min\n",
      "[CV 2/3; 42/72] START svm__C=1, svm__cache_size=4000, svm__coef0=0, svm__gamma=scale, svm__kernel=rbf, svm__max_iter=10000, svm__probability=True\n",
      "[CV 2/3; 31/72] END svm__C=0.01, svm__cache_size=4000, svm__coef0=2, svm__gamma=auto, svm__kernel=linear, svm__max_iter=10000, svm__probability=True;, score=0.000 total time= 1.7min\n",
      "[CV 3/3; 42/72] START svm__C=1, svm__cache_size=4000, svm__coef0=0, svm__gamma=scale, svm__kernel=rbf, svm__max_iter=10000, svm__probability=True\n",
      "[CV 3/3; 31/72] END svm__C=0.01, svm__cache_size=4000, svm__coef0=2, svm__gamma=auto, svm__kernel=linear, svm__max_iter=10000, svm__probability=True;, score=0.000 total time= 1.7min\n",
      "[CV 1/3; 43/72] START svm__C=1, svm__cache_size=4000, svm__coef0=1, svm__gamma=auto, svm__kernel=linear, svm__max_iter=10000, svm__probability=True\n",
      "[CV 1/3; 29/72] END svm__C=0.01, svm__cache_size=4000, svm__coef0=1, svm__gamma=scale, svm__kernel=poly, svm__max_iter=10000, svm__probability=True;, score=0.000 total time= 2.0min\n",
      "[CV 2/3; 43/72] START svm__C=1, svm__cache_size=4000, svm__coef0=1, svm__gamma=auto, svm__kernel=linear, svm__max_iter=10000, svm__probability=True\n",
      "[CV 1/3; 33/72] END svm__C=0.01, svm__cache_size=4000, svm__coef0=2, svm__gamma=auto, svm__kernel=rbf, svm__max_iter=10000, svm__probability=True;, score=0.000 total time= 1.6min\n",
      "[CV 3/3; 43/72] START svm__C=1, svm__cache_size=4000, svm__coef0=1, svm__gamma=auto, svm__kernel=linear, svm__max_iter=10000, svm__probability=True\n",
      "[CV 2/3; 32/72] END svm__C=0.01, svm__cache_size=4000, svm__coef0=2, svm__gamma=auto, svm__kernel=poly, svm__max_iter=10000, svm__probability=True;, score=0.000 total time= 1.7min\n",
      "[CV 1/3; 44/72] START svm__C=1, svm__cache_size=4000, svm__coef0=1, svm__gamma=auto, svm__kernel=poly, svm__max_iter=10000, svm__probability=True\n",
      "[CV 2/3; 30/72] END svm__C=0.01, svm__cache_size=4000, svm__coef0=1, svm__gamma=scale, svm__kernel=rbf, svm__max_iter=10000, svm__probability=True;, score=0.000 total time= 1.8min\n",
      "[CV 2/3; 44/72] START svm__C=1, svm__cache_size=4000, svm__coef0=1, svm__gamma=auto, svm__kernel=poly, svm__max_iter=10000, svm__probability=True\n",
      "[CV 1/3; 31/72] END svm__C=0.01, svm__cache_size=4000, svm__coef0=2, svm__gamma=auto, svm__kernel=linear, svm__max_iter=10000, svm__probability=True;, score=0.000 total time= 1.8min\n",
      "[CV 3/3; 44/72] START svm__C=1, svm__cache_size=4000, svm__coef0=1, svm__gamma=auto, svm__kernel=poly, svm__max_iter=10000, svm__probability=True\n",
      "[CV 1/3; 30/72] END svm__C=0.01, svm__cache_size=4000, svm__coef0=1, svm__gamma=scale, svm__kernel=rbf, svm__max_iter=10000, svm__probability=True;, score=0.000 total time= 2.0min\n",
      "[CV 1/3; 45/72] START svm__C=1, svm__cache_size=4000, svm__coef0=1, svm__gamma=auto, svm__kernel=rbf, svm__max_iter=10000, svm__probability=True\n",
      "[CV 3/3; 32/72] END svm__C=0.01, svm__cache_size=4000, svm__coef0=2, svm__gamma=auto, svm__kernel=poly, svm__max_iter=10000, svm__probability=True;, score=0.000 total time= 1.9min\n",
      "[CV 2/3; 45/72] START svm__C=1, svm__cache_size=4000, svm__coef0=1, svm__gamma=auto, svm__kernel=rbf, svm__max_iter=10000, svm__probability=True\n",
      "[CV 2/3; 34/72] END svm__C=0.01, svm__cache_size=4000, svm__coef0=2, svm__gamma=scale, svm__kernel=linear, svm__max_iter=10000, svm__probability=True;, score=0.000 total time= 1.9min\n",
      "[CV 3/3; 45/72] START svm__C=1, svm__cache_size=4000, svm__coef0=1, svm__gamma=auto, svm__kernel=rbf, svm__max_iter=10000, svm__probability=True\n",
      "[CV 2/3; 33/72] END svm__C=0.01, svm__cache_size=4000, svm__coef0=2, svm__gamma=auto, svm__kernel=rbf, svm__max_iter=10000, svm__probability=True;, score=0.000 total time= 2.0min\n",
      "[CV 1/3; 46/72] START svm__C=1, svm__cache_size=4000, svm__coef0=1, svm__gamma=scale, svm__kernel=linear, svm__max_iter=10000, svm__probability=True\n",
      "[CV 2/3; 29/72] END svm__C=0.01, svm__cache_size=4000, svm__coef0=1, svm__gamma=scale, svm__kernel=poly, svm__max_iter=10000, svm__probability=True;, score=0.000 total time= 2.4min\n",
      "[CV 2/3; 46/72] START svm__C=1, svm__cache_size=4000, svm__coef0=1, svm__gamma=scale, svm__kernel=linear, svm__max_iter=10000, svm__probability=True\n",
      "[CV 1/3; 38/72] END svm__C=1, svm__cache_size=4000, svm__coef0=0, svm__gamma=auto, svm__kernel=poly, svm__max_iter=10000, svm__probability=True;, score=0.000 total time= 1.7min\n",
      "[CV 3/3; 46/72] START svm__C=1, svm__cache_size=4000, svm__coef0=1, svm__gamma=scale, svm__kernel=linear, svm__max_iter=10000, svm__probability=True\n",
      "[CV 2/3; 36/72] END svm__C=0.01, svm__cache_size=4000, svm__coef0=2, svm__gamma=scale, svm__kernel=rbf, svm__max_iter=10000, svm__probability=True;, score=0.000 total time= 1.9min\n",
      "[CV 1/3; 47/72] START svm__C=1, svm__cache_size=4000, svm__coef0=1, svm__gamma=scale, svm__kernel=poly, svm__max_iter=10000, svm__probability=True\n",
      "[CV 3/3; 30/72] END svm__C=0.01, svm__cache_size=4000, svm__coef0=1, svm__gamma=scale, svm__kernel=rbf, svm__max_iter=10000, svm__probability=True;, score=0.000 total time= 2.2min\n",
      "[CV 2/3; 47/72] START svm__C=1, svm__cache_size=4000, svm__coef0=1, svm__gamma=scale, svm__kernel=poly, svm__max_iter=10000, svm__probability=True\n",
      "[CV 1/3; 34/72] END svm__C=0.01, svm__cache_size=4000, svm__coef0=2, svm__gamma=scale, svm__kernel=linear, svm__max_iter=10000, svm__probability=True;, score=0.000 total time= 2.0min\n",
      "[CV 3/3; 47/72] START svm__C=1, svm__cache_size=4000, svm__coef0=1, svm__gamma=scale, svm__kernel=poly, svm__max_iter=10000, svm__probability=True\n",
      "[CV 3/3; 38/72] END svm__C=1, svm__cache_size=4000, svm__coef0=0, svm__gamma=auto, svm__kernel=poly, svm__max_iter=10000, svm__probability=True;, score=0.000 total time= 1.7min\n",
      "[CV 1/3; 48/72] START svm__C=1, svm__cache_size=4000, svm__coef0=1, svm__gamma=scale, svm__kernel=rbf, svm__max_iter=10000, svm__probability=True\n",
      "[CV 3/3; 29/72] END svm__C=0.01, svm__cache_size=4000, svm__coef0=1, svm__gamma=scale, svm__kernel=poly, svm__max_iter=10000, svm__probability=True;, score=0.000 total time= 2.5min\n",
      "[CV 2/3; 48/72] START svm__C=1, svm__cache_size=4000, svm__coef0=1, svm__gamma=scale, svm__kernel=rbf, svm__max_iter=10000, svm__probability=True\n",
      "[CV 3/3; 34/72] END svm__C=0.01, svm__cache_size=4000, svm__coef0=2, svm__gamma=scale, svm__kernel=linear, svm__max_iter=10000, svm__probability=True;, score=0.000 total time= 2.1min\n",
      "[CV 3/3; 48/72] START svm__C=1, svm__cache_size=4000, svm__coef0=1, svm__gamma=scale, svm__kernel=rbf, svm__max_iter=10000, svm__probability=True\n",
      "[CV 2/3; 38/72] END svm__C=1, svm__cache_size=4000, svm__coef0=0, svm__gamma=auto, svm__kernel=poly, svm__max_iter=10000, svm__probability=True;, score=0.000 total time= 1.8min\n",
      "[CV 1/3; 49/72] START svm__C=1, svm__cache_size=4000, svm__coef0=2, svm__gamma=auto, svm__kernel=linear, svm__max_iter=10000, svm__probability=True\n",
      "[CV 3/3; 33/72] END svm__C=0.01, svm__cache_size=4000, svm__coef0=2, svm__gamma=auto, svm__kernel=rbf, svm__max_iter=10000, svm__probability=True;, score=0.000 total time= 2.2min\n",
      "[CV 2/3; 49/72] START svm__C=1, svm__cache_size=4000, svm__coef0=2, svm__gamma=auto, svm__kernel=linear, svm__max_iter=10000, svm__probability=True\n",
      "[CV 1/3; 37/72] END svm__C=1, svm__cache_size=4000, svm__coef0=0, svm__gamma=auto, svm__kernel=linear, svm__max_iter=10000, svm__probability=True;, score=0.117 total time= 2.0min\n",
      "[CV 3/3; 49/72] START svm__C=1, svm__cache_size=4000, svm__coef0=2, svm__gamma=auto, svm__kernel=linear, svm__max_iter=10000, svm__probability=True\n",
      "[CV 1/3; 36/72] END svm__C=0.01, svm__cache_size=4000, svm__coef0=2, svm__gamma=scale, svm__kernel=rbf, svm__max_iter=10000, svm__probability=True;, score=0.000 total time= 2.2min\n",
      "[CV 1/3; 50/72] START svm__C=1, svm__cache_size=4000, svm__coef0=2, svm__gamma=auto, svm__kernel=poly, svm__max_iter=10000, svm__probability=True\n",
      "[CV 1/3; 40/72] END svm__C=1, svm__cache_size=4000, svm__coef0=0, svm__gamma=scale, svm__kernel=linear, svm__max_iter=10000, svm__probability=True;, score=0.117 total time= 1.9min\n",
      "[CV 2/3; 50/72] START svm__C=1, svm__cache_size=4000, svm__coef0=2, svm__gamma=auto, svm__kernel=poly, svm__max_iter=10000, svm__probability=True\n",
      "[CV 2/3; 40/72] END svm__C=1, svm__cache_size=4000, svm__coef0=0, svm__gamma=scale, svm__kernel=linear, svm__max_iter=10000, svm__probability=True;, score=0.117 total time= 1.8min\n",
      "[CV 3/3; 50/72] START svm__C=1, svm__cache_size=4000, svm__coef0=2, svm__gamma=auto, svm__kernel=poly, svm__max_iter=10000, svm__probability=True\n"
     ]
    },
    {
     "name": "stderr",
     "output_type": "stream",
     "text": [
      "/home/drumblum/Northeastern/cs6140/CS6140-final-project/.venv/lib/python3.11/site-packages/sklearn/svm/_base.py:299: ConvergenceWarning: Solver terminated early (max_iter=10000).  Consider pre-processing your data with StandardScaler or MinMaxScaler.\n",
      "  warnings.warn(\n",
      "/home/drumblum/Northeastern/cs6140/CS6140-final-project/.venv/lib/python3.11/site-packages/sklearn/svm/_base.py:299: ConvergenceWarning: Solver terminated early (max_iter=10000).  Consider pre-processing your data with StandardScaler or MinMaxScaler.\n",
      "  warnings.warn(\n"
     ]
    },
    {
     "name": "stdout",
     "output_type": "stream",
     "text": [
      "[CV 3/3; 35/72] END svm__C=0.01, svm__cache_size=4000, svm__coef0=2, svm__gamma=scale, svm__kernel=poly, svm__max_iter=10000, svm__probability=True;, score=0.004 total time= 2.4min\n",
      "[CV 1/3; 51/72] START svm__C=1, svm__cache_size=4000, svm__coef0=2, svm__gamma=auto, svm__kernel=rbf, svm__max_iter=10000, svm__probability=True\n",
      "[CV 2/3; 35/72] END svm__C=0.01, svm__cache_size=4000, svm__coef0=2, svm__gamma=scale, svm__kernel=poly, svm__max_iter=10000, svm__probability=True;, score=0.000 total time= 2.5min\n",
      "[CV 2/3; 51/72] START svm__C=1, svm__cache_size=4000, svm__coef0=2, svm__gamma=auto, svm__kernel=rbf, svm__max_iter=10000, svm__probability=True\n",
      "[CV 2/3; 37/72] END svm__C=1, svm__cache_size=4000, svm__coef0=0, svm__gamma=auto, svm__kernel=linear, svm__max_iter=10000, svm__probability=True;, score=0.117 total time= 2.4min\n",
      "[CV 3/3; 51/72] START svm__C=1, svm__cache_size=4000, svm__coef0=2, svm__gamma=auto, svm__kernel=rbf, svm__max_iter=10000, svm__probability=True\n",
      "[CV 3/3; 37/72] END svm__C=1, svm__cache_size=4000, svm__coef0=0, svm__gamma=auto, svm__kernel=linear, svm__max_iter=10000, svm__probability=True;, score=0.134 total time= 2.5min\n",
      "[CV 1/3; 52/72] START svm__C=1, svm__cache_size=4000, svm__coef0=2, svm__gamma=scale, svm__kernel=linear, svm__max_iter=10000, svm__probability=True\n",
      "[CV 3/3; 36/72] END svm__C=0.01, svm__cache_size=4000, svm__coef0=2, svm__gamma=scale, svm__kernel=rbf, svm__max_iter=10000, svm__probability=True;, score=0.000 total time= 2.5min\n",
      "[CV 2/3; 52/72] START svm__C=1, svm__cache_size=4000, svm__coef0=2, svm__gamma=scale, svm__kernel=linear, svm__max_iter=10000, svm__probability=True\n",
      "[CV 2/3; 39/72] END svm__C=1, svm__cache_size=4000, svm__coef0=0, svm__gamma=auto, svm__kernel=rbf, svm__max_iter=10000, svm__probability=True;, score=0.000 total time= 2.3min\n",
      "[CV 3/3; 52/72] START svm__C=1, svm__cache_size=4000, svm__coef0=2, svm__gamma=scale, svm__kernel=linear, svm__max_iter=10000, svm__probability=True\n",
      "[CV 3/3; 40/72] END svm__C=1, svm__cache_size=4000, svm__coef0=0, svm__gamma=scale, svm__kernel=linear, svm__max_iter=10000, svm__probability=True;, score=0.134 total time= 2.1min\n",
      "[CV 1/3; 53/72] START svm__C=1, svm__cache_size=4000, svm__coef0=2, svm__gamma=scale, svm__kernel=poly, svm__max_iter=10000, svm__probability=True\n"
     ]
    },
    {
     "name": "stderr",
     "output_type": "stream",
     "text": [
      "/home/drumblum/Northeastern/cs6140/CS6140-final-project/.venv/lib/python3.11/site-packages/sklearn/svm/_base.py:299: ConvergenceWarning: Solver terminated early (max_iter=10000).  Consider pre-processing your data with StandardScaler or MinMaxScaler.\n",
      "  warnings.warn(\n"
     ]
    },
    {
     "name": "stdout",
     "output_type": "stream",
     "text": [
      "[CV 1/3; 35/72] END svm__C=0.01, svm__cache_size=4000, svm__coef0=2, svm__gamma=scale, svm__kernel=poly, svm__max_iter=10000, svm__probability=True;, score=0.000 total time= 3.0min\n",
      "[CV 2/3; 53/72] START svm__C=1, svm__cache_size=4000, svm__coef0=2, svm__gamma=scale, svm__kernel=poly, svm__max_iter=10000, svm__probability=True\n",
      "[CV 1/3; 39/72] END svm__C=1, svm__cache_size=4000, svm__coef0=0, svm__gamma=auto, svm__kernel=rbf, svm__max_iter=10000, svm__probability=True;, score=0.000 total time= 2.7min\n",
      "[CV 3/3; 53/72] START svm__C=1, svm__cache_size=4000, svm__coef0=2, svm__gamma=scale, svm__kernel=poly, svm__max_iter=10000, svm__probability=True\n"
     ]
    },
    {
     "name": "stderr",
     "output_type": "stream",
     "text": [
      "/home/drumblum/Northeastern/cs6140/CS6140-final-project/.venv/lib/python3.11/site-packages/sklearn/svm/_base.py:299: ConvergenceWarning: Solver terminated early (max_iter=10000).  Consider pre-processing your data with StandardScaler or MinMaxScaler.\n",
      "  warnings.warn(\n"
     ]
    },
    {
     "name": "stdout",
     "output_type": "stream",
     "text": [
      "[CV 3/3; 39/72] END svm__C=1, svm__cache_size=4000, svm__coef0=0, svm__gamma=auto, svm__kernel=rbf, svm__max_iter=10000, svm__probability=True;, score=0.000 total time= 2.9min\n",
      "[CV 1/3; 54/72] START svm__C=1, svm__cache_size=4000, svm__coef0=2, svm__gamma=scale, svm__kernel=rbf, svm__max_iter=10000, svm__probability=True\n",
      "[CV 2/3; 41/72] END svm__C=1, svm__cache_size=4000, svm__coef0=0, svm__gamma=scale, svm__kernel=poly, svm__max_iter=10000, svm__probability=True;, score=0.011 total time= 2.5min\n",
      "[CV 2/3; 54/72] START svm__C=1, svm__cache_size=4000, svm__coef0=2, svm__gamma=scale, svm__kernel=rbf, svm__max_iter=10000, svm__probability=True\n"
     ]
    },
    {
     "name": "stderr",
     "output_type": "stream",
     "text": [
      "/home/drumblum/Northeastern/cs6140/CS6140-final-project/.venv/lib/python3.11/site-packages/sklearn/svm/_base.py:299: ConvergenceWarning: Solver terminated early (max_iter=10000).  Consider pre-processing your data with StandardScaler or MinMaxScaler.\n",
      "  warnings.warn(\n",
      "/home/drumblum/Northeastern/cs6140/CS6140-final-project/.venv/lib/python3.11/site-packages/sklearn/svm/_base.py:299: ConvergenceWarning: Solver terminated early (max_iter=10000).  Consider pre-processing your data with StandardScaler or MinMaxScaler.\n",
      "  warnings.warn(\n"
     ]
    },
    {
     "name": "stdout",
     "output_type": "stream",
     "text": [
      "[CV 1/3; 41/72] END svm__C=1, svm__cache_size=4000, svm__coef0=0, svm__gamma=scale, svm__kernel=poly, svm__max_iter=10000, svm__probability=True;, score=0.011 total time= 2.6min\n",
      "[CV 3/3; 54/72] START svm__C=1, svm__cache_size=4000, svm__coef0=2, svm__gamma=scale, svm__kernel=rbf, svm__max_iter=10000, svm__probability=True\n",
      "[CV 3/3; 43/72] END svm__C=1, svm__cache_size=4000, svm__coef0=1, svm__gamma=auto, svm__kernel=linear, svm__max_iter=10000, svm__probability=True;, score=0.134 total time= 2.0min\n",
      "[CV 1/3; 55/72] START svm__C=10, svm__cache_size=4000, svm__coef0=0, svm__gamma=auto, svm__kernel=linear, svm__max_iter=10000, svm__probability=True\n",
      "[CV 1/3; 43/72] END svm__C=1, svm__cache_size=4000, svm__coef0=1, svm__gamma=auto, svm__kernel=linear, svm__max_iter=10000, svm__probability=True;, score=0.117 total time= 2.1min\n",
      "[CV 2/3; 55/72] START svm__C=10, svm__cache_size=4000, svm__coef0=0, svm__gamma=auto, svm__kernel=linear, svm__max_iter=10000, svm__probability=True\n"
     ]
    },
    {
     "name": "stderr",
     "output_type": "stream",
     "text": [
      "/home/drumblum/Northeastern/cs6140/CS6140-final-project/.venv/lib/python3.11/site-packages/sklearn/svm/_base.py:299: ConvergenceWarning: Solver terminated early (max_iter=10000).  Consider pre-processing your data with StandardScaler or MinMaxScaler.\n",
      "  warnings.warn(\n"
     ]
    },
    {
     "name": "stdout",
     "output_type": "stream",
     "text": [
      "[CV 3/3; 41/72] END svm__C=1, svm__cache_size=4000, svm__coef0=0, svm__gamma=scale, svm__kernel=poly, svm__max_iter=10000, svm__probability=True;, score=0.015 total time= 2.6min\n",
      "[CV 3/3; 55/72] START svm__C=10, svm__cache_size=4000, svm__coef0=0, svm__gamma=auto, svm__kernel=linear, svm__max_iter=10000, svm__probability=True\n",
      "[CV 1/3; 46/72] END svm__C=1, svm__cache_size=4000, svm__coef0=1, svm__gamma=scale, svm__kernel=linear, svm__max_iter=10000, svm__probability=True;, score=0.117 total time= 1.8min\n",
      "[CV 1/3; 56/72] START svm__C=10, svm__cache_size=4000, svm__coef0=0, svm__gamma=auto, svm__kernel=poly, svm__max_iter=10000, svm__probability=True\n",
      "[CV 2/3; 44/72] END svm__C=1, svm__cache_size=4000, svm__coef0=1, svm__gamma=auto, svm__kernel=poly, svm__max_iter=10000, svm__probability=True;, score=0.000 total time= 2.1min\n",
      "[CV 2/3; 56/72] START svm__C=10, svm__cache_size=4000, svm__coef0=0, svm__gamma=auto, svm__kernel=poly, svm__max_iter=10000, svm__probability=True\n",
      "[CV 3/3; 44/72] END svm__C=1, svm__cache_size=4000, svm__coef0=1, svm__gamma=auto, svm__kernel=poly, svm__max_iter=10000, svm__probability=True;, score=0.000 total time= 2.1min\n",
      "[CV 3/3; 56/72] START svm__C=10, svm__cache_size=4000, svm__coef0=0, svm__gamma=auto, svm__kernel=poly, svm__max_iter=10000, svm__probability=True\n",
      "[CV 3/3; 46/72] END svm__C=1, svm__cache_size=4000, svm__coef0=1, svm__gamma=scale, svm__kernel=linear, svm__max_iter=10000, svm__probability=True;, score=0.134 total time= 1.8min\n",
      "[CV 1/3; 57/72] START svm__C=10, svm__cache_size=4000, svm__coef0=0, svm__gamma=auto, svm__kernel=rbf, svm__max_iter=10000, svm__probability=True\n",
      "[CV 3/3; 42/72] END svm__C=1, svm__cache_size=4000, svm__coef0=0, svm__gamma=scale, svm__kernel=rbf, svm__max_iter=10000, svm__probability=True;, score=0.011 total time= 2.3min\n",
      "[CV 2/3; 57/72] START svm__C=10, svm__cache_size=4000, svm__coef0=0, svm__gamma=auto, svm__kernel=rbf, svm__max_iter=10000, svm__probability=True\n",
      "[CV 1/3; 44/72] END svm__C=1, svm__cache_size=4000, svm__coef0=1, svm__gamma=auto, svm__kernel=poly, svm__max_iter=10000, svm__probability=True;, score=0.000 total time= 2.2min\n",
      "[CV 3/3; 57/72] START svm__C=10, svm__cache_size=4000, svm__coef0=0, svm__gamma=auto, svm__kernel=rbf, svm__max_iter=10000, svm__probability=True\n",
      "[CV 2/3; 43/72] END svm__C=1, svm__cache_size=4000, svm__coef0=1, svm__gamma=auto, svm__kernel=linear, svm__max_iter=10000, svm__probability=True;, score=0.117 total time= 2.3min\n",
      "[CV 1/3; 58/72] START svm__C=10, svm__cache_size=4000, svm__coef0=0, svm__gamma=scale, svm__kernel=linear, svm__max_iter=10000, svm__probability=True\n",
      "[CV 2/3; 46/72] END svm__C=1, svm__cache_size=4000, svm__coef0=1, svm__gamma=scale, svm__kernel=linear, svm__max_iter=10000, svm__probability=True;, score=0.117 total time= 2.0min\n",
      "[CV 2/3; 58/72] START svm__C=10, svm__cache_size=4000, svm__coef0=0, svm__gamma=scale, svm__kernel=linear, svm__max_iter=10000, svm__probability=True\n",
      "[CV 2/3; 45/72] END svm__C=1, svm__cache_size=4000, svm__coef0=1, svm__gamma=auto, svm__kernel=rbf, svm__max_iter=10000, svm__probability=True;, score=0.000 total time= 2.2min\n",
      "[CV 3/3; 58/72] START svm__C=10, svm__cache_size=4000, svm__coef0=0, svm__gamma=scale, svm__kernel=linear, svm__max_iter=10000, svm__probability=True\n"
     ]
    },
    {
     "name": "stderr",
     "output_type": "stream",
     "text": [
      "/home/drumblum/Northeastern/cs6140/CS6140-final-project/.venv/lib/python3.11/site-packages/sklearn/svm/_base.py:299: ConvergenceWarning: Solver terminated early (max_iter=10000).  Consider pre-processing your data with StandardScaler or MinMaxScaler.\n",
      "  warnings.warn(\n",
      "/home/drumblum/Northeastern/cs6140/CS6140-final-project/.venv/lib/python3.11/site-packages/sklearn/svm/_base.py:299: ConvergenceWarning: Solver terminated early (max_iter=10000).  Consider pre-processing your data with StandardScaler or MinMaxScaler.\n",
      "  warnings.warn(\n"
     ]
    },
    {
     "name": "stdout",
     "output_type": "stream",
     "text": [
      "[CV 2/3; 47/72] END svm__C=1, svm__cache_size=4000, svm__coef0=1, svm__gamma=scale, svm__kernel=poly, svm__max_iter=10000, svm__probability=True;, score=0.179 total time= 2.1min\n",
      "[CV 1/3; 59/72] START svm__C=10, svm__cache_size=4000, svm__coef0=0, svm__gamma=scale, svm__kernel=poly, svm__max_iter=10000, svm__probability=True\n",
      "[CV 2/3; 52/72] END svm__C=1, svm__cache_size=4000, svm__coef0=2, svm__gamma=scale, svm__kernel=linear, svm__max_iter=10000, svm__probability=True;, score=0.117 total time= 1.5min\n",
      "[CV 2/3; 59/72] START svm__C=10, svm__cache_size=4000, svm__coef0=0, svm__gamma=scale, svm__kernel=poly, svm__max_iter=10000, svm__probability=True\n",
      "[CV 3/3; 49/72] END svm__C=1, svm__cache_size=4000, svm__coef0=2, svm__gamma=auto, svm__kernel=linear, svm__max_iter=10000, svm__probability=True;, score=0.134 total time= 2.0min\n",
      "[CV 3/3; 59/72] START svm__C=10, svm__cache_size=4000, svm__coef0=0, svm__gamma=scale, svm__kernel=poly, svm__max_iter=10000, svm__probability=True\n",
      "[CV 2/3; 49/72] END svm__C=1, svm__cache_size=4000, svm__coef0=2, svm__gamma=auto, svm__kernel=linear, svm__max_iter=10000, svm__probability=True;, score=0.117 total time= 2.0min\n",
      "[CV 1/3; 60/72] START svm__C=10, svm__cache_size=4000, svm__coef0=0, svm__gamma=scale, svm__kernel=rbf, svm__max_iter=10000, svm__probability=True\n",
      "[CV 2/3; 42/72] END svm__C=1, svm__cache_size=4000, svm__coef0=0, svm__gamma=scale, svm__kernel=rbf, svm__max_iter=10000, svm__probability=True;, score=0.000 total time= 2.9min\n",
      "[CV 2/3; 60/72] START svm__C=10, svm__cache_size=4000, svm__coef0=0, svm__gamma=scale, svm__kernel=rbf, svm__max_iter=10000, svm__probability=True\n",
      "[CV 1/3; 45/72] END svm__C=1, svm__cache_size=4000, svm__coef0=1, svm__gamma=auto, svm__kernel=rbf, svm__max_iter=10000, svm__probability=True;, score=0.000 total time= 2.6min\n",
      "[CV 3/3; 60/72] START svm__C=10, svm__cache_size=4000, svm__coef0=0, svm__gamma=scale, svm__kernel=rbf, svm__max_iter=10000, svm__probability=True\n",
      "[CV 3/3; 45/72] END svm__C=1, svm__cache_size=4000, svm__coef0=1, svm__gamma=auto, svm__kernel=rbf, svm__max_iter=10000, svm__probability=True;, score=0.000 total time= 2.4min\n",
      "[CV 1/3; 61/72] START svm__C=10, svm__cache_size=4000, svm__coef0=1, svm__gamma=auto, svm__kernel=linear, svm__max_iter=10000, svm__probability=True\n",
      "[CV 1/3; 49/72] END svm__C=1, svm__cache_size=4000, svm__coef0=2, svm__gamma=auto, svm__kernel=linear, svm__max_iter=10000, svm__probability=True;, score=0.117 total time= 2.3min\n",
      "[CV 2/3; 61/72] START svm__C=10, svm__cache_size=4000, svm__coef0=1, svm__gamma=auto, svm__kernel=linear, svm__max_iter=10000, svm__probability=True\n"
     ]
    },
    {
     "name": "stderr",
     "output_type": "stream",
     "text": [
      "/home/drumblum/Northeastern/cs6140/CS6140-final-project/.venv/lib/python3.11/site-packages/sklearn/svm/_base.py:299: ConvergenceWarning: Solver terminated early (max_iter=10000).  Consider pre-processing your data with StandardScaler or MinMaxScaler.\n",
      "  warnings.warn(\n"
     ]
    },
    {
     "name": "stdout",
     "output_type": "stream",
     "text": [
      "[CV 1/3; 48/72] END svm__C=1, svm__cache_size=4000, svm__coef0=1, svm__gamma=scale, svm__kernel=rbf, svm__max_iter=10000, svm__probability=True;, score=0.004 total time= 2.5min\n",
      "[CV 3/3; 61/72] START svm__C=10, svm__cache_size=4000, svm__coef0=1, svm__gamma=auto, svm__kernel=linear, svm__max_iter=10000, svm__probability=True\n"
     ]
    },
    {
     "name": "stderr",
     "output_type": "stream",
     "text": [
      "/home/drumblum/Northeastern/cs6140/CS6140-final-project/.venv/lib/python3.11/site-packages/sklearn/svm/_base.py:299: ConvergenceWarning: Solver terminated early (max_iter=10000).  Consider pre-processing your data with StandardScaler or MinMaxScaler.\n",
      "  warnings.warn(\n",
      "/home/drumblum/Northeastern/cs6140/CS6140-final-project/.venv/lib/python3.11/site-packages/sklearn/svm/_base.py:299: ConvergenceWarning: Solver terminated early (max_iter=10000).  Consider pre-processing your data with StandardScaler or MinMaxScaler.\n",
      "  warnings.warn(\n"
     ]
    },
    {
     "name": "stdout",
     "output_type": "stream",
     "text": [
      "[CV 1/3; 52/72] END svm__C=1, svm__cache_size=4000, svm__coef0=2, svm__gamma=scale, svm__kernel=linear, svm__max_iter=10000, svm__probability=True;, score=0.117 total time= 2.0min\n",
      "[CV 1/3; 62/72] START svm__C=10, svm__cache_size=4000, svm__coef0=1, svm__gamma=auto, svm__kernel=poly, svm__max_iter=10000, svm__probability=True\n"
     ]
    },
    {
     "name": "stderr",
     "output_type": "stream",
     "text": [
      "/home/drumblum/Northeastern/cs6140/CS6140-final-project/.venv/lib/python3.11/site-packages/sklearn/svm/_base.py:299: ConvergenceWarning: Solver terminated early (max_iter=10000).  Consider pre-processing your data with StandardScaler or MinMaxScaler.\n",
      "  warnings.warn(\n"
     ]
    },
    {
     "name": "stdout",
     "output_type": "stream",
     "text": [
      "[CV 2/3; 48/72] END svm__C=1, svm__cache_size=4000, svm__coef0=1, svm__gamma=scale, svm__kernel=rbf, svm__max_iter=10000, svm__probability=True;, score=0.000 total time= 2.6min\n",
      "[CV 2/3; 62/72] START svm__C=10, svm__cache_size=4000, svm__coef0=1, svm__gamma=auto, svm__kernel=poly, svm__max_iter=10000, svm__probability=True\n",
      "[CV 3/3; 52/72] END svm__C=1, svm__cache_size=4000, svm__coef0=2, svm__gamma=scale, svm__kernel=linear, svm__max_iter=10000, svm__probability=True;, score=0.134 total time= 2.0min\n",
      "[CV 3/3; 62/72] START svm__C=10, svm__cache_size=4000, svm__coef0=1, svm__gamma=auto, svm__kernel=poly, svm__max_iter=10000, svm__probability=True\n"
     ]
    },
    {
     "name": "stderr",
     "output_type": "stream",
     "text": [
      "/home/drumblum/Northeastern/cs6140/CS6140-final-project/.venv/lib/python3.11/site-packages/sklearn/svm/_base.py:299: ConvergenceWarning: Solver terminated early (max_iter=10000).  Consider pre-processing your data with StandardScaler or MinMaxScaler.\n",
      "  warnings.warn(\n"
     ]
    },
    {
     "name": "stdout",
     "output_type": "stream",
     "text": [
      "[CV 1/3; 42/72] END svm__C=1, svm__cache_size=4000, svm__coef0=0, svm__gamma=scale, svm__kernel=rbf, svm__max_iter=10000, svm__probability=True;, score=0.004 total time= 3.4min\n",
      "[CV 1/3; 63/72] START svm__C=10, svm__cache_size=4000, svm__coef0=1, svm__gamma=auto, svm__kernel=rbf, svm__max_iter=10000, svm__probability=True\n",
      "[CV 1/3; 47/72] END svm__C=1, svm__cache_size=4000, svm__coef0=1, svm__gamma=scale, svm__kernel=poly, svm__max_iter=10000, svm__probability=True;, score=0.186 total time= 2.7min\n",
      "[CV 2/3; 63/72] START svm__C=10, svm__cache_size=4000, svm__coef0=1, svm__gamma=auto, svm__kernel=rbf, svm__max_iter=10000, svm__probability=True\n"
     ]
    },
    {
     "name": "stderr",
     "output_type": "stream",
     "text": [
      "/home/drumblum/Northeastern/cs6140/CS6140-final-project/.venv/lib/python3.11/site-packages/sklearn/svm/_base.py:299: ConvergenceWarning: Solver terminated early (max_iter=10000).  Consider pre-processing your data with StandardScaler or MinMaxScaler.\n",
      "  warnings.warn(\n"
     ]
    },
    {
     "name": "stdout",
     "output_type": "stream",
     "text": [
      "[CV 1/3; 50/72] END svm__C=1, svm__cache_size=4000, svm__coef0=2, svm__gamma=auto, svm__kernel=poly, svm__max_iter=10000, svm__probability=True;, score=0.004 total time= 2.4min\n",
      "[CV 3/3; 63/72] START svm__C=10, svm__cache_size=4000, svm__coef0=1, svm__gamma=auto, svm__kernel=rbf, svm__max_iter=10000, svm__probability=True\n",
      "[CV 2/3; 50/72] END svm__C=1, svm__cache_size=4000, svm__coef0=2, svm__gamma=auto, svm__kernel=poly, svm__max_iter=10000, svm__probability=True;, score=0.004 total time= 2.4min\n",
      "[CV 1/3; 64/72] START svm__C=10, svm__cache_size=4000, svm__coef0=1, svm__gamma=scale, svm__kernel=linear, svm__max_iter=10000, svm__probability=True\n"
     ]
    },
    {
     "name": "stderr",
     "output_type": "stream",
     "text": [
      "/home/drumblum/Northeastern/cs6140/CS6140-final-project/.venv/lib/python3.11/site-packages/sklearn/svm/_base.py:299: ConvergenceWarning: Solver terminated early (max_iter=10000).  Consider pre-processing your data with StandardScaler or MinMaxScaler.\n",
      "  warnings.warn(\n",
      "/home/drumblum/Northeastern/cs6140/CS6140-final-project/.venv/lib/python3.11/site-packages/sklearn/svm/_base.py:299: ConvergenceWarning: Solver terminated early (max_iter=10000).  Consider pre-processing your data with StandardScaler or MinMaxScaler.\n",
      "  warnings.warn(\n",
      "/home/drumblum/Northeastern/cs6140/CS6140-final-project/.venv/lib/python3.11/site-packages/sklearn/svm/_base.py:299: ConvergenceWarning: Solver terminated early (max_iter=10000).  Consider pre-processing your data with StandardScaler or MinMaxScaler.\n",
      "  warnings.warn(\n"
     ]
    },
    {
     "name": "stdout",
     "output_type": "stream",
     "text": [
      "[CV 3/3; 47/72] END svm__C=1, svm__cache_size=4000, svm__coef0=1, svm__gamma=scale, svm__kernel=poly, svm__max_iter=10000, svm__probability=True;, score=0.217 total time= 2.9min\n",
      "[CV 2/3; 64/72] START svm__C=10, svm__cache_size=4000, svm__coef0=1, svm__gamma=scale, svm__kernel=linear, svm__max_iter=10000, svm__probability=True\n",
      "[CV 2/3; 51/72] END svm__C=1, svm__cache_size=4000, svm__coef0=2, svm__gamma=auto, svm__kernel=rbf, svm__max_iter=10000, svm__probability=True;, score=0.000 total time= 2.3min\n",
      "[CV 3/3; 64/72] START svm__C=10, svm__cache_size=4000, svm__coef0=1, svm__gamma=scale, svm__kernel=linear, svm__max_iter=10000, svm__probability=True\n",
      "[CV 3/3; 50/72] END svm__C=1, svm__cache_size=4000, svm__coef0=2, svm__gamma=auto, svm__kernel=poly, svm__max_iter=10000, svm__probability=True;, score=0.004 total time= 2.5min\n",
      "[CV 1/3; 65/72] START svm__C=10, svm__cache_size=4000, svm__coef0=1, svm__gamma=scale, svm__kernel=poly, svm__max_iter=10000, svm__probability=True\n",
      "[CV 1/3; 51/72] END svm__C=1, svm__cache_size=4000, svm__coef0=2, svm__gamma=auto, svm__kernel=rbf, svm__max_iter=10000, svm__probability=True;, score=0.000 total time= 2.4min\n",
      "[CV 2/3; 65/72] START svm__C=10, svm__cache_size=4000, svm__coef0=1, svm__gamma=scale, svm__kernel=poly, svm__max_iter=10000, svm__probability=True\n",
      "[CV 3/3; 48/72] END svm__C=1, svm__cache_size=4000, svm__coef0=1, svm__gamma=scale, svm__kernel=rbf, svm__max_iter=10000, svm__probability=True;, score=0.011 total time= 2.9min\n",
      "[CV 3/3; 65/72] START svm__C=10, svm__cache_size=4000, svm__coef0=1, svm__gamma=scale, svm__kernel=poly, svm__max_iter=10000, svm__probability=True\n"
     ]
    },
    {
     "name": "stderr",
     "output_type": "stream",
     "text": [
      "/home/drumblum/Northeastern/cs6140/CS6140-final-project/.venv/lib/python3.11/site-packages/sklearn/svm/_base.py:299: ConvergenceWarning: Solver terminated early (max_iter=10000).  Consider pre-processing your data with StandardScaler or MinMaxScaler.\n",
      "  warnings.warn(\n"
     ]
    },
    {
     "name": "stdout",
     "output_type": "stream",
     "text": [
      "[CV 3/3; 51/72] END svm__C=1, svm__cache_size=4000, svm__coef0=2, svm__gamma=auto, svm__kernel=rbf, svm__max_iter=10000, svm__probability=True;, score=0.000 total time= 2.5min\n",
      "[CV 1/3; 66/72] START svm__C=10, svm__cache_size=4000, svm__coef0=1, svm__gamma=scale, svm__kernel=rbf, svm__max_iter=10000, svm__probability=True\n",
      "[CV 1/3; 53/72] END svm__C=1, svm__cache_size=4000, svm__coef0=2, svm__gamma=scale, svm__kernel=poly, svm__max_iter=10000, svm__probability=True;, score=0.365 total time= 2.4min\n",
      "[CV 2/3; 66/72] START svm__C=10, svm__cache_size=4000, svm__coef0=1, svm__gamma=scale, svm__kernel=rbf, svm__max_iter=10000, svm__probability=True\n",
      "[CV 1/3; 56/72] END svm__C=10, svm__cache_size=4000, svm__coef0=0, svm__gamma=auto, svm__kernel=poly, svm__max_iter=10000, svm__probability=True;, score=0.000 total time= 1.5min\n",
      "[CV 3/3; 66/72] START svm__C=10, svm__cache_size=4000, svm__coef0=1, svm__gamma=scale, svm__kernel=rbf, svm__max_iter=10000, svm__probability=True\n",
      "[CV 2/3; 56/72] END svm__C=10, svm__cache_size=4000, svm__coef0=0, svm__gamma=auto, svm__kernel=poly, svm__max_iter=10000, svm__probability=True;, score=0.000 total time= 1.5min\n",
      "[CV 1/3; 67/72] START svm__C=10, svm__cache_size=4000, svm__coef0=2, svm__gamma=auto, svm__kernel=linear, svm__max_iter=10000, svm__probability=True\n",
      "[CV 3/3; 56/72] END svm__C=10, svm__cache_size=4000, svm__coef0=0, svm__gamma=auto, svm__kernel=poly, svm__max_iter=10000, svm__probability=True;, score=0.000 total time= 1.6min\n",
      "[CV 2/3; 67/72] START svm__C=10, svm__cache_size=4000, svm__coef0=2, svm__gamma=auto, svm__kernel=linear, svm__max_iter=10000, svm__probability=True\n"
     ]
    },
    {
     "name": "stderr",
     "output_type": "stream",
     "text": [
      "/home/drumblum/Northeastern/cs6140/CS6140-final-project/.venv/lib/python3.11/site-packages/sklearn/svm/_base.py:299: ConvergenceWarning: Solver terminated early (max_iter=10000).  Consider pre-processing your data with StandardScaler or MinMaxScaler.\n",
      "  warnings.warn(\n",
      "/home/drumblum/Northeastern/cs6140/CS6140-final-project/.venv/lib/python3.11/site-packages/sklearn/svm/_base.py:299: ConvergenceWarning: Solver terminated early (max_iter=10000).  Consider pre-processing your data with StandardScaler or MinMaxScaler.\n",
      "  warnings.warn(\n",
      "/home/drumblum/Northeastern/cs6140/CS6140-final-project/.venv/lib/python3.11/site-packages/sklearn/svm/_base.py:299: ConvergenceWarning: Solver terminated early (max_iter=10000).  Consider pre-processing your data with StandardScaler or MinMaxScaler.\n",
      "  warnings.warn(\n"
     ]
    },
    {
     "name": "stdout",
     "output_type": "stream",
     "text": [
      "[CV 2/3; 53/72] END svm__C=1, svm__cache_size=4000, svm__coef0=2, svm__gamma=scale, svm__kernel=poly, svm__max_iter=10000, svm__probability=True;, score=0.351 total time= 2.6min\n",
      "[CV 3/3; 67/72] START svm__C=10, svm__cache_size=4000, svm__coef0=2, svm__gamma=auto, svm__kernel=linear, svm__max_iter=10000, svm__probability=True\n",
      "[CV 3/3; 53/72] END svm__C=1, svm__cache_size=4000, svm__coef0=2, svm__gamma=scale, svm__kernel=poly, svm__max_iter=10000, svm__probability=True;, score=0.417 total time= 2.7min\n",
      "[CV 1/3; 68/72] START svm__C=10, svm__cache_size=4000, svm__coef0=2, svm__gamma=auto, svm__kernel=poly, svm__max_iter=10000, svm__probability=True\n",
      "[CV 2/3; 55/72] END svm__C=10, svm__cache_size=4000, svm__coef0=0, svm__gamma=auto, svm__kernel=linear, svm__max_iter=10000, svm__probability=True;, score=0.514 total time= 2.2min\n",
      "[CV 2/3; 68/72] START svm__C=10, svm__cache_size=4000, svm__coef0=2, svm__gamma=auto, svm__kernel=poly, svm__max_iter=10000, svm__probability=True\n",
      "[CV 3/3; 55/72] END svm__C=10, svm__cache_size=4000, svm__coef0=0, svm__gamma=auto, svm__kernel=linear, svm__max_iter=10000, svm__probability=True;, score=0.582 total time= 2.2min\n",
      "[CV 3/3; 68/72] START svm__C=10, svm__cache_size=4000, svm__coef0=2, svm__gamma=auto, svm__kernel=poly, svm__max_iter=10000, svm__probability=True\n",
      "[CV 1/3; 58/72] END svm__C=10, svm__cache_size=4000, svm__coef0=0, svm__gamma=scale, svm__kernel=linear, svm__max_iter=10000, svm__probability=True;, score=0.505 total time= 2.3min\n",
      "[CV 1/3; 69/72] START svm__C=10, svm__cache_size=4000, svm__coef0=2, svm__gamma=auto, svm__kernel=rbf, svm__max_iter=10000, svm__probability=True\n",
      "[CV 3/3; 58/72] END svm__C=10, svm__cache_size=4000, svm__coef0=0, svm__gamma=scale, svm__kernel=linear, svm__max_iter=10000, svm__probability=True;, score=0.582 total time= 2.2min\n",
      "[CV 2/3; 69/72] START svm__C=10, svm__cache_size=4000, svm__coef0=2, svm__gamma=auto, svm__kernel=rbf, svm__max_iter=10000, svm__probability=True\n",
      "[CV 1/3; 55/72] END svm__C=10, svm__cache_size=4000, svm__coef0=0, svm__gamma=auto, svm__kernel=linear, svm__max_iter=10000, svm__probability=True;, score=0.505 total time= 2.7min\n",
      "[CV 3/3; 69/72] START svm__C=10, svm__cache_size=4000, svm__coef0=2, svm__gamma=auto, svm__kernel=rbf, svm__max_iter=10000, svm__probability=True\n"
     ]
    },
    {
     "name": "stderr",
     "output_type": "stream",
     "text": [
      "/home/drumblum/Northeastern/cs6140/CS6140-final-project/.venv/lib/python3.11/site-packages/sklearn/svm/_base.py:299: ConvergenceWarning: Solver terminated early (max_iter=10000).  Consider pre-processing your data with StandardScaler or MinMaxScaler.\n",
      "  warnings.warn(\n",
      "/home/drumblum/Northeastern/cs6140/CS6140-final-project/.venv/lib/python3.11/site-packages/sklearn/svm/_base.py:299: ConvergenceWarning: Solver terminated early (max_iter=10000).  Consider pre-processing your data with StandardScaler or MinMaxScaler.\n",
      "  warnings.warn(\n",
      "/home/drumblum/Northeastern/cs6140/CS6140-final-project/.venv/lib/python3.11/site-packages/sklearn/svm/_base.py:299: ConvergenceWarning: Solver terminated early (max_iter=10000).  Consider pre-processing your data with StandardScaler or MinMaxScaler.\n",
      "  warnings.warn(\n",
      "/home/drumblum/Northeastern/cs6140/CS6140-final-project/.venv/lib/python3.11/site-packages/sklearn/svm/_base.py:299: ConvergenceWarning: Solver terminated early (max_iter=10000).  Consider pre-processing your data with StandardScaler or MinMaxScaler.\n",
      "  warnings.warn(\n"
     ]
    },
    {
     "name": "stdout",
     "output_type": "stream",
     "text": [
      "[CV 2/3; 58/72] END svm__C=10, svm__cache_size=4000, svm__coef0=0, svm__gamma=scale, svm__kernel=linear, svm__max_iter=10000, svm__probability=True;, score=0.514 total time= 2.4min\n",
      "[CV 1/3; 70/72] START svm__C=10, svm__cache_size=4000, svm__coef0=2, svm__gamma=scale, svm__kernel=linear, svm__max_iter=10000, svm__probability=True\n",
      "[CV 1/3; 59/72] END svm__C=10, svm__cache_size=4000, svm__coef0=0, svm__gamma=scale, svm__kernel=poly, svm__max_iter=10000, svm__probability=True;, score=0.231 total time= 2.2min\n",
      "[CV 2/3; 70/72] START svm__C=10, svm__cache_size=4000, svm__coef0=2, svm__gamma=scale, svm__kernel=linear, svm__max_iter=10000, svm__probability=True\n"
     ]
    },
    {
     "name": "stderr",
     "output_type": "stream",
     "text": [
      "/home/drumblum/Northeastern/cs6140/CS6140-final-project/.venv/lib/python3.11/site-packages/sklearn/svm/_base.py:299: ConvergenceWarning: Solver terminated early (max_iter=10000).  Consider pre-processing your data with StandardScaler or MinMaxScaler.\n",
      "  warnings.warn(\n"
     ]
    },
    {
     "name": "stdout",
     "output_type": "stream",
     "text": [
      "[CV 3/3; 54/72] END svm__C=1, svm__cache_size=4000, svm__coef0=2, svm__gamma=scale, svm__kernel=rbf, svm__max_iter=10000, svm__probability=True;, score=0.011 total time= 2.8min\n",
      "[CV 3/3; 70/72] START svm__C=10, svm__cache_size=4000, svm__coef0=2, svm__gamma=scale, svm__kernel=linear, svm__max_iter=10000, svm__probability=True\n"
     ]
    },
    {
     "name": "stderr",
     "output_type": "stream",
     "text": [
      "/home/drumblum/Northeastern/cs6140/CS6140-final-project/.venv/lib/python3.11/site-packages/sklearn/svm/_base.py:299: ConvergenceWarning: Solver terminated early (max_iter=10000).  Consider pre-processing your data with StandardScaler or MinMaxScaler.\n",
      "  warnings.warn(\n"
     ]
    },
    {
     "name": "stdout",
     "output_type": "stream",
     "text": [
      "[CV 3/3; 59/72] END svm__C=10, svm__cache_size=4000, svm__coef0=0, svm__gamma=scale, svm__kernel=poly, svm__max_iter=10000, svm__probability=True;, score=0.263 total time= 2.3min\n",
      "[CV 1/3; 71/72] START svm__C=10, svm__cache_size=4000, svm__coef0=2, svm__gamma=scale, svm__kernel=poly, svm__max_iter=10000, svm__probability=True\n",
      "[CV 1/3; 54/72] END svm__C=1, svm__cache_size=4000, svm__coef0=2, svm__gamma=scale, svm__kernel=rbf, svm__max_iter=10000, svm__probability=True;, score=0.004 total time= 3.1min\n",
      "[CV 2/3; 71/72] START svm__C=10, svm__cache_size=4000, svm__coef0=2, svm__gamma=scale, svm__kernel=poly, svm__max_iter=10000, svm__probability=True\n",
      "[CV 2/3; 54/72] END svm__C=1, svm__cache_size=4000, svm__coef0=2, svm__gamma=scale, svm__kernel=rbf, svm__max_iter=10000, svm__probability=True;, score=0.000 total time= 3.0min\n",
      "[CV 3/3; 71/72] START svm__C=10, svm__cache_size=4000, svm__coef0=2, svm__gamma=scale, svm__kernel=poly, svm__max_iter=10000, svm__probability=True\n",
      "[CV 2/3; 57/72] END svm__C=10, svm__cache_size=4000, svm__coef0=0, svm__gamma=auto, svm__kernel=rbf, svm__max_iter=10000, svm__probability=True;, score=0.004 total time= 2.8min\n",
      "[CV 1/3; 72/72] START svm__C=10, svm__cache_size=4000, svm__coef0=2, svm__gamma=scale, svm__kernel=rbf, svm__max_iter=10000, svm__probability=True\n"
     ]
    },
    {
     "name": "stderr",
     "output_type": "stream",
     "text": [
      "/home/drumblum/Northeastern/cs6140/CS6140-final-project/.venv/lib/python3.11/site-packages/sklearn/svm/_base.py:299: ConvergenceWarning: Solver terminated early (max_iter=10000).  Consider pre-processing your data with StandardScaler or MinMaxScaler.\n",
      "  warnings.warn(\n",
      "/home/drumblum/Northeastern/cs6140/CS6140-final-project/.venv/lib/python3.11/site-packages/sklearn/svm/_base.py:299: ConvergenceWarning: Solver terminated early (max_iter=10000).  Consider pre-processing your data with StandardScaler or MinMaxScaler.\n",
      "  warnings.warn(\n"
     ]
    },
    {
     "name": "stdout",
     "output_type": "stream",
     "text": [
      "[CV 3/3; 61/72] END svm__C=10, svm__cache_size=4000, svm__coef0=1, svm__gamma=auto, svm__kernel=linear, svm__max_iter=10000, svm__probability=True;, score=0.582 total time= 2.2min\n",
      "[CV 2/3; 72/72] START svm__C=10, svm__cache_size=4000, svm__coef0=2, svm__gamma=scale, svm__kernel=rbf, svm__max_iter=10000, svm__probability=True\n",
      "[CV 2/3; 61/72] END svm__C=10, svm__cache_size=4000, svm__coef0=1, svm__gamma=auto, svm__kernel=linear, svm__max_iter=10000, svm__probability=True;, score=0.514 total time= 2.4min\n",
      "[CV 3/3; 72/72] START svm__C=10, svm__cache_size=4000, svm__coef0=2, svm__gamma=scale, svm__kernel=rbf, svm__max_iter=10000, svm__probability=True\n"
     ]
    },
    {
     "name": "stderr",
     "output_type": "stream",
     "text": [
      "/home/drumblum/Northeastern/cs6140/CS6140-final-project/.venv/lib/python3.11/site-packages/sklearn/svm/_base.py:299: ConvergenceWarning: Solver terminated early (max_iter=10000).  Consider pre-processing your data with StandardScaler or MinMaxScaler.\n",
      "  warnings.warn(\n"
     ]
    },
    {
     "name": "stdout",
     "output_type": "stream",
     "text": [
      "[CV 2/3; 59/72] END svm__C=10, svm__cache_size=4000, svm__coef0=0, svm__gamma=scale, svm__kernel=poly, svm__max_iter=10000, svm__probability=True;, score=0.208 total time= 2.7min\n",
      "[CV 3/3; 57/72] END svm__C=10, svm__cache_size=4000, svm__coef0=0, svm__gamma=auto, svm__kernel=rbf, svm__max_iter=10000, svm__probability=True;, score=0.015 total time= 3.0min\n"
     ]
    },
    {
     "name": "stderr",
     "output_type": "stream",
     "text": [
      "/home/drumblum/Northeastern/cs6140/CS6140-final-project/.venv/lib/python3.11/site-packages/sklearn/svm/_base.py:299: ConvergenceWarning: Solver terminated early (max_iter=10000).  Consider pre-processing your data with StandardScaler or MinMaxScaler.\n",
      "  warnings.warn(\n",
      "/home/drumblum/Northeastern/cs6140/CS6140-final-project/.venv/lib/python3.11/site-packages/sklearn/svm/_base.py:299: ConvergenceWarning: Solver terminated early (max_iter=10000).  Consider pre-processing your data with StandardScaler or MinMaxScaler.\n",
      "  warnings.warn(\n",
      "/home/drumblum/Northeastern/cs6140/CS6140-final-project/.venv/lib/python3.11/site-packages/sklearn/svm/_base.py:299: ConvergenceWarning: Solver terminated early (max_iter=10000).  Consider pre-processing your data with StandardScaler or MinMaxScaler.\n",
      "  warnings.warn(\n"
     ]
    },
    {
     "name": "stdout",
     "output_type": "stream",
     "text": [
      "[CV 1/3; 64/72] END svm__C=10, svm__cache_size=4000, svm__coef0=1, svm__gamma=scale, svm__kernel=linear, svm__max_iter=10000, svm__probability=True;, score=0.505 total time= 2.2min\n"
     ]
    },
    {
     "name": "stderr",
     "output_type": "stream",
     "text": [
      "/home/drumblum/Northeastern/cs6140/CS6140-final-project/.venv/lib/python3.11/site-packages/sklearn/svm/_base.py:299: ConvergenceWarning: Solver terminated early (max_iter=10000).  Consider pre-processing your data with StandardScaler or MinMaxScaler.\n",
      "  warnings.warn(\n"
     ]
    },
    {
     "name": "stdout",
     "output_type": "stream",
     "text": [
      "[CV 1/3; 60/72] END svm__C=10, svm__cache_size=4000, svm__coef0=0, svm__gamma=scale, svm__kernel=rbf, svm__max_iter=10000, svm__probability=True;, score=0.206 total time= 2.9min\n",
      "[CV 1/3; 61/72] END svm__C=10, svm__cache_size=4000, svm__coef0=1, svm__gamma=auto, svm__kernel=linear, svm__max_iter=10000, svm__probability=True;, score=0.505 total time= 2.8min\n",
      "[CV 2/3; 60/72] END svm__C=10, svm__cache_size=4000, svm__coef0=0, svm__gamma=scale, svm__kernel=rbf, svm__max_iter=10000, svm__probability=True;, score=0.191 total time= 2.8min\n",
      "[CV 1/3; 57/72] END svm__C=10, svm__cache_size=4000, svm__coef0=0, svm__gamma=auto, svm__kernel=rbf, svm__max_iter=10000, svm__probability=True;, score=0.004 total time= 3.4min\n",
      "[CV 1/3; 62/72] END svm__C=10, svm__cache_size=4000, svm__coef0=1, svm__gamma=auto, svm__kernel=poly, svm__max_iter=10000, svm__probability=True;, score=0.011 total time= 2.5min\n",
      "[CV 3/3; 60/72] END svm__C=10, svm__cache_size=4000, svm__coef0=0, svm__gamma=scale, svm__kernel=rbf, svm__max_iter=10000, svm__probability=True;, score=0.228 total time= 2.9min\n"
     ]
    },
    {
     "name": "stderr",
     "output_type": "stream",
     "text": [
      "/home/drumblum/Northeastern/cs6140/CS6140-final-project/.venv/lib/python3.11/site-packages/sklearn/svm/_base.py:299: ConvergenceWarning: Solver terminated early (max_iter=10000).  Consider pre-processing your data with StandardScaler or MinMaxScaler.\n",
      "  warnings.warn(\n"
     ]
    },
    {
     "name": "stdout",
     "output_type": "stream",
     "text": [
      "[CV 3/3; 62/72] END svm__C=10, svm__cache_size=4000, svm__coef0=1, svm__gamma=auto, svm__kernel=poly, svm__max_iter=10000, svm__probability=True;, score=0.030 total time= 2.5min\n"
     ]
    },
    {
     "name": "stderr",
     "output_type": "stream",
     "text": [
      "/home/drumblum/Northeastern/cs6140/CS6140-final-project/.venv/lib/python3.11/site-packages/sklearn/svm/_base.py:299: ConvergenceWarning: Solver terminated early (max_iter=10000).  Consider pre-processing your data with StandardScaler or MinMaxScaler.\n",
      "  warnings.warn(\n",
      "/home/drumblum/Northeastern/cs6140/CS6140-final-project/.venv/lib/python3.11/site-packages/sklearn/svm/_base.py:299: ConvergenceWarning: Solver terminated early (max_iter=10000).  Consider pre-processing your data with StandardScaler or MinMaxScaler.\n",
      "  warnings.warn(\n"
     ]
    },
    {
     "name": "stdout",
     "output_type": "stream",
     "text": [
      "[CV 1/3; 65/72] END svm__C=10, svm__cache_size=4000, svm__coef0=1, svm__gamma=scale, svm__kernel=poly, svm__max_iter=10000, svm__probability=True;, score=0.545 total time= 2.3min\n",
      "[CV 2/3; 62/72] END svm__C=10, svm__cache_size=4000, svm__coef0=1, svm__gamma=auto, svm__kernel=poly, svm__max_iter=10000, svm__probability=True;, score=0.011 total time= 2.6min\n"
     ]
    },
    {
     "name": "stderr",
     "output_type": "stream",
     "text": [
      "/home/drumblum/Northeastern/cs6140/CS6140-final-project/.venv/lib/python3.11/site-packages/sklearn/svm/_base.py:299: ConvergenceWarning: Solver terminated early (max_iter=10000).  Consider pre-processing your data with StandardScaler or MinMaxScaler.\n",
      "  warnings.warn(\n"
     ]
    },
    {
     "name": "stdout",
     "output_type": "stream",
     "text": [
      "[CV 2/3; 67/72] END svm__C=10, svm__cache_size=4000, svm__coef0=2, svm__gamma=auto, svm__kernel=linear, svm__max_iter=10000, svm__probability=True;, score=0.514 total time= 1.9min\n",
      "[CV 3/3; 65/72] END svm__C=10, svm__cache_size=4000, svm__coef0=1, svm__gamma=scale, svm__kernel=poly, svm__max_iter=10000, svm__probability=True;, score=0.572 total time= 2.3min\n",
      "[CV 2/3; 64/72] END svm__C=10, svm__cache_size=4000, svm__coef0=1, svm__gamma=scale, svm__kernel=linear, svm__max_iter=10000, svm__probability=True;, score=0.514 total time= 2.4min\n"
     ]
    },
    {
     "name": "stderr",
     "output_type": "stream",
     "text": [
      "/home/drumblum/Northeastern/cs6140/CS6140-final-project/.venv/lib/python3.11/site-packages/sklearn/svm/_base.py:299: ConvergenceWarning: Solver terminated early (max_iter=10000).  Consider pre-processing your data with StandardScaler or MinMaxScaler.\n",
      "  warnings.warn(\n"
     ]
    },
    {
     "name": "stdout",
     "output_type": "stream",
     "text": [
      "[CV 3/3; 64/72] END svm__C=10, svm__cache_size=4000, svm__coef0=1, svm__gamma=scale, svm__kernel=linear, svm__max_iter=10000, svm__probability=True;, score=0.582 total time= 2.5min\n"
     ]
    },
    {
     "name": "stderr",
     "output_type": "stream",
     "text": [
      "/home/drumblum/Northeastern/cs6140/CS6140-final-project/.venv/lib/python3.11/site-packages/sklearn/svm/_base.py:299: ConvergenceWarning: Solver terminated early (max_iter=10000).  Consider pre-processing your data with StandardScaler or MinMaxScaler.\n",
      "  warnings.warn(\n",
      "/home/drumblum/Northeastern/cs6140/CS6140-final-project/.venv/lib/python3.11/site-packages/sklearn/svm/_base.py:299: ConvergenceWarning: Solver terminated early (max_iter=10000).  Consider pre-processing your data with StandardScaler or MinMaxScaler.\n",
      "  warnings.warn(\n"
     ]
    },
    {
     "name": "stdout",
     "output_type": "stream",
     "text": [
      "[CV 2/3; 65/72] END svm__C=10, svm__cache_size=4000, svm__coef0=1, svm__gamma=scale, svm__kernel=poly, svm__max_iter=10000, svm__probability=True;, score=0.512 total time= 2.5min\n"
     ]
    },
    {
     "name": "stderr",
     "output_type": "stream",
     "text": [
      "/home/drumblum/Northeastern/cs6140/CS6140-final-project/.venv/lib/python3.11/site-packages/sklearn/svm/_base.py:299: ConvergenceWarning: Solver terminated early (max_iter=10000).  Consider pre-processing your data with StandardScaler or MinMaxScaler.\n",
      "  warnings.warn(\n"
     ]
    },
    {
     "name": "stdout",
     "output_type": "stream",
     "text": [
      "[CV 1/3; 67/72] END svm__C=10, svm__cache_size=4000, svm__coef0=2, svm__gamma=auto, svm__kernel=linear, svm__max_iter=10000, svm__probability=True;, score=0.505 total time= 2.2min\n"
     ]
    },
    {
     "name": "stderr",
     "output_type": "stream",
     "text": [
      "/home/drumblum/Northeastern/cs6140/CS6140-final-project/.venv/lib/python3.11/site-packages/sklearn/svm/_base.py:299: ConvergenceWarning: Solver terminated early (max_iter=10000).  Consider pre-processing your data with StandardScaler or MinMaxScaler.\n",
      "  warnings.warn(\n"
     ]
    },
    {
     "name": "stdout",
     "output_type": "stream",
     "text": [
      "[CV 2/3; 63/72] END svm__C=10, svm__cache_size=4000, svm__coef0=1, svm__gamma=auto, svm__kernel=rbf, svm__max_iter=10000, svm__probability=True;, score=0.004 total time= 2.8min\n",
      "[CV 1/3; 63/72] END svm__C=10, svm__cache_size=4000, svm__coef0=1, svm__gamma=auto, svm__kernel=rbf, svm__max_iter=10000, svm__probability=True;, score=0.004 total time= 2.8min\n"
     ]
    },
    {
     "name": "stderr",
     "output_type": "stream",
     "text": [
      "/home/drumblum/Northeastern/cs6140/CS6140-final-project/.venv/lib/python3.11/site-packages/sklearn/svm/_base.py:299: ConvergenceWarning: Solver terminated early (max_iter=10000).  Consider pre-processing your data with StandardScaler or MinMaxScaler.\n",
      "  warnings.warn(\n"
     ]
    },
    {
     "name": "stdout",
     "output_type": "stream",
     "text": [
      "[CV 2/3; 66/72] END svm__C=10, svm__cache_size=4000, svm__coef0=1, svm__gamma=scale, svm__kernel=rbf, svm__max_iter=10000, svm__probability=True;, score=0.191 total time= 2.3min\n",
      "[CV 3/3; 66/72] END svm__C=10, svm__cache_size=4000, svm__coef0=1, svm__gamma=scale, svm__kernel=rbf, svm__max_iter=10000, svm__probability=True;, score=0.228 total time= 2.3min\n"
     ]
    },
    {
     "name": "stderr",
     "output_type": "stream",
     "text": [
      "/home/drumblum/Northeastern/cs6140/CS6140-final-project/.venv/lib/python3.11/site-packages/sklearn/svm/_base.py:299: ConvergenceWarning: Solver terminated early (max_iter=10000).  Consider pre-processing your data with StandardScaler or MinMaxScaler.\n",
      "  warnings.warn(\n"
     ]
    },
    {
     "name": "stdout",
     "output_type": "stream",
     "text": [
      "[CV 1/3; 66/72] END svm__C=10, svm__cache_size=4000, svm__coef0=1, svm__gamma=scale, svm__kernel=rbf, svm__max_iter=10000, svm__probability=True;, score=0.206 total time= 2.4min\n"
     ]
    },
    {
     "name": "stderr",
     "output_type": "stream",
     "text": [
      "/home/drumblum/Northeastern/cs6140/CS6140-final-project/.venv/lib/python3.11/site-packages/sklearn/svm/_base.py:299: ConvergenceWarning: Solver terminated early (max_iter=10000).  Consider pre-processing your data with StandardScaler or MinMaxScaler.\n",
      "  warnings.warn(\n"
     ]
    },
    {
     "name": "stdout",
     "output_type": "stream",
     "text": [
      "[CV 2/3; 68/72] END svm__C=10, svm__cache_size=4000, svm__coef0=2, svm__gamma=auto, svm__kernel=poly, svm__max_iter=10000, svm__probability=True;, score=0.117 total time= 1.8min\n",
      "[CV 3/3; 63/72] END svm__C=10, svm__cache_size=4000, svm__coef0=1, svm__gamma=auto, svm__kernel=rbf, svm__max_iter=10000, svm__probability=True;, score=0.015 total time= 2.8min\n"
     ]
    },
    {
     "name": "stderr",
     "output_type": "stream",
     "text": [
      "/home/drumblum/Northeastern/cs6140/CS6140-final-project/.venv/lib/python3.11/site-packages/sklearn/svm/_base.py:299: ConvergenceWarning: Solver terminated early (max_iter=10000).  Consider pre-processing your data with StandardScaler or MinMaxScaler.\n",
      "  warnings.warn(\n",
      "/home/drumblum/Northeastern/cs6140/CS6140-final-project/.venv/lib/python3.11/site-packages/sklearn/svm/_base.py:299: ConvergenceWarning: Solver terminated early (max_iter=10000).  Consider pre-processing your data with StandardScaler or MinMaxScaler.\n",
      "  warnings.warn(\n"
     ]
    },
    {
     "name": "stdout",
     "output_type": "stream",
     "text": [
      "[CV 1/3; 68/72] END svm__C=10, svm__cache_size=4000, svm__coef0=2, svm__gamma=auto, svm__kernel=poly, svm__max_iter=10000, svm__probability=True;, score=0.117 total time= 1.9min\n",
      "[CV 3/3; 68/72] END svm__C=10, svm__cache_size=4000, svm__coef0=2, svm__gamma=auto, svm__kernel=poly, svm__max_iter=10000, svm__probability=True;, score=0.141 total time= 1.8min\n",
      "[CV 3/3; 67/72] END svm__C=10, svm__cache_size=4000, svm__coef0=2, svm__gamma=auto, svm__kernel=linear, svm__max_iter=10000, svm__probability=True;, score=0.582 total time= 2.0min\n",
      "[CV 2/3; 70/72] END svm__C=10, svm__cache_size=4000, svm__coef0=2, svm__gamma=scale, svm__kernel=linear, svm__max_iter=10000, svm__probability=True;, score=0.514 total time= 1.4min\n",
      "[CV 1/3; 70/72] END svm__C=10, svm__cache_size=4000, svm__coef0=2, svm__gamma=scale, svm__kernel=linear, svm__max_iter=10000, svm__probability=True;, score=0.505 total time= 1.4min\n",
      "[CV 3/3; 70/72] END svm__C=10, svm__cache_size=4000, svm__coef0=2, svm__gamma=scale, svm__kernel=linear, svm__max_iter=10000, svm__probability=True;, score=0.582 total time= 1.4min\n"
     ]
    },
    {
     "name": "stderr",
     "output_type": "stream",
     "text": [
      "/home/drumblum/Northeastern/cs6140/CS6140-final-project/.venv/lib/python3.11/site-packages/sklearn/svm/_base.py:299: ConvergenceWarning: Solver terminated early (max_iter=10000).  Consider pre-processing your data with StandardScaler or MinMaxScaler.\n",
      "  warnings.warn(\n"
     ]
    },
    {
     "name": "stdout",
     "output_type": "stream",
     "text": [
      "[CV 1/3; 71/72] END svm__C=10, svm__cache_size=4000, svm__coef0=2, svm__gamma=scale, svm__kernel=poly, svm__max_iter=10000, svm__probability=True;, score=0.570 total time= 1.3min\n"
     ]
    },
    {
     "name": "stderr",
     "output_type": "stream",
     "text": [
      "/home/drumblum/Northeastern/cs6140/CS6140-final-project/.venv/lib/python3.11/site-packages/sklearn/svm/_base.py:299: ConvergenceWarning: Solver terminated early (max_iter=10000).  Consider pre-processing your data with StandardScaler or MinMaxScaler.\n",
      "  warnings.warn(\n",
      "/home/drumblum/Northeastern/cs6140/CS6140-final-project/.venv/lib/python3.11/site-packages/sklearn/svm/_base.py:299: ConvergenceWarning: Solver terminated early (max_iter=10000).  Consider pre-processing your data with StandardScaler or MinMaxScaler.\n",
      "  warnings.warn(\n"
     ]
    },
    {
     "name": "stdout",
     "output_type": "stream",
     "text": [
      "[CV 3/3; 71/72] END svm__C=10, svm__cache_size=4000, svm__coef0=2, svm__gamma=scale, svm__kernel=poly, svm__max_iter=10000, svm__probability=True;, score=0.612 total time= 1.3min\n"
     ]
    },
    {
     "name": "stderr",
     "output_type": "stream",
     "text": [
      "/home/drumblum/Northeastern/cs6140/CS6140-final-project/.venv/lib/python3.11/site-packages/sklearn/svm/_base.py:299: ConvergenceWarning: Solver terminated early (max_iter=10000).  Consider pre-processing your data with StandardScaler or MinMaxScaler.\n",
      "  warnings.warn(\n",
      "/home/drumblum/Northeastern/cs6140/CS6140-final-project/.venv/lib/python3.11/site-packages/sklearn/svm/_base.py:299: ConvergenceWarning: Solver terminated early (max_iter=10000).  Consider pre-processing your data with StandardScaler or MinMaxScaler.\n",
      "  warnings.warn(\n"
     ]
    },
    {
     "name": "stdout",
     "output_type": "stream",
     "text": [
      "[CV 1/3; 69/72] END svm__C=10, svm__cache_size=4000, svm__coef0=2, svm__gamma=auto, svm__kernel=rbf, svm__max_iter=10000, svm__probability=True;, score=0.004 total time= 1.6min\n",
      "[CV 2/3; 71/72] END svm__C=10, svm__cache_size=4000, svm__coef0=2, svm__gamma=scale, svm__kernel=poly, svm__max_iter=10000, svm__probability=True;, score=0.595 total time= 1.3min\n",
      "[CV 1/3; 72/72] END svm__C=10, svm__cache_size=4000, svm__coef0=2, svm__gamma=scale, svm__kernel=rbf, svm__max_iter=10000, svm__probability=True;, score=0.206 total time= 1.2min\n"
     ]
    },
    {
     "name": "stderr",
     "output_type": "stream",
     "text": [
      "/home/drumblum/Northeastern/cs6140/CS6140-final-project/.venv/lib/python3.11/site-packages/sklearn/svm/_base.py:299: ConvergenceWarning: Solver terminated early (max_iter=10000).  Consider pre-processing your data with StandardScaler or MinMaxScaler.\n",
      "  warnings.warn(\n",
      "/home/drumblum/Northeastern/cs6140/CS6140-final-project/.venv/lib/python3.11/site-packages/sklearn/svm/_base.py:299: ConvergenceWarning: Solver terminated early (max_iter=10000).  Consider pre-processing your data with StandardScaler or MinMaxScaler.\n",
      "  warnings.warn(\n",
      "/home/drumblum/Northeastern/cs6140/CS6140-final-project/.venv/lib/python3.11/site-packages/sklearn/svm/_base.py:299: ConvergenceWarning: Solver terminated early (max_iter=10000).  Consider pre-processing your data with StandardScaler or MinMaxScaler.\n",
      "  warnings.warn(\n"
     ]
    },
    {
     "name": "stdout",
     "output_type": "stream",
     "text": [
      "[CV 2/3; 69/72] END svm__C=10, svm__cache_size=4000, svm__coef0=2, svm__gamma=auto, svm__kernel=rbf, svm__max_iter=10000, svm__probability=True;, score=0.004 total time= 1.6min\n",
      "[CV 2/3; 72/72] END svm__C=10, svm__cache_size=4000, svm__coef0=2, svm__gamma=scale, svm__kernel=rbf, svm__max_iter=10000, svm__probability=True;, score=0.191 total time= 1.1min\n",
      "[CV 3/3; 69/72] END svm__C=10, svm__cache_size=4000, svm__coef0=2, svm__gamma=auto, svm__kernel=rbf, svm__max_iter=10000, svm__probability=True;, score=0.015 total time= 1.6min\n"
     ]
    },
    {
     "name": "stderr",
     "output_type": "stream",
     "text": [
      "/home/drumblum/Northeastern/cs6140/CS6140-final-project/.venv/lib/python3.11/site-packages/sklearn/svm/_base.py:299: ConvergenceWarning: Solver terminated early (max_iter=10000).  Consider pre-processing your data with StandardScaler or MinMaxScaler.\n",
      "  warnings.warn(\n"
     ]
    },
    {
     "name": "stdout",
     "output_type": "stream",
     "text": [
      "[CV 3/3; 72/72] END svm__C=10, svm__cache_size=4000, svm__coef0=2, svm__gamma=scale, svm__kernel=rbf, svm__max_iter=10000, svm__probability=True;, score=0.228 total time= 1.1min\n"
     ]
    },
    {
     "name": "stderr",
     "output_type": "stream",
     "text": [
      "/home/drumblum/Northeastern/cs6140/CS6140-final-project/.venv/lib/python3.11/site-packages/sklearn/svm/_base.py:299: ConvergenceWarning: Solver terminated early (max_iter=10000).  Consider pre-processing your data with StandardScaler or MinMaxScaler.\n",
      "  warnings.warn(\n"
     ]
    }
   ],
   "source": [
    "svm_model = grid_search.fit(x_train, y_train.to_numpy().ravel())"
   ]
  },
  {
   "cell_type": "code",
   "execution_count": 8,
   "metadata": {},
   "outputs": [
    {
     "name": "stdout",
     "output_type": "stream",
     "text": [
      "{\n",
      "  \"gamma\": \"scale\",\n",
      "  \"kernel\": \"poly\",\n",
      "  \"C\": 10\n",
      "}\n",
      "{\n",
      "  \"Test Accuracy\": 0.5464190981432361,\n",
      "  \"Train Accuracy\": 0.5980926430517711,\n",
      "  \"Precision\": 0.6058823529411764,\n",
      "  \"Recall\": 0.4975845410628019,\n",
      "  \"F-Beta Score\": 0.5464190981432361,\n",
      "  \"F1 Score\": 0.5464190981432361\n",
      "}\n"
     ]
    }
   ],
   "source": [
    "params = models.get_best_params(models.ModelENUM.SVM, svm_model)\n",
    "results = models.analyze_model(svm_model, x_test, x_train, y_test, y_train)\n",
    "print(json.dumps(params, indent=2))\n",
    "print(json.dumps(results, indent=2))\n",
    "# models.save_model(models.ModelENUM.SVM, svm_model)"
   ]
  },
  {
   "cell_type": "code",
   "execution_count": 19,
   "metadata": {},
   "outputs": [
    {
     "name": "stdout",
     "output_type": "stream",
     "text": [
      "414\n"
     ]
    },
    {
     "data": {
      "image/png": "[encoded data removed]",
      "text/plain": [
       "<Figure size 640x480 with 1 Axes>"
      ]
     },
     "metadata": {},
     "output_type": "display_data"
    },
    {
     "data": {
      "image/png": "[encoded data removed]",
      "text/plain": [
       "<Figure size 640x480 with 2 Axes>"
      ]
     },
     "metadata": {},
     "output_type": "display_data"
    }
   ],
   "source": [
    "number_true = np.count_nonzero(y_test == 1)\n",
    "print(number_true)\n",
    "\n",
    "y_prob = svm_model.predict_proba(x_test)[:, 1]\n",
    "y_pred = svm_model.predict(x_test)\n",
    "plots.save_precision_recall_curve(\"lr\", \"test_file\", y_test, y_prob)\n",
    "plots.save_confusion_matrix(\"lr\", \"test_file\", y_test, y_pred)"
   ]
  }
 ],
 "metadata": {
  "kernelspec": {
   "display_name": ".venv",
   "language": "python",
   "name": "python3"
  },
  "language_info": {
   "codemirror_mode": {
    "name": "ipython",
    "version": 3
   },
   "file_extension": ".py",
   "mimetype": "text/x-python",
   "name": "python",
   "nbconvert_exporter": "python",
   "pygments_lexer": "ipython3",
   "version": "3.11.2"
  },
  "orig_nbformat": 4
 },
 "nbformat": 4,
 "nbformat_minor": 2
}
