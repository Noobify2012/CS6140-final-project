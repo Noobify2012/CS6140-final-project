{
 "cells": [
  {
   "cell_type": "code",
   "execution_count": 2,
   "metadata": {},
   "outputs": [],
   "source": [
    "%load_ext autoreload\n",
    "%autoreload 2\n",
    "\n",
    "import pandas as pd\n",
    "import numpy as np\n",
    "import warnings\n",
    "warnings.filterwarnings('ignore')\n",
    "\n",
    "from final_project import loader, builder, models, plots\n",
    "from final_project.models import ModelENUM\n",
    "from pathlib import Path\n",
    "from sklearn.model_selection import train_test_split"
   ]
  },
  {
   "cell_type": "code",
   "execution_count": 3,
   "metadata": {},
   "outputs": [],
   "source": [
    "df = loader.get_df(all_files=True)\n",
    "df = df[df['Origin'] == 'BOS']\n",
    "df = df[[\n",
    "    'DistanceGroup',\n",
    "    'DayofMonth',\n",
    "    'Month',\n",
    "    'Year',\n",
    "    'Duplicate',\n",
    "    'ArrDel15',\n",
    "    'DistanceGroup',\n",
    "    'WeatherDelay',\n",
    "    'NASDelay',\n",
    "    'SecurityDelay',\n",
    "    'Operating_Airline',\n",
    "    'Dest'\n",
    "]]\n",
    "df = builder.encodeFrame(df)\n",
    "\n",
    "delay_df = df[df['ArrDel15'] > 0.5].sample(n=2000)\n",
    "on_time_df = df[df['ArrDel15'] <= 0.5].sample(n=8000)\n",
    "sample_df = pd.concat([delay_df, on_time_df], ignore_index=True)\n",
    "\n",
    "\n",
    "x = sample_df.drop(columns=['ArrDel15'])\n",
    "y = sample_df[['ArrDel15']]\n",
    "x_train, x_test, y_train, y_test = train_test_split(x, y, test_size=0.2, random_state=150)"
   ]
  },
  {
   "cell_type": "code",
   "execution_count": 8,
   "metadata": {},
   "outputs": [],
   "source": [
    "svm_pipeline = models.get_pipeline(ModelENUM.SVM)\n",
    "param_grid = [\n",
    "    models.get_svm_param(gamma=['auto'], c_list=[.001, .01, 1, 10], coef0=[0, 1, 2], kernel=['linear', 'rbf'], max_iter=[5000])\n",
    "    # models.get_svm_param(gamma=[2, 3, 4, 'scale', 'auto'], c_list=[1e-2, 1e-1, 1e1, 1e2], coef0=[0, 1, 2], kernel=['linear', 'poly', 'rbf'])\n",
    "    # models.get_svm_param(gamma=[2], c_list=[1e-2], coef0=[1], kernel=['linear'])\n",
    "]\n",
    "grid_search = models.get_grid_search_cv(\n",
    "    pipeline=svm_pipeline, param_grid=param_grid, cv=3, n_jobs=40\n",
    ")"
   ]
  },
  {
   "cell_type": "code",
   "execution_count": 9,
   "metadata": {},
   "outputs": [
    {
     "name": "stdout",
     "output_type": "stream",
     "text": [
      "Fitting 3 folds for each of 27 candidates, totalling 81 fits\n",
      "[CV 1/3; 1/27] START svm__C=0.001, svm__cache_size=4000, svm__coef0=0, svm__gamma=auto, svm__kernel=linear, svm__max_iter=1000, svm__probability=True\n",
      "[CV 2/3; 1/27] START svm__C=0.001, svm__cache_size=4000, svm__coef0=0, svm__gamma=auto, svm__kernel=linear, svm__max_iter=1000, svm__probability=True\n",
      "[CV 3/3; 3/27] START svm__C=0.001, svm__cache_size=4000, svm__coef0=0, svm__gamma=auto, svm__kernel=rbf, svm__max_iter=1000, svm__probability=True\n",
      "[CV 3/3; 1/27] START svm__C=0.001, svm__cache_size=4000, svm__coef0=0, svm__gamma=auto, svm__kernel=linear, svm__max_iter=1000, svm__probability=True[CV 2/3; 7/27] START svm__C=0.001, svm__cache_size=4000, svm__coef0=2, svm__gamma=auto, svm__kernel=linear, svm__max_iter=1000, svm__probability=True\n",
      "\n",
      "[CV 1/3; 4/27] START svm__C=0.001, svm__cache_size=4000, svm__coef0=1, svm__gamma=auto, svm__kernel=linear, svm__max_iter=1000, svm__probability=True\n",
      "[CV 2/3; 4/27] START svm__C=0.001, svm__cache_size=4000, svm__coef0=1, svm__gamma=auto, svm__kernel=linear, svm__max_iter=1000, svm__probability=True\n",
      "[CV 3/3; 4/27] START svm__C=0.001, svm__cache_size=4000, svm__coef0=1, svm__gamma=auto, svm__kernel=linear, svm__max_iter=1000, svm__probability=True\n",
      "[CV 1/3; 2/27] START svm__C=0.001, svm__cache_size=4000, svm__coef0=0, svm__gamma=auto, svm__kernel=sigmoid, svm__max_iter=1000, svm__probability=True\n",
      "[CV 1/3; 6/27] START svm__C=0.001, svm__cache_size=4000, svm__coef0=1, svm__gamma=auto, svm__kernel=rbf, svm__max_iter=1000, svm__probability=True\n",
      "[CV 2/3; 5/27] START svm__C=0.001, svm__cache_size=4000, svm__coef0=1, svm__gamma=auto, svm__kernel=sigmoid, svm__max_iter=1000, svm__probability=True\n",
      "[CV 1/3; 3/27] START svm__C=0.001, svm__cache_size=4000, svm__coef0=0, svm__gamma=auto, svm__kernel=rbf, svm__max_iter=1000, svm__probability=True\n",
      "[CV 1/3; 5/27] START svm__C=0.001, svm__cache_size=4000, svm__coef0=1, svm__gamma=auto, svm__kernel=sigmoid, svm__max_iter=1000, svm__probability=True\n",
      "[CV 3/3; 5/27] START svm__C=0.001, svm__cache_size=4000, svm__coef0=1, svm__gamma=auto, svm__kernel=sigmoid, svm__max_iter=1000, svm__probability=True\n",
      "[CV 1/3; 8/27] START svm__C=0.001, svm__cache_size=4000, svm__coef0=2, svm__gamma=auto, svm__kernel=sigmoid, svm__max_iter=1000, svm__probability=True\n",
      "[CV 2/3; 12/27] START svm__C=0.01, svm__cache_size=4000, svm__coef0=0, svm__gamma=auto, svm__kernel=rbf, svm__max_iter=1000, svm__probability=True\n",
      "[CV 2/3; 2/27] START svm__C=0.001, svm__cache_size=4000, svm__coef0=0, svm__gamma=auto, svm__kernel=sigmoid, svm__max_iter=1000, svm__probability=True\n",
      "[CV 3/3; 2/27] START svm__C=0.001, svm__cache_size=4000, svm__coef0=0, svm__gamma=auto, svm__kernel=sigmoid, svm__max_iter=1000, svm__probability=True\n",
      "[CV 1/3; 9/27] START svm__C=0.001, svm__cache_size=4000, svm__coef0=2, svm__gamma=auto, svm__kernel=rbf, svm__max_iter=1000, svm__probability=True\n",
      "[CV 3/3; 6/27] START svm__C=0.001, svm__cache_size=4000, svm__coef0=1, svm__gamma=auto, svm__kernel=rbf, svm__max_iter=1000, svm__probability=True[CV 3/3; 7/27] START svm__C=0.001, svm__cache_size=4000, svm__coef0=2, svm__gamma=auto, svm__kernel=linear, svm__max_iter=1000, svm__probability=True\n",
      "\n",
      "[CV 3/3; 11/27] START svm__C=0.01, svm__cache_size=4000, svm__coef0=0, svm__gamma=auto, svm__kernel=sigmoid, svm__max_iter=1000, svm__probability=True\n",
      "[CV 2/3; 3/27] START svm__C=0.001, svm__cache_size=4000, svm__coef0=0, svm__gamma=auto, svm__kernel=rbf, svm__max_iter=1000, svm__probability=True\n",
      "[CV 2/3; 6/27] START svm__C=0.001, svm__cache_size=4000, svm__coef0=1, svm__gamma=auto, svm__kernel=rbf, svm__max_iter=1000, svm__probability=True\n",
      "[CV 2/3; 8/27] START svm__C=0.001, svm__cache_size=4000, svm__coef0=2, svm__gamma=auto, svm__kernel=sigmoid, svm__max_iter=1000, svm__probability=True\n",
      "[CV 3/3; 9/27] START svm__C=0.001, svm__cache_size=4000, svm__coef0=2, svm__gamma=auto, svm__kernel=rbf, svm__max_iter=1000, svm__probability=True\n",
      "[CV 1/3; 7/27] START svm__C=0.001, svm__cache_size=4000, svm__coef0=2, svm__gamma=auto, svm__kernel=linear, svm__max_iter=1000, svm__probability=True\n",
      "[CV 1/3; 10/27] START svm__C=0.01, svm__cache_size=4000, svm__coef0=0, svm__gamma=auto, svm__kernel=linear, svm__max_iter=1000, svm__probability=True\n",
      "[CV 2/3; 11/27] START svm__C=0.01, svm__cache_size=4000, svm__coef0=0, svm__gamma=auto, svm__kernel=sigmoid, svm__max_iter=1000, svm__probability=True\n",
      "[CV 3/3; 8/27] START svm__C=0.001, svm__cache_size=4000, svm__coef0=2, svm__gamma=auto, svm__kernel=sigmoid, svm__max_iter=1000, svm__probability=True\n",
      "[CV 2/3; 9/27] START svm__C=0.001, svm__cache_size=4000, svm__coef0=2, svm__gamma=auto, svm__kernel=rbf, svm__max_iter=1000, svm__probability=True\n",
      "[CV 3/3; 10/27] START svm__C=0.01, svm__cache_size=4000, svm__coef0=0, svm__gamma=auto, svm__kernel=linear, svm__max_iter=1000, svm__probability=True[CV 3/3; 13/27] START svm__C=0.01, svm__cache_size=4000, svm__coef0=1, svm__gamma=auto, svm__kernel=linear, svm__max_iter=1000, svm__probability=True\n",
      "\n",
      "[CV 2/3; 10/27] START svm__C=0.01, svm__cache_size=4000, svm__coef0=0, svm__gamma=auto, svm__kernel=linear, svm__max_iter=1000, svm__probability=True\n",
      "[CV 1/3; 14/27] START svm__C=0.01, svm__cache_size=4000, svm__coef0=1, svm__gamma=auto, svm__kernel=sigmoid, svm__max_iter=1000, svm__probability=True\n",
      "[CV 1/3; 11/27] START svm__C=0.01, svm__cache_size=4000, svm__coef0=0, svm__gamma=auto, svm__kernel=sigmoid, svm__max_iter=1000, svm__probability=True\n",
      "[CV 1/3; 12/27] START svm__C=0.01, svm__cache_size=4000, svm__coef0=0, svm__gamma=auto, svm__kernel=rbf, svm__max_iter=1000, svm__probability=True\n",
      "[CV 2/3; 13/27] START svm__C=0.01, svm__cache_size=4000, svm__coef0=1, svm__gamma=auto, svm__kernel=linear, svm__max_iter=1000, svm__probability=True\n",
      "[CV 1/3; 13/27] START svm__C=0.01, svm__cache_size=4000, svm__coef0=1, svm__gamma=auto, svm__kernel=linear, svm__max_iter=1000, svm__probability=True\n",
      "[CV 3/3; 12/27] START svm__C=0.01, svm__cache_size=4000, svm__coef0=0, svm__gamma=auto, svm__kernel=rbf, svm__max_iter=1000, svm__probability=True\n"
     ]
    },
    {
     "name": "stderr",
     "output_type": "stream",
     "text": [
      "/home/drumblum/Northeastern/cs6140/CS6140-final-project/.venv/lib/python3.11/site-packages/sklearn/svm/_base.py:299: ConvergenceWarning: Solver terminated early (max_iter=1000).  Consider pre-processing your data with StandardScaler or MinMaxScaler.\n",
      "  warnings.warn(\n",
      "/home/drumblum/Northeastern/cs6140/CS6140-final-project/.venv/lib/python3.11/site-packages/sklearn/svm/_base.py:299: ConvergenceWarning: Solver terminated early (max_iter=1000).  Consider pre-processing your data with StandardScaler or MinMaxScaler.\n",
      "  warnings.warn(\n"
     ]
    },
    {
     "name": "stdout",
     "output_type": "stream",
     "text": [
      "[CV 2/3; 13/27] END svm__C=0.01, svm__cache_size=4000, svm__coef0=1, svm__gamma=auto, svm__kernel=linear, svm__max_iter=1000, svm__probability=True;, score=0.558 total time= 1.6min\n",
      "[CV 2/3; 14/27] START svm__C=0.01, svm__cache_size=4000, svm__coef0=1, svm__gamma=auto, svm__kernel=sigmoid, svm__max_iter=1000, svm__probability=True\n",
      "[CV 3/3; 10/27] END svm__C=0.01, svm__cache_size=4000, svm__coef0=0, svm__gamma=auto, svm__kernel=linear, svm__max_iter=1000, svm__probability=True;, score=0.607 total time= 1.7min\n"
     ]
    },
    {
     "name": "stderr",
     "output_type": "stream",
     "text": [
      "/home/drumblum/Northeastern/cs6140/CS6140-final-project/.venv/lib/python3.11/site-packages/sklearn/svm/_base.py:299: ConvergenceWarning: Solver terminated early (max_iter=1000).  Consider pre-processing your data with StandardScaler or MinMaxScaler.\n",
      "  warnings.warn(\n"
     ]
    },
    {
     "name": "stdout",
     "output_type": "stream",
     "text": [
      "[CV 3/3; 14/27] START svm__C=0.01, svm__cache_size=4000, svm__coef0=1, svm__gamma=auto, svm__kernel=sigmoid, svm__max_iter=1000, svm__probability=True\n",
      "[CV 1/3; 1/27] END svm__C=0.001, svm__cache_size=4000, svm__coef0=0, svm__gamma=auto, svm__kernel=linear, svm__max_iter=1000, svm__probability=True;, score=0.372 total time= 1.8min\n"
     ]
    },
    {
     "name": "stderr",
     "output_type": "stream",
     "text": [
      "/home/drumblum/Northeastern/cs6140/CS6140-final-project/.venv/lib/python3.11/site-packages/sklearn/svm/_base.py:299: ConvergenceWarning: Solver terminated early (max_iter=1000).  Consider pre-processing your data with StandardScaler or MinMaxScaler.\n",
      "  warnings.warn(\n"
     ]
    },
    {
     "name": "stdout",
     "output_type": "stream",
     "text": [
      "[CV 1/3; 15/27] START svm__C=0.01, svm__cache_size=4000, svm__coef0=1, svm__gamma=auto, svm__kernel=rbf, svm__max_iter=1000, svm__probability=True\n",
      "[CV 2/3; 10/27] END svm__C=0.01, svm__cache_size=4000, svm__coef0=0, svm__gamma=auto, svm__kernel=linear, svm__max_iter=1000, svm__probability=True;, score=0.558 total time= 1.7min\n",
      "[CV 2/3; 15/27] START svm__C=0.01, svm__cache_size=4000, svm__coef0=1, svm__gamma=auto, svm__kernel=rbf, svm__max_iter=1000, svm__probability=True\n"
     ]
    },
    {
     "name": "stderr",
     "output_type": "stream",
     "text": [
      "/home/drumblum/Northeastern/cs6140/CS6140-final-project/.venv/lib/python3.11/site-packages/sklearn/svm/_base.py:299: ConvergenceWarning: Solver terminated early (max_iter=1000).  Consider pre-processing your data with StandardScaler or MinMaxScaler.\n",
      "  warnings.warn(\n",
      "/home/drumblum/Northeastern/cs6140/CS6140-final-project/.venv/lib/python3.11/site-packages/sklearn/svm/_base.py:299: ConvergenceWarning: Solver terminated early (max_iter=1000).  Consider pre-processing your data with StandardScaler or MinMaxScaler.\n",
      "  warnings.warn(\n"
     ]
    },
    {
     "name": "stdout",
     "output_type": "stream",
     "text": [
      "[CV 3/3; 4/27] END svm__C=0.001, svm__cache_size=4000, svm__coef0=1, svm__gamma=auto, svm__kernel=linear, svm__max_iter=1000, svm__probability=True;, score=0.331 total time= 1.8min\n",
      "[CV 2/3; 7/27] END svm__C=0.001, svm__cache_size=4000, svm__coef0=2, svm__gamma=auto, svm__kernel=linear, svm__max_iter=1000, svm__probability=True;, score=0.339 total time= 1.8min\n",
      "[CV 3/3; 15/27] START svm__C=0.01, svm__cache_size=4000, svm__coef0=1, svm__gamma=auto, svm__kernel=rbf, svm__max_iter=1000, svm__probability=True\n"
     ]
    },
    {
     "name": "stderr",
     "output_type": "stream",
     "text": [
      "/home/drumblum/Northeastern/cs6140/CS6140-final-project/.venv/lib/python3.11/site-packages/sklearn/svm/_base.py:299: ConvergenceWarning: Solver terminated early (max_iter=1000).  Consider pre-processing your data with StandardScaler or MinMaxScaler.\n",
      "  warnings.warn(\n"
     ]
    },
    {
     "name": "stdout",
     "output_type": "stream",
     "text": [
      "[CV 1/3; 16/27] START svm__C=0.01, svm__cache_size=4000, svm__coef0=2, svm__gamma=auto, svm__kernel=linear, svm__max_iter=1000, svm__probability=True\n",
      "[CV 3/3; 6/27] END svm__C=0.001, svm__cache_size=4000, svm__coef0=1, svm__gamma=auto, svm__kernel=rbf, svm__max_iter=1000, svm__probability=True;, score=0.665 total time= 1.9min\n",
      "[CV 2/3; 16/27] START svm__C=0.01, svm__cache_size=4000, svm__coef0=2, svm__gamma=auto, svm__kernel=linear, svm__max_iter=1000, svm__probability=True\n"
     ]
    },
    {
     "name": "stderr",
     "output_type": "stream",
     "text": [
      "/home/drumblum/Northeastern/cs6140/CS6140-final-project/.venv/lib/python3.11/site-packages/sklearn/svm/_base.py:299: ConvergenceWarning: Solver terminated early (max_iter=1000).  Consider pre-processing your data with StandardScaler or MinMaxScaler.\n",
      "  warnings.warn(\n"
     ]
    },
    {
     "name": "stdout",
     "output_type": "stream",
     "text": [
      "[CV 1/3; 13/27] END svm__C=0.01, svm__cache_size=4000, svm__coef0=1, svm__gamma=auto, svm__kernel=linear, svm__max_iter=1000, svm__probability=True;, score=0.644 total time= 1.9min\n",
      "[CV 3/3; 16/27] START svm__C=0.01, svm__cache_size=4000, svm__coef0=2, svm__gamma=auto, svm__kernel=linear, svm__max_iter=1000, svm__probability=True\n"
     ]
    },
    {
     "name": "stderr",
     "output_type": "stream",
     "text": [
      "/home/drumblum/Northeastern/cs6140/CS6140-final-project/.venv/lib/python3.11/site-packages/sklearn/svm/_base.py:299: ConvergenceWarning: Solver terminated early (max_iter=1000).  Consider pre-processing your data with StandardScaler or MinMaxScaler.\n",
      "  warnings.warn(\n",
      "/home/drumblum/Northeastern/cs6140/CS6140-final-project/.venv/lib/python3.11/site-packages/sklearn/svm/_base.py:299: ConvergenceWarning: Solver terminated early (max_iter=1000).  Consider pre-processing your data with StandardScaler or MinMaxScaler.\n",
      "  warnings.warn(\n"
     ]
    },
    {
     "name": "stdout",
     "output_type": "stream",
     "text": [
      "[CV 1/3; 4/27] END svm__C=0.001, svm__cache_size=4000, svm__coef0=1, svm__gamma=auto, svm__kernel=linear, svm__max_iter=1000, svm__probability=True;, score=0.372 total time= 2.0min\n"
     ]
    },
    {
     "name": "stderr",
     "output_type": "stream",
     "text": [
      "/home/drumblum/Northeastern/cs6140/CS6140-final-project/.venv/lib/python3.11/site-packages/sklearn/svm/_base.py:299: ConvergenceWarning: Solver terminated early (max_iter=1000).  Consider pre-processing your data with StandardScaler or MinMaxScaler.\n",
      "  warnings.warn(\n"
     ]
    },
    {
     "name": "stdout",
     "output_type": "stream",
     "text": [
      "[CV 1/3; 17/27] START svm__C=0.01, svm__cache_size=4000, svm__coef0=2, svm__gamma=auto, svm__kernel=sigmoid, svm__max_iter=1000, svm__probability=True\n",
      "[CV 3/3; 1/27] END svm__C=0.001, svm__cache_size=4000, svm__coef0=0, svm__gamma=auto, svm__kernel=linear, svm__max_iter=1000, svm__probability=True;, score=0.331 total time= 2.0min\n",
      "[CV 2/3; 17/27] START svm__C=0.01, svm__cache_size=4000, svm__coef0=2, svm__gamma=auto, svm__kernel=sigmoid, svm__max_iter=1000, svm__probability=True\n"
     ]
    },
    {
     "name": "stderr",
     "output_type": "stream",
     "text": [
      "/home/drumblum/Northeastern/cs6140/CS6140-final-project/.venv/lib/python3.11/site-packages/sklearn/svm/_base.py:299: ConvergenceWarning: Solver terminated early (max_iter=1000).  Consider pre-processing your data with StandardScaler or MinMaxScaler.\n",
      "  warnings.warn(\n"
     ]
    },
    {
     "name": "stdout",
     "output_type": "stream",
     "text": [
      "[CV 1/3; 10/27] END svm__C=0.01, svm__cache_size=4000, svm__coef0=0, svm__gamma=auto, svm__kernel=linear, svm__max_iter=1000, svm__probability=True;, score=0.644 total time= 2.0min\n"
     ]
    },
    {
     "name": "stderr",
     "output_type": "stream",
     "text": [
      "/home/drumblum/Northeastern/cs6140/CS6140-final-project/.venv/lib/python3.11/site-packages/sklearn/svm/_base.py:299: ConvergenceWarning: Solver terminated early (max_iter=1000).  Consider pre-processing your data with StandardScaler or MinMaxScaler.\n",
      "  warnings.warn(\n"
     ]
    },
    {
     "name": "stdout",
     "output_type": "stream",
     "text": [
      "[CV 2/3; 4/27] END svm__C=0.001, svm__cache_size=4000, svm__coef0=1, svm__gamma=auto, svm__kernel=linear, svm__max_iter=1000, svm__probability=True;, score=0.339 total time= 2.0min\n",
      "[CV 3/3; 17/27] START svm__C=0.01, svm__cache_size=4000, svm__coef0=2, svm__gamma=auto, svm__kernel=sigmoid, svm__max_iter=1000, svm__probability=True\n",
      "[CV 1/3; 18/27] START svm__C=0.01, svm__cache_size=4000, svm__coef0=2, svm__gamma=auto, svm__kernel=rbf, svm__max_iter=1000, svm__probability=True\n"
     ]
    },
    {
     "name": "stderr",
     "output_type": "stream",
     "text": [
      "/home/drumblum/Northeastern/cs6140/CS6140-final-project/.venv/lib/python3.11/site-packages/sklearn/svm/_base.py:299: ConvergenceWarning: Solver terminated early (max_iter=1000).  Consider pre-processing your data with StandardScaler or MinMaxScaler.\n",
      "  warnings.warn(\n"
     ]
    },
    {
     "name": "stdout",
     "output_type": "stream",
     "text": [
      "[CV 3/3; 13/27] END svm__C=0.01, svm__cache_size=4000, svm__coef0=1, svm__gamma=auto, svm__kernel=linear, svm__max_iter=1000, svm__probability=True;, score=0.607 total time= 2.0min\n",
      "[CV 1/3; 7/27] END svm__C=0.001, svm__cache_size=4000, svm__coef0=2, svm__gamma=auto, svm__kernel=linear, svm__max_iter=1000, svm__probability=True;, score=0.372 total time= 2.1min\n",
      "[CV 2/3; 18/27] START svm__C=0.01, svm__cache_size=4000, svm__coef0=2, svm__gamma=auto, svm__kernel=rbf, svm__max_iter=1000, svm__probability=True\n",
      "[CV 3/3; 18/27] START svm__C=0.01, svm__cache_size=4000, svm__coef0=2, svm__gamma=auto, svm__kernel=rbf, svm__max_iter=1000, svm__probability=True\n"
     ]
    },
    {
     "name": "stderr",
     "output_type": "stream",
     "text": [
      "/home/drumblum/Northeastern/cs6140/CS6140-final-project/.venv/lib/python3.11/site-packages/sklearn/svm/_base.py:299: ConvergenceWarning: Solver terminated early (max_iter=1000).  Consider pre-processing your data with StandardScaler or MinMaxScaler.\n",
      "  warnings.warn(\n",
      "/home/drumblum/Northeastern/cs6140/CS6140-final-project/.venv/lib/python3.11/site-packages/sklearn/svm/_base.py:299: ConvergenceWarning: Solver terminated early (max_iter=1000).  Consider pre-processing your data with StandardScaler or MinMaxScaler.\n",
      "  warnings.warn(\n"
     ]
    },
    {
     "name": "stdout",
     "output_type": "stream",
     "text": [
      "[CV 1/3; 3/27] END svm__C=0.001, svm__cache_size=4000, svm__coef0=0, svm__gamma=auto, svm__kernel=rbf, svm__max_iter=1000, svm__probability=True;, score=0.724 total time= 2.2min\n",
      "[CV 1/3; 19/27] START svm__C=1, svm__cache_size=4000, svm__coef0=0, svm__gamma=auto, svm__kernel=linear, svm__max_iter=1000, svm__probability=True\n",
      "[CV 2/3; 1/27] END svm__C=0.001, svm__cache_size=4000, svm__coef0=0, svm__gamma=auto, svm__kernel=linear, svm__max_iter=1000, svm__probability=True;, score=0.339 total time= 2.2min\n",
      "[CV 2/3; 19/27] START svm__C=1, svm__cache_size=4000, svm__coef0=0, svm__gamma=auto, svm__kernel=linear, svm__max_iter=1000, svm__probability=True\n"
     ]
    },
    {
     "name": "stderr",
     "output_type": "stream",
     "text": [
      "/home/drumblum/Northeastern/cs6140/CS6140-final-project/.venv/lib/python3.11/site-packages/sklearn/svm/_base.py:299: ConvergenceWarning: Solver terminated early (max_iter=1000).  Consider pre-processing your data with StandardScaler or MinMaxScaler.\n",
      "  warnings.warn(\n"
     ]
    },
    {
     "name": "stdout",
     "output_type": "stream",
     "text": [
      "[CV 2/3; 6/27] END svm__C=0.001, svm__cache_size=4000, svm__coef0=1, svm__gamma=auto, svm__kernel=rbf, svm__max_iter=1000, svm__probability=True;, score=0.646 total time= 2.2min\n",
      "[CV 3/3; 19/27] START svm__C=1, svm__cache_size=4000, svm__coef0=0, svm__gamma=auto, svm__kernel=linear, svm__max_iter=1000, svm__probability=True\n"
     ]
    },
    {
     "name": "stderr",
     "output_type": "stream",
     "text": [
      "/home/drumblum/Northeastern/cs6140/CS6140-final-project/.venv/lib/python3.11/site-packages/sklearn/svm/_base.py:299: ConvergenceWarning: Solver terminated early (max_iter=1000).  Consider pre-processing your data with StandardScaler or MinMaxScaler.\n",
      "  warnings.warn(\n"
     ]
    },
    {
     "name": "stdout",
     "output_type": "stream",
     "text": [
      "[CV 3/3; 7/27] END svm__C=0.001, svm__cache_size=4000, svm__coef0=2, svm__gamma=auto, svm__kernel=linear, svm__max_iter=1000, svm__probability=True;, score=0.331 total time= 2.3min\n",
      "[CV 1/3; 20/27] START svm__C=1, svm__cache_size=4000, svm__coef0=0, svm__gamma=auto, svm__kernel=sigmoid, svm__max_iter=1000, svm__probability=True\n"
     ]
    },
    {
     "name": "stderr",
     "output_type": "stream",
     "text": [
      "/home/drumblum/Northeastern/cs6140/CS6140-final-project/.venv/lib/python3.11/site-packages/sklearn/svm/_base.py:299: ConvergenceWarning: Solver terminated early (max_iter=1000).  Consider pre-processing your data with StandardScaler or MinMaxScaler.\n",
      "  warnings.warn(\n",
      "/home/drumblum/Northeastern/cs6140/CS6140-final-project/.venv/lib/python3.11/site-packages/sklearn/svm/_base.py:299: ConvergenceWarning: Solver terminated early (max_iter=1000).  Consider pre-processing your data with StandardScaler or MinMaxScaler.\n",
      "  warnings.warn(\n",
      "/home/drumblum/Northeastern/cs6140/CS6140-final-project/.venv/lib/python3.11/site-packages/sklearn/svm/_base.py:299: ConvergenceWarning: Solver terminated early (max_iter=1000).  Consider pre-processing your data with StandardScaler or MinMaxScaler.\n",
      "  warnings.warn(\n",
      "/home/drumblum/Northeastern/cs6140/CS6140-final-project/.venv/lib/python3.11/site-packages/sklearn/svm/_base.py:299: ConvergenceWarning: Solver terminated early (max_iter=1000).  Consider pre-processing your data with StandardScaler or MinMaxScaler.\n",
      "  warnings.warn(\n"
     ]
    },
    {
     "name": "stdout",
     "output_type": "stream",
     "text": [
      "[CV 3/3; 8/27] END svm__C=0.001, svm__cache_size=4000, svm__coef0=2, svm__gamma=auto, svm__kernel=sigmoid, svm__max_iter=1000, svm__probability=True;, score=0.498 total time= 2.4min\n",
      "[CV 2/3; 9/27] END svm__C=0.001, svm__cache_size=4000, svm__coef0=2, svm__gamma=auto, svm__kernel=rbf, svm__max_iter=1000, svm__probability=True;, score=0.646 total time= 2.4min\n",
      "[CV 2/3; 20/27] START svm__C=1, svm__cache_size=4000, svm__coef0=0, svm__gamma=auto, svm__kernel=sigmoid, svm__max_iter=1000, svm__probability=True\n",
      "[CV 3/3; 20/27] START svm__C=1, svm__cache_size=4000, svm__coef0=0, svm__gamma=auto, svm__kernel=sigmoid, svm__max_iter=1000, svm__probability=True[CV 2/3; 8/27] END svm__C=0.001, svm__cache_size=4000, svm__coef0=2, svm__gamma=auto, svm__kernel=sigmoid, svm__max_iter=1000, svm__probability=True;, score=0.468 total time= 2.4min\n",
      "\n",
      "[CV 1/3; 21/27] START svm__C=1, svm__cache_size=4000, svm__coef0=0, svm__gamma=auto, svm__kernel=rbf, svm__max_iter=1000, svm__probability=True\n"
     ]
    },
    {
     "name": "stderr",
     "output_type": "stream",
     "text": [
      "/home/drumblum/Northeastern/cs6140/CS6140-final-project/.venv/lib/python3.11/site-packages/sklearn/svm/_base.py:299: ConvergenceWarning: Solver terminated early (max_iter=1000).  Consider pre-processing your data with StandardScaler or MinMaxScaler.\n",
      "  warnings.warn(\n",
      "/home/drumblum/Northeastern/cs6140/CS6140-final-project/.venv/lib/python3.11/site-packages/sklearn/svm/_base.py:299: ConvergenceWarning: Solver terminated early (max_iter=1000).  Consider pre-processing your data with StandardScaler or MinMaxScaler.\n",
      "  warnings.warn(\n"
     ]
    },
    {
     "name": "stdout",
     "output_type": "stream",
     "text": [
      "[CV 1/3; 6/27] END svm__C=0.001, svm__cache_size=4000, svm__coef0=1, svm__gamma=auto, svm__kernel=rbf, svm__max_iter=1000, svm__probability=True;, score=0.724 total time= 2.5min\n"
     ]
    },
    {
     "name": "stderr",
     "output_type": "stream",
     "text": [
      "/home/drumblum/Northeastern/cs6140/CS6140-final-project/.venv/lib/python3.11/site-packages/sklearn/svm/_base.py:299: ConvergenceWarning: Solver terminated early (max_iter=1000).  Consider pre-processing your data with StandardScaler or MinMaxScaler.\n",
      "  warnings.warn(\n"
     ]
    },
    {
     "name": "stdout",
     "output_type": "stream",
     "text": [
      "[CV 3/3; 9/27] END svm__C=0.001, svm__cache_size=4000, svm__coef0=2, svm__gamma=auto, svm__kernel=rbf, svm__max_iter=1000, svm__probability=True;, score=0.665 total time= 2.4min\n",
      "[CV 2/3; 21/27] START svm__C=1, svm__cache_size=4000, svm__coef0=0, svm__gamma=auto, svm__kernel=rbf, svm__max_iter=1000, svm__probability=True\n",
      "[CV 3/3; 21/27] START svm__C=1, svm__cache_size=4000, svm__coef0=0, svm__gamma=auto, svm__kernel=rbf, svm__max_iter=1000, svm__probability=True\n",
      "[CV 2/3; 11/27] END svm__C=0.01, svm__cache_size=4000, svm__coef0=0, svm__gamma=auto, svm__kernel=sigmoid, svm__max_iter=1000, svm__probability=True;, score=0.671 total time= 2.4min\n",
      "[CV 1/3; 5/27] END svm__C=0.001, svm__cache_size=4000, svm__coef0=1, svm__gamma=auto, svm__kernel=sigmoid, svm__max_iter=1000, svm__probability=True;, score=0.578 total time= 2.5min\n",
      "[CV 1/3; 22/27] START svm__C=1, svm__cache_size=4000, svm__coef0=1, svm__gamma=auto, svm__kernel=linear, svm__max_iter=1000, svm__probability=True\n",
      "[CV 2/3; 22/27] START svm__C=1, svm__cache_size=4000, svm__coef0=1, svm__gamma=auto, svm__kernel=linear, svm__max_iter=1000, svm__probability=True\n"
     ]
    },
    {
     "name": "stderr",
     "output_type": "stream",
     "text": [
      "/home/drumblum/Northeastern/cs6140/CS6140-final-project/.venv/lib/python3.11/site-packages/sklearn/svm/_base.py:299: ConvergenceWarning: Solver terminated early (max_iter=1000).  Consider pre-processing your data with StandardScaler or MinMaxScaler.\n",
      "  warnings.warn(\n",
      "/home/drumblum/Northeastern/cs6140/CS6140-final-project/.venv/lib/python3.11/site-packages/sklearn/svm/_base.py:299: ConvergenceWarning: Solver terminated early (max_iter=1000).  Consider pre-processing your data with StandardScaler or MinMaxScaler.\n",
      "  warnings.warn(\n"
     ]
    },
    {
     "name": "stdout",
     "output_type": "stream",
     "text": [
      "[CV 2/3; 5/27] END svm__C=0.001, svm__cache_size=4000, svm__coef0=1, svm__gamma=auto, svm__kernel=sigmoid, svm__max_iter=1000, svm__probability=True;, score=0.495 total time= 2.5min\n",
      "[CV 3/3; 22/27] START svm__C=1, svm__cache_size=4000, svm__coef0=1, svm__gamma=auto, svm__kernel=linear, svm__max_iter=1000, svm__probability=True\n",
      "[CV 1/3; 2/27] END svm__C=0.001, svm__cache_size=4000, svm__coef0=0, svm__gamma=auto, svm__kernel=sigmoid, svm__max_iter=1000, svm__probability=True;, score=0.761 total time= 2.5min\n",
      "[CV 1/3; 23/27] START svm__C=1, svm__cache_size=4000, svm__coef0=1, svm__gamma=auto, svm__kernel=sigmoid, svm__max_iter=1000, svm__probability=True\n"
     ]
    },
    {
     "name": "stderr",
     "output_type": "stream",
     "text": [
      "/home/drumblum/Northeastern/cs6140/CS6140-final-project/.venv/lib/python3.11/site-packages/sklearn/svm/_base.py:299: ConvergenceWarning: Solver terminated early (max_iter=1000).  Consider pre-processing your data with StandardScaler or MinMaxScaler.\n",
      "  warnings.warn(\n",
      "/home/drumblum/Northeastern/cs6140/CS6140-final-project/.venv/lib/python3.11/site-packages/sklearn/svm/_base.py:299: ConvergenceWarning: Solver terminated early (max_iter=1000).  Consider pre-processing your data with StandardScaler or MinMaxScaler.\n",
      "  warnings.warn(\n",
      "/home/drumblum/Northeastern/cs6140/CS6140-final-project/.venv/lib/python3.11/site-packages/sklearn/svm/_base.py:299: ConvergenceWarning: Solver terminated early (max_iter=1000).  Consider pre-processing your data with StandardScaler or MinMaxScaler.\n",
      "  warnings.warn(\n",
      "/home/drumblum/Northeastern/cs6140/CS6140-final-project/.venv/lib/python3.11/site-packages/sklearn/svm/_base.py:299: ConvergenceWarning: Solver terminated early (max_iter=1000).  Consider pre-processing your data with StandardScaler or MinMaxScaler.\n",
      "  warnings.warn(\n",
      "/home/drumblum/Northeastern/cs6140/CS6140-final-project/.venv/lib/python3.11/site-packages/sklearn/svm/_base.py:299: ConvergenceWarning: Solver terminated early (max_iter=1000).  Consider pre-processing your data with StandardScaler or MinMaxScaler.\n",
      "  warnings.warn(\n",
      "/home/drumblum/Northeastern/cs6140/CS6140-final-project/.venv/lib/python3.11/site-packages/sklearn/svm/_base.py:299: ConvergenceWarning: Solver terminated early (max_iter=1000).  Consider pre-processing your data with StandardScaler or MinMaxScaler.\n",
      "  warnings.warn(\n",
      "/home/drumblum/Northeastern/cs6140/CS6140-final-project/.venv/lib/python3.11/site-packages/sklearn/svm/_base.py:299: ConvergenceWarning: Solver terminated early (max_iter=1000).  Consider pre-processing your data with StandardScaler or MinMaxScaler.\n",
      "  warnings.warn(\n"
     ]
    },
    {
     "name": "stdout",
     "output_type": "stream",
     "text": [
      "[CV 1/3; 9/27] END svm__C=0.001, svm__cache_size=4000, svm__coef0=2, svm__gamma=auto, svm__kernel=rbf, svm__max_iter=1000, svm__probability=True;, score=0.724 total time= 2.7min\n",
      "[CV 1/3; 11/27] END svm__C=0.01, svm__cache_size=4000, svm__coef0=0, svm__gamma=auto, svm__kernel=sigmoid, svm__max_iter=1000, svm__probability=True;, score=0.760 total time= 2.6min\n",
      "[CV 3/3; 5/27] END svm__C=0.001, svm__cache_size=4000, svm__coef0=1, svm__gamma=auto, svm__kernel=sigmoid, svm__max_iter=1000, svm__probability=True;, score=0.440 total time= 2.7min\n",
      "[CV 2/3; 23/27] START svm__C=1, svm__cache_size=4000, svm__coef0=1, svm__gamma=auto, svm__kernel=sigmoid, svm__max_iter=1000, svm__probability=True\n",
      "[CV 3/3; 23/27] START svm__C=1, svm__cache_size=4000, svm__coef0=1, svm__gamma=auto, svm__kernel=sigmoid, svm__max_iter=1000, svm__probability=True\n",
      "[CV 1/3; 24/27] START svm__C=1, svm__cache_size=4000, svm__coef0=1, svm__gamma=auto, svm__kernel=rbf, svm__max_iter=1000, svm__probability=True\n"
     ]
    },
    {
     "name": "stderr",
     "output_type": "stream",
     "text": [
      "/home/drumblum/Northeastern/cs6140/CS6140-final-project/.venv/lib/python3.11/site-packages/sklearn/svm/_base.py:299: ConvergenceWarning: Solver terminated early (max_iter=1000).  Consider pre-processing your data with StandardScaler or MinMaxScaler.\n",
      "  warnings.warn(\n",
      "/home/drumblum/Northeastern/cs6140/CS6140-final-project/.venv/lib/python3.11/site-packages/sklearn/svm/_base.py:299: ConvergenceWarning: Solver terminated early (max_iter=1000).  Consider pre-processing your data with StandardScaler or MinMaxScaler.\n",
      "  warnings.warn(\n"
     ]
    },
    {
     "name": "stdout",
     "output_type": "stream",
     "text": [
      "[CV 2/3; 12/27] END svm__C=0.01, svm__cache_size=4000, svm__coef0=0, svm__gamma=auto, svm__kernel=rbf, svm__max_iter=1000, svm__probability=True;, score=0.599 total time= 2.7min\n"
     ]
    },
    {
     "name": "stderr",
     "output_type": "stream",
     "text": [
      "/home/drumblum/Northeastern/cs6140/CS6140-final-project/.venv/lib/python3.11/site-packages/sklearn/svm/_base.py:299: ConvergenceWarning: Solver terminated early (max_iter=1000).  Consider pre-processing your data with StandardScaler or MinMaxScaler.\n",
      "  warnings.warn(\n"
     ]
    },
    {
     "name": "stdout",
     "output_type": "stream",
     "text": [
      "[CV 2/3; 24/27] START svm__C=1, svm__cache_size=4000, svm__coef0=1, svm__gamma=auto, svm__kernel=rbf, svm__max_iter=1000, svm__probability=True\n",
      "[CV 3/3; 3/27] END svm__C=0.001, svm__cache_size=4000, svm__coef0=0, svm__gamma=auto, svm__kernel=rbf, svm__max_iter=1000, svm__probability=True;, score=0.665 total time= 2.7min\n"
     ]
    },
    {
     "name": "stderr",
     "output_type": "stream",
     "text": [
      "/home/drumblum/Northeastern/cs6140/CS6140-final-project/.venv/lib/python3.11/site-packages/sklearn/svm/_base.py:299: ConvergenceWarning: Solver terminated early (max_iter=1000).  Consider pre-processing your data with StandardScaler or MinMaxScaler.\n",
      "  warnings.warn(\n"
     ]
    },
    {
     "name": "stdout",
     "output_type": "stream",
     "text": [
      "[CV 2/3; 19/27] END svm__C=1, svm__cache_size=4000, svm__coef0=0, svm__gamma=auto, svm__kernel=linear, svm__max_iter=1000, svm__probability=True;, score=0.495 total time=  31.2s\n",
      "[CV 3/3; 24/27] START svm__C=1, svm__cache_size=4000, svm__coef0=1, svm__gamma=auto, svm__kernel=rbf, svm__max_iter=1000, svm__probability=True\n",
      "[CV 1/3; 25/27] START svm__C=1, svm__cache_size=4000, svm__coef0=2, svm__gamma=auto, svm__kernel=linear, svm__max_iter=1000, svm__probability=True\n",
      "[CV 2/3; 3/27] END svm__C=0.001, svm__cache_size=4000, svm__coef0=0, svm__gamma=auto, svm__kernel=rbf, svm__max_iter=1000, svm__probability=True;, score=0.646 total time= 2.7min\n",
      "[CV 2/3; 25/27] START svm__C=1, svm__cache_size=4000, svm__coef0=2, svm__gamma=auto, svm__kernel=linear, svm__max_iter=1000, svm__probability=True\n",
      "[CV 3/3; 12/27] END svm__C=0.01, svm__cache_size=4000, svm__coef0=0, svm__gamma=auto, svm__kernel=rbf, svm__max_iter=1000, svm__probability=True;, score=0.635 total time= 2.7min\n",
      "[CV 3/3; 11/27] END svm__C=0.01, svm__cache_size=4000, svm__coef0=0, svm__gamma=auto, svm__kernel=sigmoid, svm__max_iter=1000, svm__probability=True;, score=0.705 total time= 2.7min\n",
      "[CV 3/3; 25/27] START svm__C=1, svm__cache_size=4000, svm__coef0=2, svm__gamma=auto, svm__kernel=linear, svm__max_iter=1000, svm__probability=True\n",
      "[CV 1/3; 26/27] START svm__C=1, svm__cache_size=4000, svm__coef0=2, svm__gamma=auto, svm__kernel=sigmoid, svm__max_iter=1000, svm__probability=True\n",
      "[CV 3/3; 2/27] END svm__C=0.001, svm__cache_size=4000, svm__coef0=0, svm__gamma=auto, svm__kernel=sigmoid, svm__max_iter=1000, svm__probability=True;, score=0.709 total time= 2.7min\n",
      "[CV 2/3; 26/27] START svm__C=1, svm__cache_size=4000, svm__coef0=2, svm__gamma=auto, svm__kernel=sigmoid, svm__max_iter=1000, svm__probability=True\n"
     ]
    },
    {
     "name": "stderr",
     "output_type": "stream",
     "text": [
      "/home/drumblum/Northeastern/cs6140/CS6140-final-project/.venv/lib/python3.11/site-packages/sklearn/svm/_base.py:299: ConvergenceWarning: Solver terminated early (max_iter=1000).  Consider pre-processing your data with StandardScaler or MinMaxScaler.\n",
      "  warnings.warn(\n"
     ]
    },
    {
     "name": "stdout",
     "output_type": "stream",
     "text": [
      "[CV 2/3; 2/27] END svm__C=0.001, svm__cache_size=4000, svm__coef0=0, svm__gamma=auto, svm__kernel=sigmoid, svm__max_iter=1000, svm__probability=True;, score=0.667 total time= 2.8min\n",
      "[CV 3/3; 26/27] START svm__C=1, svm__cache_size=4000, svm__coef0=2, svm__gamma=auto, svm__kernel=sigmoid, svm__max_iter=1000, svm__probability=True\n",
      "[CV 1/3; 8/27] END svm__C=0.001, svm__cache_size=4000, svm__coef0=2, svm__gamma=auto, svm__kernel=sigmoid, svm__max_iter=1000, svm__probability=True;, score=0.509 total time= 2.8min\n",
      "[CV 1/3; 27/27] START svm__C=1, svm__cache_size=4000, svm__coef0=2, svm__gamma=auto, svm__kernel=rbf, svm__max_iter=1000, svm__probability=True\n"
     ]
    },
    {
     "name": "stderr",
     "output_type": "stream",
     "text": [
      "/home/drumblum/Northeastern/cs6140/CS6140-final-project/.venv/lib/python3.11/site-packages/sklearn/svm/_base.py:299: ConvergenceWarning: Solver terminated early (max_iter=1000).  Consider pre-processing your data with StandardScaler or MinMaxScaler.\n",
      "  warnings.warn(\n",
      "/home/drumblum/Northeastern/cs6140/CS6140-final-project/.venv/lib/python3.11/site-packages/sklearn/svm/_base.py:299: ConvergenceWarning: Solver terminated early (max_iter=1000).  Consider pre-processing your data with StandardScaler or MinMaxScaler.\n",
      "  warnings.warn(\n"
     ]
    },
    {
     "name": "stdout",
     "output_type": "stream",
     "text": [
      "[CV 1/3; 14/27] END svm__C=0.01, svm__cache_size=4000, svm__coef0=1, svm__gamma=auto, svm__kernel=sigmoid, svm__max_iter=1000, svm__probability=True;, score=0.511 total time= 2.9min\n",
      "[CV 2/3; 27/27] START svm__C=1, svm__cache_size=4000, svm__coef0=2, svm__gamma=auto, svm__kernel=rbf, svm__max_iter=1000, svm__probability=True\n",
      "[CV 1/3; 12/27] END svm__C=0.01, svm__cache_size=4000, svm__coef0=0, svm__gamma=auto, svm__kernel=rbf, svm__max_iter=1000, svm__probability=True;, score=0.694 total time= 3.0min\n",
      "[CV 3/3; 27/27] START svm__C=1, svm__cache_size=4000, svm__coef0=2, svm__gamma=auto, svm__kernel=rbf, svm__max_iter=1000, svm__probability=True\n"
     ]
    },
    {
     "name": "stderr",
     "output_type": "stream",
     "text": [
      "/home/drumblum/Northeastern/cs6140/CS6140-final-project/.venv/lib/python3.11/site-packages/sklearn/svm/_base.py:299: ConvergenceWarning: Solver terminated early (max_iter=1000).  Consider pre-processing your data with StandardScaler or MinMaxScaler.\n",
      "  warnings.warn(\n"
     ]
    },
    {
     "name": "stdout",
     "output_type": "stream",
     "text": [
      "[CV 1/3; 19/27] END svm__C=1, svm__cache_size=4000, svm__coef0=0, svm__gamma=auto, svm__kernel=linear, svm__max_iter=1000, svm__probability=True;, score=0.481 total time=  59.6s\n"
     ]
    },
    {
     "name": "stderr",
     "output_type": "stream",
     "text": [
      "/home/drumblum/Northeastern/cs6140/CS6140-final-project/.venv/lib/python3.11/site-packages/sklearn/svm/_base.py:299: ConvergenceWarning: Solver terminated early (max_iter=1000).  Consider pre-processing your data with StandardScaler or MinMaxScaler.\n",
      "  warnings.warn(\n"
     ]
    },
    {
     "name": "stdout",
     "output_type": "stream",
     "text": [
      "[CV 3/3; 19/27] END svm__C=1, svm__cache_size=4000, svm__coef0=0, svm__gamma=auto, svm__kernel=linear, svm__max_iter=1000, svm__probability=True;, score=0.459 total time= 1.1min\n"
     ]
    },
    {
     "name": "stderr",
     "output_type": "stream",
     "text": [
      "/home/drumblum/Northeastern/cs6140/CS6140-final-project/.venv/lib/python3.11/site-packages/sklearn/svm/_base.py:299: ConvergenceWarning: Solver terminated early (max_iter=1000).  Consider pre-processing your data with StandardScaler or MinMaxScaler.\n",
      "  warnings.warn(\n"
     ]
    },
    {
     "name": "stdout",
     "output_type": "stream",
     "text": [
      "[CV 2/3; 22/27] END svm__C=1, svm__cache_size=4000, svm__coef0=1, svm__gamma=auto, svm__kernel=linear, svm__max_iter=1000, svm__probability=True;, score=0.495 total time= 1.1min\n"
     ]
    },
    {
     "name": "stderr",
     "output_type": "stream",
     "text": [
      "/home/drumblum/Northeastern/cs6140/CS6140-final-project/.venv/lib/python3.11/site-packages/sklearn/svm/_base.py:299: ConvergenceWarning: Solver terminated early (max_iter=1000).  Consider pre-processing your data with StandardScaler or MinMaxScaler.\n",
      "  warnings.warn(\n"
     ]
    },
    {
     "name": "stdout",
     "output_type": "stream",
     "text": [
      "[CV 2/3; 16/27] END svm__C=0.01, svm__cache_size=4000, svm__coef0=2, svm__gamma=auto, svm__kernel=linear, svm__max_iter=1000, svm__probability=True;, score=0.558 total time= 1.7min\n"
     ]
    },
    {
     "name": "stderr",
     "output_type": "stream",
     "text": [
      "/home/drumblum/Northeastern/cs6140/CS6140-final-project/.venv/lib/python3.11/site-packages/sklearn/svm/_base.py:299: ConvergenceWarning: Solver terminated early (max_iter=1000).  Consider pre-processing your data with StandardScaler or MinMaxScaler.\n",
      "  warnings.warn(\n"
     ]
    },
    {
     "name": "stdout",
     "output_type": "stream",
     "text": [
      "[CV 1/3; 16/27] END svm__C=0.01, svm__cache_size=4000, svm__coef0=2, svm__gamma=auto, svm__kernel=linear, svm__max_iter=1000, svm__probability=True;, score=0.644 total time= 1.8min\n"
     ]
    },
    {
     "name": "stderr",
     "output_type": "stream",
     "text": [
      "/home/drumblum/Northeastern/cs6140/CS6140-final-project/.venv/lib/python3.11/site-packages/sklearn/svm/_base.py:299: ConvergenceWarning: Solver terminated early (max_iter=1000).  Consider pre-processing your data with StandardScaler or MinMaxScaler.\n",
      "  warnings.warn(\n"
     ]
    },
    {
     "name": "stdout",
     "output_type": "stream",
     "text": [
      "[CV 3/3; 25/27] END svm__C=1, svm__cache_size=4000, svm__coef0=2, svm__gamma=auto, svm__kernel=linear, svm__max_iter=1000, svm__probability=True;, score=0.459 total time=  55.8s\n"
     ]
    },
    {
     "name": "stderr",
     "output_type": "stream",
     "text": [
      "/home/drumblum/Northeastern/cs6140/CS6140-final-project/.venv/lib/python3.11/site-packages/sklearn/svm/_base.py:299: ConvergenceWarning: Solver terminated early (max_iter=1000).  Consider pre-processing your data with StandardScaler or MinMaxScaler.\n",
      "  warnings.warn(\n"
     ]
    },
    {
     "name": "stdout",
     "output_type": "stream",
     "text": [
      "[CV 3/3; 22/27] END svm__C=1, svm__cache_size=4000, svm__coef0=1, svm__gamma=auto, svm__kernel=linear, svm__max_iter=1000, svm__probability=True;, score=0.459 total time= 1.1min\n"
     ]
    },
    {
     "name": "stderr",
     "output_type": "stream",
     "text": [
      "/home/drumblum/Northeastern/cs6140/CS6140-final-project/.venv/lib/python3.11/site-packages/sklearn/svm/_base.py:299: ConvergenceWarning: Solver terminated early (max_iter=1000).  Consider pre-processing your data with StandardScaler or MinMaxScaler.\n",
      "  warnings.warn(\n"
     ]
    },
    {
     "name": "stdout",
     "output_type": "stream",
     "text": [
      "[CV 3/3; 16/27] END svm__C=0.01, svm__cache_size=4000, svm__coef0=2, svm__gamma=auto, svm__kernel=linear, svm__max_iter=1000, svm__probability=True;, score=0.607 total time= 1.8min\n"
     ]
    },
    {
     "name": "stderr",
     "output_type": "stream",
     "text": [
      "/home/drumblum/Northeastern/cs6140/CS6140-final-project/.venv/lib/python3.11/site-packages/sklearn/svm/_base.py:299: ConvergenceWarning: Solver terminated early (max_iter=1000).  Consider pre-processing your data with StandardScaler or MinMaxScaler.\n",
      "  warnings.warn(\n",
      "/home/drumblum/Northeastern/cs6140/CS6140-final-project/.venv/lib/python3.11/site-packages/sklearn/svm/_base.py:299: ConvergenceWarning: Solver terminated early (max_iter=1000).  Consider pre-processing your data with StandardScaler or MinMaxScaler.\n",
      "  warnings.warn(\n"
     ]
    },
    {
     "name": "stdout",
     "output_type": "stream",
     "text": [
      "[CV 1/3; 22/27] END svm__C=1, svm__cache_size=4000, svm__coef0=1, svm__gamma=auto, svm__kernel=linear, svm__max_iter=1000, svm__probability=True;, score=0.481 total time= 1.3min\n"
     ]
    },
    {
     "name": "stderr",
     "output_type": "stream",
     "text": [
      "/home/drumblum/Northeastern/cs6140/CS6140-final-project/.venv/lib/python3.11/site-packages/sklearn/svm/_base.py:299: ConvergenceWarning: Solver terminated early (max_iter=1000).  Consider pre-processing your data with StandardScaler or MinMaxScaler.\n",
      "  warnings.warn(\n",
      "/home/drumblum/Northeastern/cs6140/CS6140-final-project/.venv/lib/python3.11/site-packages/sklearn/svm/_base.py:299: ConvergenceWarning: Solver terminated early (max_iter=1000).  Consider pre-processing your data with StandardScaler or MinMaxScaler.\n",
      "  warnings.warn(\n"
     ]
    },
    {
     "name": "stdout",
     "output_type": "stream",
     "text": [
      "[CV 3/3; 17/27] END svm__C=0.01, svm__cache_size=4000, svm__coef0=2, svm__gamma=auto, svm__kernel=sigmoid, svm__max_iter=1000, svm__probability=True;, score=0.433 total time= 1.7min\n",
      "[CV 1/3; 25/27] END svm__C=1, svm__cache_size=4000, svm__coef0=2, svm__gamma=auto, svm__kernel=linear, svm__max_iter=1000, svm__probability=True;, score=0.481 total time= 1.1min\n",
      "[CV 2/3; 15/27] END svm__C=0.01, svm__cache_size=4000, svm__coef0=1, svm__gamma=auto, svm__kernel=rbf, svm__max_iter=1000, svm__probability=True;, score=0.599 total time= 2.1min\n"
     ]
    },
    {
     "name": "stderr",
     "output_type": "stream",
     "text": [
      "/home/drumblum/Northeastern/cs6140/CS6140-final-project/.venv/lib/python3.11/site-packages/sklearn/svm/_base.py:299: ConvergenceWarning: Solver terminated early (max_iter=1000).  Consider pre-processing your data with StandardScaler or MinMaxScaler.\n",
      "  warnings.warn(\n"
     ]
    },
    {
     "name": "stdout",
     "output_type": "stream",
     "text": [
      "[CV 2/3; 25/27] END svm__C=1, svm__cache_size=4000, svm__coef0=2, svm__gamma=auto, svm__kernel=linear, svm__max_iter=1000, svm__probability=True;, score=0.495 total time= 1.1min\n"
     ]
    },
    {
     "name": "stderr",
     "output_type": "stream",
     "text": [
      "/home/drumblum/Northeastern/cs6140/CS6140-final-project/.venv/lib/python3.11/site-packages/sklearn/svm/_base.py:299: ConvergenceWarning: Solver terminated early (max_iter=1000).  Consider pre-processing your data with StandardScaler or MinMaxScaler.\n",
      "  warnings.warn(\n"
     ]
    },
    {
     "name": "stdout",
     "output_type": "stream",
     "text": [
      "[CV 1/3; 15/27] END svm__C=0.01, svm__cache_size=4000, svm__coef0=1, svm__gamma=auto, svm__kernel=rbf, svm__max_iter=1000, svm__probability=True;, score=0.694 total time= 2.2min\n"
     ]
    },
    {
     "name": "stderr",
     "output_type": "stream",
     "text": [
      "/home/drumblum/Northeastern/cs6140/CS6140-final-project/.venv/lib/python3.11/site-packages/sklearn/svm/_base.py:299: ConvergenceWarning: Solver terminated early (max_iter=1000).  Consider pre-processing your data with StandardScaler or MinMaxScaler.\n",
      "  warnings.warn(\n"
     ]
    },
    {
     "name": "stdout",
     "output_type": "stream",
     "text": [
      "[CV 1/3; 20/27] END svm__C=1, svm__cache_size=4000, svm__coef0=0, svm__gamma=auto, svm__kernel=sigmoid, svm__max_iter=1000, svm__probability=True;, score=0.630 total time= 1.7min\n"
     ]
    },
    {
     "name": "stderr",
     "output_type": "stream",
     "text": [
      "/home/drumblum/Northeastern/cs6140/CS6140-final-project/.venv/lib/python3.11/site-packages/sklearn/svm/_base.py:299: ConvergenceWarning: Solver terminated early (max_iter=1000).  Consider pre-processing your data with StandardScaler or MinMaxScaler.\n",
      "  warnings.warn(\n"
     ]
    },
    {
     "name": "stdout",
     "output_type": "stream",
     "text": [
      "[CV 2/3; 14/27] END svm__C=0.01, svm__cache_size=4000, svm__coef0=1, svm__gamma=auto, svm__kernel=sigmoid, svm__max_iter=1000, svm__probability=True;, score=0.500 total time= 2.4min\n"
     ]
    },
    {
     "name": "stderr",
     "output_type": "stream",
     "text": [
      "/home/drumblum/Northeastern/cs6140/CS6140-final-project/.venv/lib/python3.11/site-packages/sklearn/svm/_base.py:299: ConvergenceWarning: Solver terminated early (max_iter=1000).  Consider pre-processing your data with StandardScaler or MinMaxScaler.\n",
      "  warnings.warn(\n",
      "/home/drumblum/Northeastern/cs6140/CS6140-final-project/.venv/lib/python3.11/site-packages/sklearn/svm/_base.py:299: ConvergenceWarning: Solver terminated early (max_iter=1000).  Consider pre-processing your data with StandardScaler or MinMaxScaler.\n",
      "  warnings.warn(\n",
      "/home/drumblum/Northeastern/cs6140/CS6140-final-project/.venv/lib/python3.11/site-packages/sklearn/svm/_base.py:299: ConvergenceWarning: Solver terminated early (max_iter=1000).  Consider pre-processing your data with StandardScaler or MinMaxScaler.\n",
      "  warnings.warn(\n",
      "/home/drumblum/Northeastern/cs6140/CS6140-final-project/.venv/lib/python3.11/site-packages/sklearn/svm/_base.py:299: ConvergenceWarning: Solver terminated early (max_iter=1000).  Consider pre-processing your data with StandardScaler or MinMaxScaler.\n",
      "  warnings.warn(\n",
      "/home/drumblum/Northeastern/cs6140/CS6140-final-project/.venv/lib/python3.11/site-packages/sklearn/svm/_base.py:299: ConvergenceWarning: Solver terminated early (max_iter=1000).  Consider pre-processing your data with StandardScaler or MinMaxScaler.\n",
      "  warnings.warn(\n"
     ]
    },
    {
     "name": "stdout",
     "output_type": "stream",
     "text": [
      "[CV 3/3; 14/27] END svm__C=0.01, svm__cache_size=4000, svm__coef0=1, svm__gamma=auto, svm__kernel=sigmoid, svm__max_iter=1000, svm__probability=True;, score=0.496 total time= 2.5min\n",
      "[CV 2/3; 17/27] END svm__C=0.01, svm__cache_size=4000, svm__coef0=2, svm__gamma=auto, svm__kernel=sigmoid, svm__max_iter=1000, svm__probability=True;, score=0.497 total time= 2.2min\n"
     ]
    },
    {
     "name": "stderr",
     "output_type": "stream",
     "text": [
      "/home/drumblum/Northeastern/cs6140/CS6140-final-project/.venv/lib/python3.11/site-packages/sklearn/svm/_base.py:299: ConvergenceWarning: Solver terminated early (max_iter=1000).  Consider pre-processing your data with StandardScaler or MinMaxScaler.\n",
      "  warnings.warn(\n"
     ]
    },
    {
     "name": "stdout",
     "output_type": "stream",
     "text": [
      "[CV 3/3; 21/27] END svm__C=1, svm__cache_size=4000, svm__coef0=0, svm__gamma=auto, svm__kernel=rbf, svm__max_iter=1000, svm__probability=True;, score=0.538 total time= 1.7min\n",
      "[CV 2/3; 18/27] END svm__C=0.01, svm__cache_size=4000, svm__coef0=2, svm__gamma=auto, svm__kernel=rbf, svm__max_iter=1000, svm__probability=True;, score=0.599 total time= 2.1min\n",
      "[CV 3/3; 18/27] END svm__C=0.01, svm__cache_size=4000, svm__coef0=2, svm__gamma=auto, svm__kernel=rbf, svm__max_iter=1000, svm__probability=True;, score=0.635 total time= 2.1min\n",
      "[CV 1/3; 17/27] END svm__C=0.01, svm__cache_size=4000, svm__coef0=2, svm__gamma=auto, svm__kernel=sigmoid, svm__max_iter=1000, svm__probability=True;, score=0.448 total time= 2.2min\n"
     ]
    },
    {
     "name": "stderr",
     "output_type": "stream",
     "text": [
      "/home/drumblum/Northeastern/cs6140/CS6140-final-project/.venv/lib/python3.11/site-packages/sklearn/svm/_base.py:299: ConvergenceWarning: Solver terminated early (max_iter=1000).  Consider pre-processing your data with StandardScaler or MinMaxScaler.\n",
      "  warnings.warn(\n",
      "/home/drumblum/Northeastern/cs6140/CS6140-final-project/.venv/lib/python3.11/site-packages/sklearn/svm/_base.py:299: ConvergenceWarning: Solver terminated early (max_iter=1000).  Consider pre-processing your data with StandardScaler or MinMaxScaler.\n",
      "  warnings.warn(\n"
     ]
    },
    {
     "name": "stdout",
     "output_type": "stream",
     "text": [
      "[CV 3/3; 20/27] END svm__C=1, svm__cache_size=4000, svm__coef0=0, svm__gamma=auto, svm__kernel=sigmoid, svm__max_iter=1000, svm__probability=True;, score=0.596 total time= 1.8min\n",
      "[CV 2/3; 20/27] END svm__C=1, svm__cache_size=4000, svm__coef0=0, svm__gamma=auto, svm__kernel=sigmoid, svm__max_iter=1000, svm__probability=True;, score=0.524 total time= 1.8min\n"
     ]
    },
    {
     "name": "stderr",
     "output_type": "stream",
     "text": [
      "/home/drumblum/Northeastern/cs6140/CS6140-final-project/.venv/lib/python3.11/site-packages/sklearn/svm/_base.py:299: ConvergenceWarning: Solver terminated early (max_iter=1000).  Consider pre-processing your data with StandardScaler or MinMaxScaler.\n",
      "  warnings.warn(\n",
      "/home/drumblum/Northeastern/cs6140/CS6140-final-project/.venv/lib/python3.11/site-packages/sklearn/svm/_base.py:299: ConvergenceWarning: Solver terminated early (max_iter=1000).  Consider pre-processing your data with StandardScaler or MinMaxScaler.\n",
      "  warnings.warn(\n",
      "/home/drumblum/Northeastern/cs6140/CS6140-final-project/.venv/lib/python3.11/site-packages/sklearn/svm/_base.py:299: ConvergenceWarning: Solver terminated early (max_iter=1000).  Consider pre-processing your data with StandardScaler or MinMaxScaler.\n",
      "  warnings.warn(\n"
     ]
    },
    {
     "name": "stdout",
     "output_type": "stream",
     "text": [
      "[CV 3/3; 15/27] END svm__C=0.01, svm__cache_size=4000, svm__coef0=1, svm__gamma=auto, svm__kernel=rbf, svm__max_iter=1000, svm__probability=True;, score=0.635 total time= 2.4min\n"
     ]
    },
    {
     "name": "stderr",
     "output_type": "stream",
     "text": [
      "/home/drumblum/Northeastern/cs6140/CS6140-final-project/.venv/lib/python3.11/site-packages/sklearn/svm/_base.py:299: ConvergenceWarning: Solver terminated early (max_iter=1000).  Consider pre-processing your data with StandardScaler or MinMaxScaler.\n",
      "  warnings.warn(\n"
     ]
    },
    {
     "name": "stdout",
     "output_type": "stream",
     "text": [
      "[CV 2/3; 21/27] END svm__C=1, svm__cache_size=4000, svm__coef0=0, svm__gamma=auto, svm__kernel=rbf, svm__max_iter=1000, svm__probability=True;, score=0.470 total time= 1.8min\n",
      "[CV 1/3; 18/27] END svm__C=0.01, svm__cache_size=4000, svm__coef0=2, svm__gamma=auto, svm__kernel=rbf, svm__max_iter=1000, svm__probability=True;, score=0.694 total time= 2.2min\n",
      "[CV 1/3; 21/27] END svm__C=1, svm__cache_size=4000, svm__coef0=0, svm__gamma=auto, svm__kernel=rbf, svm__max_iter=1000, svm__probability=True;, score=0.585 total time= 1.8min\n"
     ]
    },
    {
     "name": "stderr",
     "output_type": "stream",
     "text": [
      "/home/drumblum/Northeastern/cs6140/CS6140-final-project/.venv/lib/python3.11/site-packages/sklearn/svm/_base.py:299: ConvergenceWarning: Solver terminated early (max_iter=1000).  Consider pre-processing your data with StandardScaler or MinMaxScaler.\n",
      "  warnings.warn(\n",
      "/home/drumblum/Northeastern/cs6140/CS6140-final-project/.venv/lib/python3.11/site-packages/sklearn/svm/_base.py:299: ConvergenceWarning: Solver terminated early (max_iter=1000).  Consider pre-processing your data with StandardScaler or MinMaxScaler.\n",
      "  warnings.warn(\n"
     ]
    },
    {
     "name": "stdout",
     "output_type": "stream",
     "text": [
      "[CV 1/3; 24/27] END svm__C=1, svm__cache_size=4000, svm__coef0=1, svm__gamma=auto, svm__kernel=rbf, svm__max_iter=1000, svm__probability=True;, score=0.585 total time= 1.7min\n",
      "[CV 1/3; 23/27] END svm__C=1, svm__cache_size=4000, svm__coef0=1, svm__gamma=auto, svm__kernel=sigmoid, svm__max_iter=1000, svm__probability=True;, score=0.566 total time= 1.8min\n"
     ]
    },
    {
     "name": "stderr",
     "output_type": "stream",
     "text": [
      "/home/drumblum/Northeastern/cs6140/CS6140-final-project/.venv/lib/python3.11/site-packages/sklearn/svm/_base.py:299: ConvergenceWarning: Solver terminated early (max_iter=1000).  Consider pre-processing your data with StandardScaler or MinMaxScaler.\n",
      "  warnings.warn(\n",
      "/home/drumblum/Northeastern/cs6140/CS6140-final-project/.venv/lib/python3.11/site-packages/sklearn/svm/_base.py:299: ConvergenceWarning: Solver terminated early (max_iter=1000).  Consider pre-processing your data with StandardScaler or MinMaxScaler.\n",
      "  warnings.warn(\n"
     ]
    },
    {
     "name": "stdout",
     "output_type": "stream",
     "text": [
      "[CV 3/3; 24/27] END svm__C=1, svm__cache_size=4000, svm__coef0=1, svm__gamma=auto, svm__kernel=rbf, svm__max_iter=1000, svm__probability=True;, score=0.538 total time= 1.6min\n",
      "[CV 1/3; 27/27] END svm__C=1, svm__cache_size=4000, svm__coef0=2, svm__gamma=auto, svm__kernel=rbf, svm__max_iter=1000, svm__probability=True;, score=0.585 total time= 1.6min\n"
     ]
    },
    {
     "name": "stderr",
     "output_type": "stream",
     "text": [
      "/home/drumblum/Northeastern/cs6140/CS6140-final-project/.venv/lib/python3.11/site-packages/sklearn/svm/_base.py:299: ConvergenceWarning: Solver terminated early (max_iter=1000).  Consider pre-processing your data with StandardScaler or MinMaxScaler.\n",
      "  warnings.warn(\n",
      "/home/drumblum/Northeastern/cs6140/CS6140-final-project/.venv/lib/python3.11/site-packages/sklearn/svm/_base.py:299: ConvergenceWarning: Solver terminated early (max_iter=1000).  Consider pre-processing your data with StandardScaler or MinMaxScaler.\n",
      "  warnings.warn(\n"
     ]
    },
    {
     "name": "stdout",
     "output_type": "stream",
     "text": [
      "[CV 2/3; 23/27] END svm__C=1, svm__cache_size=4000, svm__coef0=1, svm__gamma=auto, svm__kernel=sigmoid, svm__max_iter=1000, svm__probability=True;, score=0.397 total time= 1.7min\n",
      "[CV 2/3; 24/27] END svm__C=1, svm__cache_size=4000, svm__coef0=1, svm__gamma=auto, svm__kernel=rbf, svm__max_iter=1000, svm__probability=True;, score=0.470 total time= 1.7min\n"
     ]
    },
    {
     "name": "stderr",
     "output_type": "stream",
     "text": [
      "/home/drumblum/Northeastern/cs6140/CS6140-final-project/.venv/lib/python3.11/site-packages/sklearn/svm/_base.py:299: ConvergenceWarning: Solver terminated early (max_iter=1000).  Consider pre-processing your data with StandardScaler or MinMaxScaler.\n",
      "  warnings.warn(\n",
      "/home/drumblum/Northeastern/cs6140/CS6140-final-project/.venv/lib/python3.11/site-packages/sklearn/svm/_base.py:299: ConvergenceWarning: Solver terminated early (max_iter=1000).  Consider pre-processing your data with StandardScaler or MinMaxScaler.\n",
      "  warnings.warn(\n",
      "/home/drumblum/Northeastern/cs6140/CS6140-final-project/.venv/lib/python3.11/site-packages/sklearn/svm/_base.py:299: ConvergenceWarning: Solver terminated early (max_iter=1000).  Consider pre-processing your data with StandardScaler or MinMaxScaler.\n",
      "  warnings.warn(\n",
      "/home/drumblum/Northeastern/cs6140/CS6140-final-project/.venv/lib/python3.11/site-packages/sklearn/svm/_base.py:299: ConvergenceWarning: Solver terminated early (max_iter=1000).  Consider pre-processing your data with StandardScaler or MinMaxScaler.\n",
      "  warnings.warn(\n",
      "/home/drumblum/Northeastern/cs6140/CS6140-final-project/.venv/lib/python3.11/site-packages/sklearn/svm/_base.py:299: ConvergenceWarning: Solver terminated early (max_iter=1000).  Consider pre-processing your data with StandardScaler or MinMaxScaler.\n",
      "  warnings.warn(\n"
     ]
    },
    {
     "name": "stdout",
     "output_type": "stream",
     "text": [
      "[CV 2/3; 27/27] END svm__C=1, svm__cache_size=4000, svm__coef0=2, svm__gamma=auto, svm__kernel=rbf, svm__max_iter=1000, svm__probability=True;, score=0.470 total time= 1.5min\n",
      "[CV 3/3; 26/27] END svm__C=1, svm__cache_size=4000, svm__coef0=2, svm__gamma=auto, svm__kernel=sigmoid, svm__max_iter=1000, svm__probability=True;, score=0.615 total time= 1.6min\n",
      "[CV 3/3; 27/27] END svm__C=1, svm__cache_size=4000, svm__coef0=2, svm__gamma=auto, svm__kernel=rbf, svm__max_iter=1000, svm__probability=True;, score=0.538 total time= 1.3min\n",
      "[CV 3/3; 23/27] END svm__C=1, svm__cache_size=4000, svm__coef0=1, svm__gamma=auto, svm__kernel=sigmoid, svm__max_iter=1000, svm__probability=True;, score=0.441 total time= 1.7min\n",
      "[CV 1/3; 26/27] END svm__C=1, svm__cache_size=4000, svm__coef0=2, svm__gamma=auto, svm__kernel=sigmoid, svm__max_iter=1000, svm__probability=True;, score=0.423 total time= 1.7min\n"
     ]
    },
    {
     "name": "stderr",
     "output_type": "stream",
     "text": [
      "/home/drumblum/Northeastern/cs6140/CS6140-final-project/.venv/lib/python3.11/site-packages/sklearn/svm/_base.py:299: ConvergenceWarning: Solver terminated early (max_iter=1000).  Consider pre-processing your data with StandardScaler or MinMaxScaler.\n",
      "  warnings.warn(\n"
     ]
    },
    {
     "name": "stdout",
     "output_type": "stream",
     "text": [
      "[CV 2/3; 26/27] END svm__C=1, svm__cache_size=4000, svm__coef0=2, svm__gamma=auto, svm__kernel=sigmoid, svm__max_iter=1000, svm__probability=True;, score=0.574 total time= 1.6min\n"
     ]
    }
   ],
   "source": [
    "svm_model = grid_search.fit(x_train, y_train.to_numpy().ravel())"
   ]
  },
  {
   "cell_type": "code",
   "execution_count": 10,
   "metadata": {},
   "outputs": [
    {
     "name": "stdout",
     "output_type": "stream",
     "text": [
      "{'gamma': 'auto', 'kernel': 'sigmoid', 'C': 0.001}\n"
     ]
    }
   ],
   "source": [
    "print(models.get_best_params(models.ModelENUM.SVM, svm_model))"
   ]
  },
  {
   "cell_type": "code",
   "execution_count": 11,
   "metadata": {},
   "outputs": [
    {
     "name": "stdout",
     "output_type": "stream",
     "text": [
      "414\n"
     ]
    },
    {
     "data": {
      "image/png": "[encoded data removed]",
      "text/plain": [
       "<Figure size 640x480 with 1 Axes>"
      ]
     },
     "metadata": {},
     "output_type": "display_data"
    },
    {
     "data": {
      "image/png": "[encoded data removed]",
      "text/plain": [
       "<Figure size 640x480 with 2 Axes>"
      ]
     },
     "metadata": {},
     "output_type": "display_data"
    }
   ],
   "source": [
    "number_true = np.count_nonzero(y_test == 1)\n",
    "print(number_true)\n",
    "\n",
    "y_prob = svm_model.predict_proba(x_test)[:, 1]\n",
    "y_pred = svm_model.predict(x_test)\n",
    "plots.save_precision_recall_curve(\"lr\", \"test_file\", y_test, y_prob)\n",
    "plots.save_confusion_matrix(\"lr\", \"test_file\", y_test, y_pred)"
   ]
  }
 ],
 "metadata": {
  "kernelspec": {
   "display_name": ".venv",
   "language": "python",
   "name": "python3"
  },
  "language_info": {
   "codemirror_mode": {
    "name": "ipython",
    "version": 3
   },
   "file_extension": ".py",
   "mimetype": "text/x-python",
   "name": "python",
   "nbconvert_exporter": "python",
   "pygments_lexer": "ipython3",
   "version": "3.11.2"
  },
  "orig_nbformat": 4
 },
 "nbformat": 4,
 "nbformat_minor": 2
}
