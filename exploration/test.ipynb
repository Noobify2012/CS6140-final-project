{
 "cells": [
  {
   "cell_type": "code",
   "execution_count": 5,
   "metadata": {},
   "outputs": [
    {
     "name": "stdout",
     "output_type": "stream",
     "text": [
      "The autoreload extension is already loaded. To reload it, use:\n",
      "  %reload_ext autoreload\n"
     ]
    }
   ],
   "source": [
    "%load_ext autoreload\n",
    "%autoreload 2\n",
    "\n",
    "import pandas as pd\n",
    "import warnings\n",
    "warnings.filterwarnings('ignore')\n",
    "\n",
    "# from final_project.loader import get_df\n",
    "from final_project import loader, builder, models, plots\n",
    "# from final_project import builder\n",
    "# from final_project import models\n",
    "from final_project.models import ModelENUM\n",
    "from pathlib import Path\n",
    "from sklearn.model_selection import train_test_split"
   ]
  },
  {
   "cell_type": "code",
   "execution_count": 17,
   "metadata": {},
   "outputs": [
    {
     "name": "stdout",
     "output_type": "stream",
     "text": [
      "FileSourceEnum.NOTEBOOK\n",
      "/home/drumblum/Northeastern/cs6140/CS6140-final-project/res\n"
     ]
    }
   ],
   "source": [
    "df = loader.get_df(year=2018)\n",
    "\n",
    "# for c in df.columns:\n",
    "#     print(c)\n",
    "df = df[df['Origin'] == 'BOS']\n",
    "\n",
    "df = df[[\n",
    "    'DistanceGroup',\n",
    "    'DayofMonth',\n",
    "    'Month',\n",
    "    'Year',\n",
    "    'Duplicate',\n",
    "    'ArrDel15',\n",
    "    'DistanceGroup',\n",
    "    'WeatherDelay',\n",
    "    'NASDelay',\n",
    "    'SecurityDelay',\n",
    "    'Operating_Airline',\n",
    "    'Dest'\n",
    "]]\n",
    "df = builder.encodeFrame(df)\n",
    "x = df.drop(columns=['ArrDel15'])\n",
    "y = df[['ArrDel15']]\n",
    "x_train, x_test, y_train, y_test = train_test_split(x, y, test_size=0.2, random_state=150)"
   ]
  },
  {
   "cell_type": "code",
   "execution_count": 18,
   "metadata": {},
   "outputs": [
    {
     "name": "stdout",
     "output_type": "stream",
     "text": [
      "         DistanceGroup  ArrDel15  DistanceGroup  WeatherDelay  NASDelay  \\\n",
      "726                  6       0.0              6           0.0       0.0   \n",
      "727                  6       0.0              6           0.0       0.0   \n",
      "728                  6       0.0              6           0.0       0.0   \n",
      "729                  6       1.0              6           0.0      15.0   \n",
      "730                  6       0.0              6           0.0       0.0   \n",
      "...                ...       ...            ...           ...       ...   \n",
      "5681997              2       0.0              2           0.0       0.0   \n",
      "5682040             11       0.0             11           0.0       0.0   \n",
      "5682045              1       0.0              1           0.0       0.0   \n",
      "5682050              8       0.0              8           0.0       0.0   \n",
      "5682091              7       0.0              7           0.0       0.0   \n",
      "\n",
      "         SecurityDelay  date_sin  date_cos  month_sin  month_cos  ...  \\\n",
      "726                0.0  0.998717 -0.050649        0.5   0.866025  ...   \n",
      "727                0.0  0.968077 -0.250653        0.5   0.866025  ...   \n",
      "728                0.0  0.897805 -0.440394        0.5   0.866025  ...   \n",
      "729                0.0  0.790776 -0.612106        0.5   0.866025  ...   \n",
      "730                0.0  0.651372 -0.758758        0.5   0.866025  ...   \n",
      "...                ...       ...       ...        ...        ...  ...   \n",
      "5681997            0.0  0.998717 -0.050649        0.5  -0.866025  ...   \n",
      "5682040            0.0  0.998717 -0.050649        0.5  -0.866025  ...   \n",
      "5682045            0.0  0.998717 -0.050649        0.5  -0.866025  ...   \n",
      "5682050            0.0  0.998717 -0.050649        0.5  -0.866025  ...   \n",
      "5682091            0.0  0.998717 -0.050649        0.5  -0.866025  ...   \n",
      "\n",
      "         Dest_SEA  Dest_SFO  Dest_SJC  Dest_SJU  Dest_SLC  Dest_SMF  Dest_SRQ  \\\n",
      "726             0         0         0         0         0         0         0   \n",
      "727             0         0         0         0         0         0         0   \n",
      "728             0         0         0         0         0         0         0   \n",
      "729             0         0         0         0         0         0         0   \n",
      "730             0         0         0         0         0         0         0   \n",
      "...           ...       ...       ...       ...       ...       ...       ...   \n",
      "5681997         0         0         0         0         0         0         0   \n",
      "5682040         0         1         0         0         0         0         0   \n",
      "5682045         0         0         0         0         0         0         0   \n",
      "5682050         0         0         0         0         0         0         0   \n",
      "5682091         0         0         0         0         0         0         0   \n",
      "\n",
      "         Dest_STL  Dest_SYR  Dest_TPA  \n",
      "726             0         0         0  \n",
      "727             0         0         0  \n",
      "728             0         0         0  \n",
      "729             0         0         0  \n",
      "730             0         0         0  \n",
      "...           ...       ...       ...  \n",
      "5681997         0         0         0  \n",
      "5682040         0         0         0  \n",
      "5682045         0         0         0  \n",
      "5682050         0         0         0  \n",
      "5682091         0         0         0  \n",
      "\n",
      "[115327 rows x 94 columns]\n"
     ]
    }
   ],
   "source": [
    "print(df)"
   ]
  },
  {
   "cell_type": "code",
   "execution_count": 3,
   "metadata": {},
   "outputs": [],
   "source": [
    "lr_pipeline = models.get_pipeline(ModelENUM.LR)\n",
    "param_grid = [\n",
    "    # models.log_reg.get_lr_param(solver=\"liblinear\", penalty=[\"l1\", \"l2\"], c_list=[1, 10]),\n",
    "    # models.log_reg.get_lr_param(solver=\"saga\", penalty=[\"l2\", \"elasticnet\"], c_list=[1,10]),\n",
    "    models.get_lr_param(penalty=[\"l1\", \"l2\"], c_list=[.1, 1], max_iter=[500]),\n",
    " #    # models.get_lr_param(solver=\"saga\", penalty=[\"l2\"], c_list=[.1]),\n",
    "]\n",
    "grid_search = models.get_grid_search_cv(\n",
    "    pipeline=lr_pipeline, param_grid=param_grid, cv=3, n_jobs=20\n",
    ")"
   ]
  },
  {
   "cell_type": "code",
   "execution_count": 4,
   "metadata": {},
   "outputs": [
    {
     "name": "stdout",
     "output_type": "stream",
     "text": [
      "Fitting 3 folds for each of 4 candidates, totalling 12 fits\n",
      "[CV 1/3; 1/4] START lr__C=0.1, lr__max_iter=500, lr__penalty=l1, lr__solver=liblinear\n",
      "[CV 1/3; 3/4] START lr__C=1, lr__max_iter=500, lr__penalty=l1, lr__solver=liblinear\n",
      "[CV 1/3; 4/4] START lr__C=1, lr__max_iter=500, lr__penalty=l2, lr__solver=liblinear\n",
      "[CV 3/3; 1/4] START lr__C=0.1, lr__max_iter=500, lr__penalty=l1, lr__solver=liblinear\n",
      "[CV 2/3; 2/4] START lr__C=0.1, lr__max_iter=500, lr__penalty=l2, lr__solver=liblinear\n",
      "[CV 3/3; 3/4] START lr__C=1, lr__max_iter=500, lr__penalty=l1, lr__solver=liblinear\n",
      "[CV 2/3; 1/4] START lr__C=0.1, lr__max_iter=500, lr__penalty=l1, lr__solver=liblinear\n",
      "[CV 1/3; 2/4] START lr__C=0.1, lr__max_iter=500, lr__penalty=l2, lr__solver=liblinear\n",
      "[CV 3/3; 4/4] START lr__C=1, lr__max_iter=500, lr__penalty=l2, lr__solver=liblinear\n",
      "[CV 3/3; 2/4] START lr__C=0.1, lr__max_iter=500, lr__penalty=l2, lr__solver=liblinear\n",
      "[CV 2/3; 4/4] START lr__C=1, lr__max_iter=500, lr__penalty=l2, lr__solver=liblinear\n",
      "[CV 2/3; 3/4] START lr__C=1, lr__max_iter=500, lr__penalty=l1, lr__solver=liblinear\n",
      "[CV 3/3; 2/4] END lr__C=0.1, lr__max_iter=500, lr__penalty=l2, lr__solver=liblinear;, score=0.758 total time=  18.0s\n",
      "[CV 2/3; 2/4] END lr__C=0.1, lr__max_iter=500, lr__penalty=l2, lr__solver=liblinear;, score=0.757 total time=  18.9s\n",
      "[CV 1/3; 2/4] END lr__C=0.1, lr__max_iter=500, lr__penalty=l2, lr__solver=liblinear;, score=0.753 total time=  20.2s\n",
      "[CV 1/3; 4/4] END lr__C=1, lr__max_iter=500, lr__penalty=l2, lr__solver=liblinear;, score=0.753 total time=  24.9s\n",
      "[CV 3/3; 4/4] END lr__C=1, lr__max_iter=500, lr__penalty=l2, lr__solver=liblinear;, score=0.759 total time=  27.8s\n",
      "[CV 2/3; 4/4] END lr__C=1, lr__max_iter=500, lr__penalty=l2, lr__solver=liblinear;, score=0.757 total time=  28.7s\n"
     ]
    },
    {
     "name": "stderr",
     "output_type": "stream",
     "text": [
      "/home/drumblum/Northeastern/cs6140/CS6140-final-project/.venv/lib/python3.11/site-packages/sklearn/svm/_base.py:1244: ConvergenceWarning: Liblinear failed to converge, increase the number of iterations.\n",
      "  warnings.warn(\n"
     ]
    },
    {
     "name": "stdout",
     "output_type": "stream",
     "text": [
      "[CV 3/3; 3/4] END lr__C=1, lr__max_iter=500, lr__penalty=l1, lr__solver=liblinear;, score=0.709 total time= 3.0min\n"
     ]
    },
    {
     "name": "stderr",
     "output_type": "stream",
     "text": [
      "/home/drumblum/Northeastern/cs6140/CS6140-final-project/.venv/lib/python3.11/site-packages/sklearn/svm/_base.py:1244: ConvergenceWarning: Liblinear failed to converge, increase the number of iterations.\n",
      "  warnings.warn(\n"
     ]
    },
    {
     "name": "stdout",
     "output_type": "stream",
     "text": [
      "[CV 1/3; 3/4] END lr__C=1, lr__max_iter=500, lr__penalty=l1, lr__solver=liblinear;, score=0.706 total time= 3.0min\n"
     ]
    },
    {
     "name": "stderr",
     "output_type": "stream",
     "text": [
      "/home/drumblum/Northeastern/cs6140/CS6140-final-project/.venv/lib/python3.11/site-packages/sklearn/svm/_base.py:1244: ConvergenceWarning: Liblinear failed to converge, increase the number of iterations.\n",
      "  warnings.warn(\n"
     ]
    },
    {
     "name": "stdout",
     "output_type": "stream",
     "text": [
      "[CV 2/3; 3/4] END lr__C=1, lr__max_iter=500, lr__penalty=l1, lr__solver=liblinear;, score=0.710 total time= 3.0min\n"
     ]
    },
    {
     "name": "stderr",
     "output_type": "stream",
     "text": [
      "/home/drumblum/Northeastern/cs6140/CS6140-final-project/.venv/lib/python3.11/site-packages/sklearn/svm/_base.py:1244: ConvergenceWarning: Liblinear failed to converge, increase the number of iterations.\n",
      "  warnings.warn(\n"
     ]
    },
    {
     "name": "stdout",
     "output_type": "stream",
     "text": [
      "[CV 3/3; 1/4] END lr__C=0.1, lr__max_iter=500, lr__penalty=l1, lr__solver=liblinear;, score=0.709 total time= 3.2min\n"
     ]
    },
    {
     "name": "stderr",
     "output_type": "stream",
     "text": [
      "/home/drumblum/Northeastern/cs6140/CS6140-final-project/.venv/lib/python3.11/site-packages/sklearn/svm/_base.py:1244: ConvergenceWarning: Liblinear failed to converge, increase the number of iterations.\n",
      "  warnings.warn(\n"
     ]
    },
    {
     "name": "stdout",
     "output_type": "stream",
     "text": [
      "[CV 2/3; 1/4] END lr__C=0.1, lr__max_iter=500, lr__penalty=l1, lr__solver=liblinear;, score=0.710 total time= 3.2min\n"
     ]
    },
    {
     "name": "stderr",
     "output_type": "stream",
     "text": [
      "/home/drumblum/Northeastern/cs6140/CS6140-final-project/.venv/lib/python3.11/site-packages/sklearn/svm/_base.py:1244: ConvergenceWarning: Liblinear failed to converge, increase the number of iterations.\n",
      "  warnings.warn(\n"
     ]
    },
    {
     "name": "stdout",
     "output_type": "stream",
     "text": [
      "[CV 1/3; 1/4] END lr__C=0.1, lr__max_iter=500, lr__penalty=l1, lr__solver=liblinear;, score=0.706 total time= 3.3min\n"
     ]
    }
   ],
   "source": [
    "logreg_model = grid_search.fit(x_train, y_train.to_numpy().ravel())"
   ]
  },
  {
   "cell_type": "code",
   "execution_count": 5,
   "metadata": {},
   "outputs": [
    {
     "name": "stdout",
     "output_type": "stream",
     "text": [
      "{'solver': 'liblinear', 'penalty': 'l2', 'C': 1}\n"
     ]
    }
   ],
   "source": [
    "params = models.get_best_params(ModelENUM.LR, logreg_model)\n",
    "print(params)\n",
    "models.save_model(ModelENUM.LR, logreg_model)"
   ]
  },
  {
   "cell_type": "code",
   "execution_count": 6,
   "metadata": {},
   "outputs": [
    {
     "name": "stdout",
     "output_type": "stream",
     "text": [
      "[0. 0. 1. ... 1. 0. 0.]\n",
      "[0. 0. 1. ... 1. 0. 0.]\n",
      "0.9245988000585337\n"
     ]
    }
   ],
   "source": [
    "import joblib\n",
    "new_model = joblib.load(Path.cwd().parent / \"models\" / \"LR_liblinear_l2_C1.pkl\")\n",
    "y_pred = new_model.predict(x_test)\n",
    "y_pred_og = logreg_model.predict(x_test)\n",
    "print(y_pred)\n",
    "print(y_pred_og)\n",
    "print(new_model.score(x_test, y_test))"
   ]
  },
  {
   "cell_type": "code",
   "execution_count": 7,
   "metadata": {},
   "outputs": [
    {
     "name": "stdout",
     "output_type": "stream",
     "text": [
      "2.717734715813731\n",
      "0.802246443557466\n"
     ]
    }
   ],
   "source": [
    "from sklearn.metrics import log_loss, roc_auc_score, roc_curve, auc\n",
    "logloss = log_loss(y_test, y_pred)\n",
    "auc_roc = roc_auc_score(y_test, y_pred)\n",
    "print(logloss)\n",
    "print(auc_roc)"
   ]
  },
  {
   "cell_type": "code",
   "execution_count": 8,
   "metadata": {},
   "outputs": [],
   "source": [
    "# import matplotlib.pyplot as plt\n",
    "\n",
    "# fpr, tpr, thresholds = roc_curve(y_test, y_pred)\n",
    "# roc_auc = auc(fpr, tpr)\n",
    "# plt.plot(fpr, tpr, label='ROC curve (area = %0.2f)' % roc_auc)\n",
    "# plt.plot([0, 1], [0, 1], 'k--')  # plot random curve\n",
    "# plt.xlim([0.0, 1.0])\n",
    "# plt.ylim([0.0, 1.05])\n",
    "# plt.xlabel('False Positive Rate')\n",
    "# plt.ylabel('True Positive Rate')\n",
    "# plt.title('Receiver operating characteristic (ROC) curve')\n",
    "# plt.legend(loc=\"lower right\")\n",
    "# plt.show()"
   ]
  },
  {
   "cell_type": "code",
   "execution_count": 9,
   "metadata": {},
   "outputs": [
    {
     "name": "stdout",
     "output_type": "stream",
     "text": [
      "Test accuracy: 0.9245988000585337\n",
      "Train accuracy: 0.9264396354297505\n",
      "Precision: 1.0\n",
      "Recall: 0.604492887114932\n",
      "F-Beta Score: 0.7535002391963005\n",
      "F1 Score: 0.7535002391963005\n"
     ]
    }
   ],
   "source": [
    "models.analyze_model(new_model, x_test, x_train, y_test, y_train)"
   ]
  },
  {
   "cell_type": "code",
   "execution_count": 10,
   "metadata": {},
   "outputs": [
    {
     "name": "stdout",
     "output_type": "stream",
     "text": [
      "19542\n"
     ]
    },
    {
     "data": {
      "image/png": "[encoded data removed]",
      "text/plain": [
       "<Figure size 640x480 with 1 Axes>"
      ]
     },
     "metadata": {},
     "output_type": "display_data"
    },
    {
     "data": {
      "image/png": "[encoded data removed]",
      "text/plain": [
       "<Figure size 640x480 with 2 Axes>"
      ]
     },
     "metadata": {},
     "output_type": "display_data"
    }
   ],
   "source": [
    "import numpy as np\n",
    "number_true = np.count_nonzero(y_test == 1)\n",
    "print(number_true)\n",
    "\n",
    "y_prob = new_model.predict_proba(x_test)[:, 1]\n",
    "y_pred = new_model.predict(x_test)\n",
    "plots.save_precision_recall_curve(\"lr\", \"test_file\", y_test, y_prob)\n",
    "plots.save_confusion_matrix(\"lr\", \"test_file\", y_test, y_pred)"
   ]
  },
  {
   "cell_type": "code",
   "execution_count": 11,
   "metadata": {},
   "outputs": [],
   "source": [
    "delay_df = df[df['ArrDel15'] > 0.5].sample(n=2000)\n",
    "ontime_df = df[df['ArrDel15'] <= 0.5].sample(n=8000)\n",
    "fake_df = pd.concat([delay_df, ontime_df], ignore_index=True)\n",
    "\n",
    "x = fake_df.drop(columns=['ArrDel15'])\n",
    "y = fake_df[['ArrDel15']]\n",
    "x_train, x_test, y_train, y_test = train_test_split(x, y, test_size=0.2, random_state=150)"
   ]
  },
  {
   "cell_type": "code",
   "execution_count": 17,
   "metadata": {},
   "outputs": [
    {
     "ename": "ValueError",
     "evalue": "ModelENUM value ModelENUM.SVM has not been accounted for",
     "output_type": "error",
     "traceback": [
      "\u001b[0;31m---------------------------------------------------------------------------\u001b[0m",
      "\u001b[0;31mValueError\u001b[0m                                Traceback (most recent call last)",
      "Cell \u001b[0;32mIn[17], line 1\u001b[0m\n\u001b[0;32m----> 1\u001b[0m svm_pipeline \u001b[39m=\u001b[39m models\u001b[39m.\u001b[39;49mget_pipeline(ModelENUM\u001b[39m.\u001b[39;49mSVM)\n\u001b[1;32m      2\u001b[0m param_grid \u001b[39m=\u001b[39m [\n\u001b[1;32m      3\u001b[0m     models\u001b[39m.\u001b[39mget_svm_param(gamma\u001b[39m=\u001b[39m[\u001b[39m2\u001b[39m, \u001b[39m3\u001b[39m, \u001b[39m4\u001b[39m], c_list\u001b[39m=\u001b[39m[\u001b[39m1e-2\u001b[39m, \u001b[39m1e-1\u001b[39m, \u001b[39m1\u001b[39m], coef0\u001b[39m=\u001b[39m[\u001b[39m0\u001b[39m, \u001b[39m1\u001b[39m], kernel\u001b[39m=\u001b[39m[\u001b[39m'\u001b[39m\u001b[39mlinear\u001b[39m\u001b[39m'\u001b[39m, \u001b[39m'\u001b[39m\u001b[39mpoly\u001b[39m\u001b[39m'\u001b[39m])\n\u001b[1;32m      4\u001b[0m ]\n\u001b[1;32m      5\u001b[0m grid_search \u001b[39m=\u001b[39m models\u001b[39m.\u001b[39mget_grid_search_cv(\n\u001b[1;32m      6\u001b[0m     pipeline\u001b[39m=\u001b[39msvm_pipeline, param_grid\u001b[39m=\u001b[39mparam_grid, cv\u001b[39m=\u001b[39m\u001b[39m2\u001b[39m, n_jobs\u001b[39m=\u001b[39m\u001b[39m20\u001b[39m\n\u001b[1;32m      7\u001b[0m )\n",
      "File \u001b[0;32m~/Northeastern/cs6140/CS6140-final-project/src/final_project/models/models.py:38\u001b[0m, in \u001b[0;36mget_pipeline\u001b[0;34m(model_type)\u001b[0m\n\u001b[1;32m     36\u001b[0m     steps \u001b[39m=\u001b[39m [(\u001b[39m\"\u001b[39m\u001b[39mlr\u001b[39m\u001b[39m\"\u001b[39m, LogisticRegression())]\n\u001b[1;32m     37\u001b[0m \u001b[39melse\u001b[39;00m:\n\u001b[0;32m---> 38\u001b[0m     \u001b[39mraise\u001b[39;00m \u001b[39mValueError\u001b[39;00m(\n\u001b[1;32m     39\u001b[0m         \u001b[39mf\u001b[39m\u001b[39m\"\u001b[39m\u001b[39mModelENUM value \u001b[39m\u001b[39m{\u001b[39;00mmodel_type\u001b[39m}\u001b[39;00m\u001b[39m has not been accounted for\u001b[39m\u001b[39m\"\u001b[39m\n\u001b[1;32m     40\u001b[0m     )\n\u001b[1;32m     41\u001b[0m \u001b[39mreturn\u001b[39;00m Pipeline(steps\u001b[39m=\u001b[39msteps)\n",
      "\u001b[0;31mValueError\u001b[0m: ModelENUM value ModelENUM.SVM has not been accounted for"
     ]
    }
   ],
   "source": [
    "svm_pipeline = models.get_pipeline(ModelENUM.SVM)\n",
    "param_grid = [\n",
    "    models.get_svm_param(gamma=[2, 3, 4], c_list=[1e-2, 1e-1, 1], coef0=[0, 1], kernel=['linear', 'poly'])\n",
    "]\n",
    "grid_search = models.get_grid_search_cv(\n",
    "    pipeline=svm_pipeline, param_grid=param_grid, cv=2, n_jobs=20\n",
    ")"
   ]
  },
  {
   "cell_type": "code",
   "execution_count": 13,
   "metadata": {},
   "outputs": [
    {
     "name": "stdout",
     "output_type": "stream",
     "text": [
      "(10000, 121)\n",
      "(10000, 1)\n"
     ]
    }
   ],
   "source": [
    "print(x.shape)\n",
    "print(y.shape)"
   ]
  },
  {
   "cell_type": "code",
   "execution_count": 14,
   "metadata": {},
   "outputs": [
    {
     "name": "stdout",
     "output_type": "stream",
     "text": [
      "Fitting 2 folds for each of 36 candidates, totalling 72 fits\n",
      "[CV 1/2; 5/36] START svm__C=0.01, svm__coef0=0, svm__gamma=4, svm__kernel=linear\n",
      "[CV 2/2; 5/36] START svm__C=0.01, svm__coef0=0, svm__gamma=4, svm__kernel=linear\n",
      "[CV 1/2; 6/36] START svm__C=0.01, svm__coef0=0, svm__gamma=4, svm__kernel=poly..\n",
      "[CV 2/2; 6/36] START svm__C=0.01, svm__coef0=0, svm__gamma=4, svm__kernel=poly..\n",
      "[CV 1/2; 7/36] START svm__C=0.01, svm__coef0=1, svm__gamma=2, svm__kernel=linear\n",
      "[CV 2/2; 7/36] START svm__C=0.01, svm__coef0=1, svm__gamma=2, svm__kernel=linear\n",
      "[CV 1/2; 8/36] START svm__C=0.01, svm__coef0=1, svm__gamma=2, svm__kernel=poly..\n",
      "[CV 2/2; 8/36] START svm__C=0.01, svm__coef0=1, svm__gamma=2, svm__kernel=poly..\n",
      "[CV 1/2; 9/36] START svm__C=0.01, svm__coef0=1, svm__gamma=3, svm__kernel=linear\n",
      "[CV 2/2; 9/36] START svm__C=0.01, svm__coef0=1, svm__gamma=3, svm__kernel=linear\n",
      "[CV 1/2; 10/36] START svm__C=0.01, svm__coef0=1, svm__gamma=3, svm__kernel=poly.\n",
      "[CV 2/2; 10/36] START svm__C=0.01, svm__coef0=1, svm__gamma=3, svm__kernel=poly.\n",
      "[CV 2/2; 4/36] START svm__C=0.01, svm__coef0=0, svm__gamma=3, svm__kernel=poly..\n",
      "[CV 2/2; 1/36] START svm__C=0.01, svm__coef0=0, svm__gamma=2, svm__kernel=linear\n",
      "[CV 1/2; 2/36] START svm__C=0.01, svm__coef0=0, svm__gamma=2, svm__kernel=poly..\n",
      "[CV 1/2; 5/36] END svm__C=0.01, svm__coef0=0, svm__gamma=4, svm__kernel=linear;, score=0.615 total time=   1.6s\n",
      "[CV 1/2; 11/36] START svm__C=0.01, svm__coef0=1, svm__gamma=4, svm__kernel=linear\n",
      "[CV 2/2; 2/36] START svm__C=0.01, svm__coef0=0, svm__gamma=2, svm__kernel=poly..\n",
      "[CV 1/2; 1/36] START svm__C=0.01, svm__coef0=0, svm__gamma=2, svm__kernel=linear\n",
      "[CV 1/2; 3/36] START svm__C=0.01, svm__coef0=0, svm__gamma=3, svm__kernel=linear\n",
      "[CV 2/2; 3/36] START svm__C=0.01, svm__coef0=0, svm__gamma=3, svm__kernel=linear\n",
      "[CV 1/2; 4/36] START svm__C=0.01, svm__coef0=0, svm__gamma=3, svm__kernel=poly..\n",
      "[CV 2/2; 5/36] END svm__C=0.01, svm__coef0=0, svm__gamma=4, svm__kernel=linear;, score=0.657 total time=   4.0s\n",
      "[CV 2/2; 11/36] START svm__C=0.01, svm__coef0=1, svm__gamma=4, svm__kernel=linear\n",
      "[CV 1/2; 11/36] END svm__C=0.01, svm__coef0=1, svm__gamma=4, svm__kernel=linear;, score=0.615 total time=   4.0s\n",
      "[CV 1/2; 12/36] START svm__C=0.01, svm__coef0=1, svm__gamma=4, svm__kernel=poly.\n",
      "[CV 1/2; 9/36] END svm__C=0.01, svm__coef0=1, svm__gamma=3, svm__kernel=linear;, score=0.615 total time=   5.9s\n",
      "[CV 2/2; 12/36] START svm__C=0.01, svm__coef0=1, svm__gamma=4, svm__kernel=poly.\n",
      "[CV 2/2; 1/36] END svm__C=0.01, svm__coef0=0, svm__gamma=2, svm__kernel=linear;, score=0.657 total time=   5.2s\n",
      "[CV 1/2; 13/36] START svm__C=0.1, svm__coef0=0, svm__gamma=2, svm__kernel=linear\n",
      "[CV 2/2; 9/36] END svm__C=0.01, svm__coef0=1, svm__gamma=3, svm__kernel=linear;, score=0.657 total time=   6.8s\n",
      "[CV 2/2; 13/36] START svm__C=0.1, svm__coef0=0, svm__gamma=2, svm__kernel=linear\n",
      "[CV 1/2; 7/36] END svm__C=0.01, svm__coef0=1, svm__gamma=2, svm__kernel=linear;, score=0.615 total time=   6.9s\n",
      "[CV 1/2; 14/36] START svm__C=0.1, svm__coef0=0, svm__gamma=2, svm__kernel=poly..\n",
      "[CV 2/2; 7/36] END svm__C=0.01, svm__coef0=1, svm__gamma=2, svm__kernel=linear;, score=0.657 total time=   7.2s\n",
      "[CV 2/2; 14/36] START svm__C=0.1, svm__coef0=0, svm__gamma=2, svm__kernel=poly..\n",
      "[CV 2/2; 3/36] END svm__C=0.01, svm__coef0=0, svm__gamma=3, svm__kernel=linear;, score=0.657 total time=   5.2s\n",
      "[CV 1/2; 15/36] START svm__C=0.1, svm__coef0=0, svm__gamma=3, svm__kernel=linear\n",
      "[CV 2/2; 11/36] END svm__C=0.01, svm__coef0=1, svm__gamma=4, svm__kernel=linear;, score=0.657 total time=   4.1s\n",
      "[CV 2/2; 15/36] START svm__C=0.1, svm__coef0=0, svm__gamma=3, svm__kernel=linear\n",
      "[CV 1/2; 1/36] END svm__C=0.01, svm__coef0=0, svm__gamma=2, svm__kernel=linear;, score=0.615 total time=   6.3s\n",
      "[CV 1/2; 16/36] START svm__C=0.1, svm__coef0=0, svm__gamma=3, svm__kernel=poly..\n",
      "[CV 1/2; 3/36] END svm__C=0.01, svm__coef0=0, svm__gamma=3, svm__kernel=linear;, score=0.615 total time=   7.0s\n",
      "[CV 2/2; 16/36] START svm__C=0.1, svm__coef0=0, svm__gamma=3, svm__kernel=poly..\n",
      "[CV 1/2; 15/36] END svm__C=0.1, svm__coef0=0, svm__gamma=3, svm__kernel=linear;, score=0.687 total time=   1.7s\n",
      "[CV 1/2; 17/36] START svm__C=0.1, svm__coef0=0, svm__gamma=4, svm__kernel=linear\n",
      "[CV 1/2; 13/36] END svm__C=0.1, svm__coef0=0, svm__gamma=2, svm__kernel=linear;, score=0.687 total time=   3.3s\n",
      "[CV 2/2; 17/36] START svm__C=0.1, svm__coef0=0, svm__gamma=4, svm__kernel=linear\n",
      "[CV 2/2; 13/36] END svm__C=0.1, svm__coef0=0, svm__gamma=2, svm__kernel=linear;, score=0.718 total time=   3.8s\n",
      "[CV 1/2; 18/36] START svm__C=0.1, svm__coef0=0, svm__gamma=4, svm__kernel=poly..\n",
      "[CV 2/2; 15/36] END svm__C=0.1, svm__coef0=0, svm__gamma=3, svm__kernel=linear;, score=0.718 total time=   3.1s\n",
      "[CV 2/2; 18/36] START svm__C=0.1, svm__coef0=0, svm__gamma=4, svm__kernel=poly..\n",
      "[CV 1/2; 17/36] END svm__C=0.1, svm__coef0=0, svm__gamma=4, svm__kernel=linear;, score=0.687 total time=   2.1s\n",
      "[CV 1/2; 19/36] START svm__C=0.1, svm__coef0=1, svm__gamma=2, svm__kernel=linear\n",
      "[CV 2/2; 17/36] END svm__C=0.1, svm__coef0=0, svm__gamma=4, svm__kernel=linear;, score=0.718 total time=   2.4s\n",
      "[CV 2/2; 19/36] START svm__C=0.1, svm__coef0=1, svm__gamma=2, svm__kernel=linear\n",
      "[CV 1/2; 19/36] END svm__C=0.1, svm__coef0=1, svm__gamma=2, svm__kernel=linear;, score=0.687 total time=   1.3s\n",
      "[CV 1/2; 20/36] START svm__C=0.1, svm__coef0=1, svm__gamma=2, svm__kernel=poly..\n",
      "[CV 2/2; 19/36] END svm__C=0.1, svm__coef0=1, svm__gamma=2, svm__kernel=linear;, score=0.718 total time=   1.8s\n",
      "[CV 2/2; 20/36] START svm__C=0.1, svm__coef0=1, svm__gamma=2, svm__kernel=poly..\n",
      "[CV 1/2; 2/36] END svm__C=0.01, svm__coef0=0, svm__gamma=2, svm__kernel=poly;, score=0.490 total time=  23.9s\n",
      "[CV 1/2; 21/36] START svm__C=0.1, svm__coef0=1, svm__gamma=3, svm__kernel=linear\n",
      "[CV 1/2; 21/36] END svm__C=0.1, svm__coef0=1, svm__gamma=3, svm__kernel=linear;, score=0.687 total time=   1.9s\n",
      "[CV 2/2; 21/36] START svm__C=0.1, svm__coef0=1, svm__gamma=3, svm__kernel=linear\n",
      "[CV 2/2; 21/36] END svm__C=0.1, svm__coef0=1, svm__gamma=3, svm__kernel=linear;, score=0.718 total time=   1.5s\n",
      "[CV 2/2; 8/36] END svm__C=0.01, svm__coef0=1, svm__gamma=2, svm__kernel=poly;, score=0.530 total time=  28.7s\n",
      "[CV 1/2; 22/36] START svm__C=0.1, svm__coef0=1, svm__gamma=3, svm__kernel=poly..\n",
      "[CV 2/2; 22/36] START svm__C=0.1, svm__coef0=1, svm__gamma=3, svm__kernel=poly..\n",
      "[CV 1/2; 8/36] END svm__C=0.01, svm__coef0=1, svm__gamma=2, svm__kernel=poly;, score=0.485 total time=  30.6s\n",
      "[CV 1/2; 23/36] START svm__C=0.1, svm__coef0=1, svm__gamma=4, svm__kernel=linear\n",
      "[CV 1/2; 23/36] END svm__C=0.1, svm__coef0=1, svm__gamma=4, svm__kernel=linear;, score=0.687 total time=   1.4s\n",
      "[CV 2/2; 23/36] START svm__C=0.1, svm__coef0=1, svm__gamma=4, svm__kernel=linear\n",
      "[CV 2/2; 23/36] END svm__C=0.1, svm__coef0=1, svm__gamma=4, svm__kernel=linear;, score=0.718 total time=   1.2s\n",
      "[CV 1/2; 24/36] START svm__C=0.1, svm__coef0=1, svm__gamma=4, svm__kernel=poly..\n",
      "[CV 1/2; 4/36] END svm__C=0.01, svm__coef0=0, svm__gamma=3, svm__kernel=poly;, score=0.478 total time=  31.0s\n",
      "[CV 2/2; 24/36] START svm__C=0.1, svm__coef0=1, svm__gamma=4, svm__kernel=poly..\n",
      "[CV 1/2; 10/36] END svm__C=0.01, svm__coef0=1, svm__gamma=3, svm__kernel=poly;, score=0.483 total time=  33.8s\n",
      "[CV 1/2; 25/36] START svm__C=1, svm__coef0=0, svm__gamma=2, svm__kernel=linear..\n",
      "[CV 1/2; 25/36] END svm__C=1, svm__coef0=0, svm__gamma=2, svm__kernel=linear;, score=0.719 total time=   1.4s\n",
      "[CV 2/2; 25/36] START svm__C=1, svm__coef0=0, svm__gamma=2, svm__kernel=linear..\n",
      "[CV 2/2; 25/36] END svm__C=1, svm__coef0=0, svm__gamma=2, svm__kernel=linear;, score=0.759 total time=   1.4s\n",
      "[CV 1/2; 26/36] START svm__C=1, svm__coef0=0, svm__gamma=2, svm__kernel=poly....\n",
      "[CV 2/2; 2/36] END svm__C=0.01, svm__coef0=0, svm__gamma=2, svm__kernel=poly;, score=0.528 total time=  36.4s\n",
      "[CV 2/2; 26/36] START svm__C=1, svm__coef0=0, svm__gamma=2, svm__kernel=poly....\n",
      "[CV 1/2; 14/36] END svm__C=0.1, svm__coef0=0, svm__gamma=2, svm__kernel=poly;, score=0.481 total time=  39.7s\n",
      "[CV 1/2; 27/36] START svm__C=1, svm__coef0=0, svm__gamma=3, svm__kernel=linear..\n",
      "[CV 1/2; 27/36] END svm__C=1, svm__coef0=0, svm__gamma=3, svm__kernel=linear;, score=0.719 total time=   1.3s\n",
      "[CV 2/2; 27/36] START svm__C=1, svm__coef0=0, svm__gamma=3, svm__kernel=linear..\n",
      "[CV 2/2; 27/36] END svm__C=1, svm__coef0=0, svm__gamma=3, svm__kernel=linear;, score=0.759 total time=   1.5s\n",
      "[CV 1/2; 28/36] START svm__C=1, svm__coef0=0, svm__gamma=3, svm__kernel=poly....\n",
      "[CV 2/2; 4/36] END svm__C=0.01, svm__coef0=0, svm__gamma=3, svm__kernel=poly;, score=0.514 total time=  49.2s\n",
      "[CV 2/2; 28/36] START svm__C=1, svm__coef0=0, svm__gamma=3, svm__kernel=poly....\n",
      "[CV 2/2; 12/36] END svm__C=0.01, svm__coef0=1, svm__gamma=4, svm__kernel=poly;, score=0.524 total time=  44.9s\n",
      "[CV 1/2; 29/36] START svm__C=1, svm__coef0=0, svm__gamma=4, svm__kernel=linear..\n",
      "[CV 1/2; 6/36] END svm__C=0.01, svm__coef0=0, svm__gamma=4, svm__kernel=poly;, score=0.482 total time=  51.3s\n",
      "[CV 2/2; 29/36] START svm__C=1, svm__coef0=0, svm__gamma=4, svm__kernel=linear..\n",
      "[CV 1/2; 29/36] END svm__C=1, svm__coef0=0, svm__gamma=4, svm__kernel=linear;, score=0.719 total time=   1.3s\n",
      "[CV 1/2; 30/36] START svm__C=1, svm__coef0=0, svm__gamma=4, svm__kernel=poly....\n",
      "[CV 1/2; 16/36] END svm__C=0.1, svm__coef0=0, svm__gamma=3, svm__kernel=poly;, score=0.470 total time=  43.8s\n",
      "[CV 2/2; 30/36] START svm__C=1, svm__coef0=0, svm__gamma=4, svm__kernel=poly....\n",
      "[CV 2/2; 29/36] END svm__C=1, svm__coef0=0, svm__gamma=4, svm__kernel=linear;, score=0.759 total time=   1.7s\n",
      "[CV 1/2; 31/36] START svm__C=1, svm__coef0=1, svm__gamma=2, svm__kernel=linear..\n",
      "[CV 1/2; 31/36] END svm__C=1, svm__coef0=1, svm__gamma=2, svm__kernel=linear;, score=0.719 total time=   1.9s\n",
      "[CV 2/2; 31/36] START svm__C=1, svm__coef0=1, svm__gamma=2, svm__kernel=linear..\n",
      "[CV 2/2; 31/36] END svm__C=1, svm__coef0=1, svm__gamma=2, svm__kernel=linear;, score=0.759 total time=   2.0s\n",
      "[CV 1/2; 32/36] START svm__C=1, svm__coef0=1, svm__gamma=2, svm__kernel=poly....\n",
      "[CV 1/2; 12/36] END svm__C=0.01, svm__coef0=1, svm__gamma=4, svm__kernel=poly;, score=0.480 total time=  51.8s\n",
      "[CV 2/2; 32/36] START svm__C=1, svm__coef0=1, svm__gamma=2, svm__kernel=poly....\n",
      "[CV 1/2; 20/36] END svm__C=0.1, svm__coef0=1, svm__gamma=2, svm__kernel=poly;, score=0.471 total time=  46.9s\n",
      "[CV 1/2; 33/36] START svm__C=1, svm__coef0=1, svm__gamma=3, svm__kernel=linear..\n",
      "[CV 1/2; 18/36] END svm__C=0.1, svm__coef0=0, svm__gamma=4, svm__kernel=poly;, score=0.479 total time=  49.6s\n",
      "[CV 2/2; 33/36] START svm__C=1, svm__coef0=1, svm__gamma=3, svm__kernel=linear..\n",
      "[CV 2/2; 6/36] END svm__C=0.01, svm__coef0=0, svm__gamma=4, svm__kernel=poly;, score=0.513 total time= 1.0min\n",
      "[CV 1/2; 34/36] START svm__C=1, svm__coef0=1, svm__gamma=3, svm__kernel=poly....\n",
      "[CV 1/2; 33/36] END svm__C=1, svm__coef0=1, svm__gamma=3, svm__kernel=linear;, score=0.719 total time=   2.0s\n",
      "[CV 2/2; 10/36] END svm__C=0.01, svm__coef0=1, svm__gamma=3, svm__kernel=poly;, score=0.523 total time= 1.0min\n",
      "[CV 2/2; 34/36] START svm__C=1, svm__coef0=1, svm__gamma=3, svm__kernel=poly....\n",
      "[CV 1/2; 35/36] START svm__C=1, svm__coef0=1, svm__gamma=4, svm__kernel=linear..\n",
      "[CV 2/2; 33/36] END svm__C=1, svm__coef0=1, svm__gamma=3, svm__kernel=linear;, score=0.759 total time=   2.1s\n",
      "[CV 2/2; 35/36] START svm__C=1, svm__coef0=1, svm__gamma=4, svm__kernel=linear..\n",
      "[CV 1/2; 35/36] END svm__C=1, svm__coef0=1, svm__gamma=4, svm__kernel=linear;, score=0.719 total time=   1.6s\n",
      "[CV 1/2; 36/36] START svm__C=1, svm__coef0=1, svm__gamma=4, svm__kernel=poly....\n",
      "[CV 2/2; 35/36] END svm__C=1, svm__coef0=1, svm__gamma=4, svm__kernel=linear;, score=0.759 total time=   2.1s\n",
      "[CV 2/2; 36/36] START svm__C=1, svm__coef0=1, svm__gamma=4, svm__kernel=poly....\n",
      "[CV 1/2; 22/36] END svm__C=0.1, svm__coef0=1, svm__gamma=3, svm__kernel=poly;, score=0.477 total time=  40.2s\n",
      "[CV 1/2; 24/36] END svm__C=0.1, svm__coef0=1, svm__gamma=4, svm__kernel=poly;, score=0.475 total time=  40.3s\n",
      "[CV 2/2; 20/36] END svm__C=0.1, svm__coef0=1, svm__gamma=2, svm__kernel=poly;, score=0.518 total time= 1.0min\n",
      "[CV 2/2; 14/36] END svm__C=0.1, svm__coef0=0, svm__gamma=2, svm__kernel=poly;, score=0.516 total time= 1.2min\n",
      "[CV 1/2; 28/36] END svm__C=1, svm__coef0=0, svm__gamma=3, svm__kernel=poly;, score=0.468 total time=  32.6s\n",
      "[CV 1/2; 26/36] END svm__C=1, svm__coef0=0, svm__gamma=2, svm__kernel=poly;, score=0.482 total time=  49.3s\n",
      "[CV 1/2; 30/36] END svm__C=1, svm__coef0=0, svm__gamma=4, svm__kernel=poly;, score=0.467 total time=  35.2s\n",
      "[CV 1/2; 36/36] END svm__C=1, svm__coef0=1, svm__gamma=4, svm__kernel=poly;, score=0.468 total time=  27.7s\n",
      "[CV 1/2; 34/36] END svm__C=1, svm__coef0=1, svm__gamma=3, svm__kernel=poly;, score=0.465 total time=  33.2s\n",
      "[CV 1/2; 32/36] END svm__C=1, svm__coef0=1, svm__gamma=2, svm__kernel=poly;, score=0.477 total time=  41.5s\n",
      "[CV 2/2; 22/36] END svm__C=0.1, svm__coef0=1, svm__gamma=3, svm__kernel=poly;, score=0.509 total time= 1.6min\n",
      "[CV 2/2; 16/36] END svm__C=0.1, svm__coef0=0, svm__gamma=3, svm__kernel=poly;, score=0.507 total time= 2.0min\n",
      "[CV 2/2; 32/36] END svm__C=1, svm__coef0=1, svm__gamma=2, svm__kernel=poly;, score=0.490 total time= 1.4min\n",
      "[CV 2/2; 24/36] END svm__C=0.1, svm__coef0=1, svm__gamma=4, svm__kernel=poly;, score=0.503 total time= 1.9min\n",
      "[CV 2/2; 26/36] END svm__C=1, svm__coef0=0, svm__gamma=2, svm__kernel=poly;, score=0.502 total time= 1.9min\n",
      "[CV 2/2; 18/36] END svm__C=0.1, svm__coef0=0, svm__gamma=4, svm__kernel=poly;, score=0.502 total time= 2.5min\n",
      "[CV 2/2; 36/36] END svm__C=1, svm__coef0=1, svm__gamma=4, svm__kernel=poly;, score=0.509 total time= 1.9min\n",
      "[CV 2/2; 30/36] END svm__C=1, svm__coef0=0, svm__gamma=4, svm__kernel=poly;, score=0.510 total time= 2.2min\n",
      "[CV 2/2; 34/36] END svm__C=1, svm__coef0=1, svm__gamma=3, svm__kernel=poly;, score=0.505 total time= 2.1min\n",
      "[CV 2/2; 28/36] END svm__C=1, svm__coef0=0, svm__gamma=3, svm__kernel=poly;, score=0.509 total time= 2.4min\n"
     ]
    }
   ],
   "source": [
    "svm_model = grid_search.fit(x_train, y_train.to_numpy().ravel())"
   ]
  },
  {
   "cell_type": "code",
   "execution_count": 15,
   "metadata": {},
   "outputs": [
    {
     "name": "stdout",
     "output_type": "stream",
     "text": [
      "{'gamma': 2, 'kernel': 'linear', 'C': 1}\n"
     ]
    }
   ],
   "source": [
    "# models.analyze_model(svm_model, x_test, x_train, y_test, y_train)\n",
    "print(models.get_best_params(models.ModelENUM.SVM, svm_model))"
   ]
  },
  {
   "cell_type": "code",
   "execution_count": 16,
   "metadata": {},
   "outputs": [
    {
     "name": "stdout",
     "output_type": "stream",
     "text": [
      "414\n"
     ]
    },
    {
     "ename": "AttributeError",
     "evalue": "predict_proba is not available when  probability=False",
     "output_type": "error",
     "traceback": [
      "\u001b[0;31m---------------------------------------------------------------------------\u001b[0m",
      "\u001b[0;31mAttributeError\u001b[0m                            Traceback (most recent call last)",
      "Cell \u001b[0;32mIn[16], line 4\u001b[0m\n\u001b[1;32m      1\u001b[0m number_true \u001b[39m=\u001b[39m np\u001b[39m.\u001b[39mcount_nonzero(y_test \u001b[39m==\u001b[39m \u001b[39m1\u001b[39m)\n\u001b[1;32m      2\u001b[0m \u001b[39mprint\u001b[39m(number_true)\n\u001b[0;32m----> 4\u001b[0m y_prob \u001b[39m=\u001b[39m svm_model\u001b[39m.\u001b[39;49mpredict_proba(x_test)[:, \u001b[39m1\u001b[39m]\n\u001b[1;32m      5\u001b[0m y_pred \u001b[39m=\u001b[39m svm_model\u001b[39m.\u001b[39mpredict(x_test)\n\u001b[1;32m      6\u001b[0m plots\u001b[39m.\u001b[39msave_precision_recall_curve(\u001b[39m\"\u001b[39m\u001b[39mlr\u001b[39m\u001b[39m\"\u001b[39m, \u001b[39m\"\u001b[39m\u001b[39mtest_file\u001b[39m\u001b[39m\"\u001b[39m, y_test, y_prob)\n",
      "File \u001b[0;32m~/Northeastern/cs6140/CS6140-final-project/.venv/lib/python3.11/site-packages/sklearn/utils/_available_if.py:32\u001b[0m, in \u001b[0;36m_AvailableIfDescriptor.__get__\u001b[0;34m(self, obj, owner)\u001b[0m\n\u001b[1;32m     26\u001b[0m attr_err \u001b[39m=\u001b[39m \u001b[39mAttributeError\u001b[39;00m(\n\u001b[1;32m     27\u001b[0m     \u001b[39mf\u001b[39m\u001b[39m\"\u001b[39m\u001b[39mThis \u001b[39m\u001b[39m{\u001b[39;00m\u001b[39mrepr\u001b[39m(owner\u001b[39m.\u001b[39m\u001b[39m__name__\u001b[39m)\u001b[39m}\u001b[39;00m\u001b[39m has no attribute \u001b[39m\u001b[39m{\u001b[39;00m\u001b[39mrepr\u001b[39m(\u001b[39mself\u001b[39m\u001b[39m.\u001b[39mattribute_name)\u001b[39m}\u001b[39;00m\u001b[39m\"\u001b[39m\n\u001b[1;32m     28\u001b[0m )\n\u001b[1;32m     29\u001b[0m \u001b[39mif\u001b[39;00m obj \u001b[39mis\u001b[39;00m \u001b[39mnot\u001b[39;00m \u001b[39mNone\u001b[39;00m:\n\u001b[1;32m     30\u001b[0m     \u001b[39m# delegate only on instances, not the classes.\u001b[39;00m\n\u001b[1;32m     31\u001b[0m     \u001b[39m# this is to allow access to the docstrings.\u001b[39;00m\n\u001b[0;32m---> 32\u001b[0m     \u001b[39mif\u001b[39;00m \u001b[39mnot\u001b[39;00m \u001b[39mself\u001b[39;49m\u001b[39m.\u001b[39;49mcheck(obj):\n\u001b[1;32m     33\u001b[0m         \u001b[39mraise\u001b[39;00m attr_err\n\u001b[1;32m     34\u001b[0m     out \u001b[39m=\u001b[39m MethodType(\u001b[39mself\u001b[39m\u001b[39m.\u001b[39mfn, obj)\n",
      "File \u001b[0;32m~/Northeastern/cs6140/CS6140-final-project/.venv/lib/python3.11/site-packages/sklearn/model_selection/_search.py:362\u001b[0m, in \u001b[0;36m_estimator_has.<locals>.check\u001b[0;34m(self)\u001b[0m\n\u001b[1;32m    359\u001b[0m _check_refit(\u001b[39mself\u001b[39m, attr)\n\u001b[1;32m    360\u001b[0m \u001b[39mif\u001b[39;00m \u001b[39mhasattr\u001b[39m(\u001b[39mself\u001b[39m, \u001b[39m\"\u001b[39m\u001b[39mbest_estimator_\u001b[39m\u001b[39m\"\u001b[39m):\n\u001b[1;32m    361\u001b[0m     \u001b[39m# raise an AttributeError if `attr` does not exist\u001b[39;00m\n\u001b[0;32m--> 362\u001b[0m     \u001b[39mgetattr\u001b[39;49m(\u001b[39mself\u001b[39;49m\u001b[39m.\u001b[39;49mbest_estimator_, attr)\n\u001b[1;32m    363\u001b[0m     \u001b[39mreturn\u001b[39;00m \u001b[39mTrue\u001b[39;00m\n\u001b[1;32m    364\u001b[0m \u001b[39m# raise an AttributeError if `attr` does not exist\u001b[39;00m\n",
      "File \u001b[0;32m~/Northeastern/cs6140/CS6140-final-project/.venv/lib/python3.11/site-packages/sklearn/utils/_available_if.py:32\u001b[0m, in \u001b[0;36m_AvailableIfDescriptor.__get__\u001b[0;34m(self, obj, owner)\u001b[0m\n\u001b[1;32m     26\u001b[0m attr_err \u001b[39m=\u001b[39m \u001b[39mAttributeError\u001b[39;00m(\n\u001b[1;32m     27\u001b[0m     \u001b[39mf\u001b[39m\u001b[39m\"\u001b[39m\u001b[39mThis \u001b[39m\u001b[39m{\u001b[39;00m\u001b[39mrepr\u001b[39m(owner\u001b[39m.\u001b[39m\u001b[39m__name__\u001b[39m)\u001b[39m}\u001b[39;00m\u001b[39m has no attribute \u001b[39m\u001b[39m{\u001b[39;00m\u001b[39mrepr\u001b[39m(\u001b[39mself\u001b[39m\u001b[39m.\u001b[39mattribute_name)\u001b[39m}\u001b[39;00m\u001b[39m\"\u001b[39m\n\u001b[1;32m     28\u001b[0m )\n\u001b[1;32m     29\u001b[0m \u001b[39mif\u001b[39;00m obj \u001b[39mis\u001b[39;00m \u001b[39mnot\u001b[39;00m \u001b[39mNone\u001b[39;00m:\n\u001b[1;32m     30\u001b[0m     \u001b[39m# delegate only on instances, not the classes.\u001b[39;00m\n\u001b[1;32m     31\u001b[0m     \u001b[39m# this is to allow access to the docstrings.\u001b[39;00m\n\u001b[0;32m---> 32\u001b[0m     \u001b[39mif\u001b[39;00m \u001b[39mnot\u001b[39;00m \u001b[39mself\u001b[39;49m\u001b[39m.\u001b[39;49mcheck(obj):\n\u001b[1;32m     33\u001b[0m         \u001b[39mraise\u001b[39;00m attr_err\n\u001b[1;32m     34\u001b[0m     out \u001b[39m=\u001b[39m MethodType(\u001b[39mself\u001b[39m\u001b[39m.\u001b[39mfn, obj)\n",
      "File \u001b[0;32m~/Northeastern/cs6140/CS6140-final-project/.venv/lib/python3.11/site-packages/sklearn/pipeline.py:46\u001b[0m, in \u001b[0;36m_final_estimator_has.<locals>.check\u001b[0;34m(self)\u001b[0m\n\u001b[1;32m     44\u001b[0m \u001b[39mdef\u001b[39;00m \u001b[39mcheck\u001b[39m(\u001b[39mself\u001b[39m):\n\u001b[1;32m     45\u001b[0m     \u001b[39m# raise original `AttributeError` if `attr` does not exist\u001b[39;00m\n\u001b[0;32m---> 46\u001b[0m     \u001b[39mgetattr\u001b[39m(\u001b[39mself\u001b[39m\u001b[39m.\u001b[39m_final_estimator, attr)\n\u001b[1;32m     47\u001b[0m     \u001b[39mreturn\u001b[39;00m \u001b[39mTrue\u001b[39;00m\n",
      "File \u001b[0;32m~/Northeastern/cs6140/CS6140-final-project/.venv/lib/python3.11/site-packages/sklearn/utils/_available_if.py:32\u001b[0m, in \u001b[0;36m_AvailableIfDescriptor.__get__\u001b[0;34m(self, obj, owner)\u001b[0m\n\u001b[1;32m     26\u001b[0m attr_err \u001b[39m=\u001b[39m \u001b[39mAttributeError\u001b[39;00m(\n\u001b[1;32m     27\u001b[0m     \u001b[39mf\u001b[39m\u001b[39m\"\u001b[39m\u001b[39mThis \u001b[39m\u001b[39m{\u001b[39;00m\u001b[39mrepr\u001b[39m(owner\u001b[39m.\u001b[39m\u001b[39m__name__\u001b[39m)\u001b[39m}\u001b[39;00m\u001b[39m has no attribute \u001b[39m\u001b[39m{\u001b[39;00m\u001b[39mrepr\u001b[39m(\u001b[39mself\u001b[39m\u001b[39m.\u001b[39mattribute_name)\u001b[39m}\u001b[39;00m\u001b[39m\"\u001b[39m\n\u001b[1;32m     28\u001b[0m )\n\u001b[1;32m     29\u001b[0m \u001b[39mif\u001b[39;00m obj \u001b[39mis\u001b[39;00m \u001b[39mnot\u001b[39;00m \u001b[39mNone\u001b[39;00m:\n\u001b[1;32m     30\u001b[0m     \u001b[39m# delegate only on instances, not the classes.\u001b[39;00m\n\u001b[1;32m     31\u001b[0m     \u001b[39m# this is to allow access to the docstrings.\u001b[39;00m\n\u001b[0;32m---> 32\u001b[0m     \u001b[39mif\u001b[39;00m \u001b[39mnot\u001b[39;00m \u001b[39mself\u001b[39;49m\u001b[39m.\u001b[39;49mcheck(obj):\n\u001b[1;32m     33\u001b[0m         \u001b[39mraise\u001b[39;00m attr_err\n\u001b[1;32m     34\u001b[0m     out \u001b[39m=\u001b[39m MethodType(\u001b[39mself\u001b[39m\u001b[39m.\u001b[39mfn, obj)\n",
      "File \u001b[0;32m~/Northeastern/cs6140/CS6140-final-project/.venv/lib/python3.11/site-packages/sklearn/svm/_base.py:829\u001b[0m, in \u001b[0;36mBaseSVC._check_proba\u001b[0;34m(self)\u001b[0m\n\u001b[1;32m    827\u001b[0m \u001b[39mdef\u001b[39;00m \u001b[39m_check_proba\u001b[39m(\u001b[39mself\u001b[39m):\n\u001b[1;32m    828\u001b[0m     \u001b[39mif\u001b[39;00m \u001b[39mnot\u001b[39;00m \u001b[39mself\u001b[39m\u001b[39m.\u001b[39mprobability:\n\u001b[0;32m--> 829\u001b[0m         \u001b[39mraise\u001b[39;00m \u001b[39mAttributeError\u001b[39;00m(\n\u001b[1;32m    830\u001b[0m             \u001b[39m\"\u001b[39m\u001b[39mpredict_proba is not available when  probability=False\u001b[39m\u001b[39m\"\u001b[39m\n\u001b[1;32m    831\u001b[0m         )\n\u001b[1;32m    832\u001b[0m     \u001b[39mif\u001b[39;00m \u001b[39mself\u001b[39m\u001b[39m.\u001b[39m_impl \u001b[39mnot\u001b[39;00m \u001b[39min\u001b[39;00m (\u001b[39m\"\u001b[39m\u001b[39mc_svc\u001b[39m\u001b[39m\"\u001b[39m, \u001b[39m\"\u001b[39m\u001b[39mnu_svc\u001b[39m\u001b[39m\"\u001b[39m):\n\u001b[1;32m    833\u001b[0m         \u001b[39mraise\u001b[39;00m \u001b[39mAttributeError\u001b[39;00m(\u001b[39m\"\u001b[39m\u001b[39mpredict_proba only implemented for SVC and NuSVC\u001b[39m\u001b[39m\"\u001b[39m)\n",
      "\u001b[0;31mAttributeError\u001b[0m: predict_proba is not available when  probability=False"
     ]
    }
   ],
   "source": [
    "number_true = np.count_nonzero(y_test == 1)\n",
    "print(number_true)\n",
    "\n",
    "y_prob = svm_model.predict_proba(x_test)[:, 1]\n",
    "y_pred = svm_model.predict(x_test)\n",
    "plots.save_precision_recall_curve(\"lr\", \"test_file\", y_test, y_prob)\n",
    "plots.save_confusion_matrix(\"lr\", \"test_file\", y_test, y_pred)"
   ]
  }
 ],
 "metadata": {
  "kernelspec": {
   "display_name": ".venv",
   "language": "python",
   "name": "python3"
  },
  "language_info": {
   "codemirror_mode": {
    "name": "ipython",
    "version": 3
   },
   "file_extension": ".py",
   "mimetype": "text/x-python",
   "name": "python",
   "nbconvert_exporter": "python",
   "pygments_lexer": "ipython3",
   "version": "3.11.2"
  },
  "orig_nbformat": 4
 },
 "nbformat": 4,
 "nbformat_minor": 2
}
