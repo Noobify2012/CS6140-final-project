{
 "cells": [
  {
   "cell_type": "code",
   "execution_count": null,
   "metadata": {},
   "outputs": [],
   "source": [
    "%load_ext autoreload\n",
    "%autoreload 2\n",
    "\n",
    "import warnings\n",
    "warnings.filterwarnings('ignore')\n",
    "\n",
    "from final_project.loader import get_df\n",
    "from final_project import builder\n",
    "from final_project import models\n",
    "from final_project.models import ModelENUM\n",
    "from pathlib import Path\n",
    "from sklearn.model_selection import train_test_split"
   ]
  },
  {
   "cell_type": "code",
   "execution_count": null,
   "metadata": {},
   "outputs": [],
   "source": [
    "df = get_df(file='Flights_2018_1.csv')\n",
    "df = builder.encodeFrame(builder.columnManager(df))\n",
    "\n",
    "x = df.drop(columns=['ArrDel15'])\n",
    "y = df[['ArrDel15']]\n",
    "x_train, x_test, y_train, y_test = train_test_split(x, y, test_size=0.2, random_state=150)"
   ]
  },
  {
   "cell_type": "code",
   "execution_count": null,
   "metadata": {},
   "outputs": [],
   "source": [
    "lr_pipeline = models.get_pipeline(ModelENUM.LR)\n",
    "param_grid = [\n",
    "    # log_reg.get_lr_param(solver=\"liblinear\", penalty=[\"l1\", \"l2\"], c_list=[1, 10]),\n",
    "    # log_reg.get_lr_param(solver=\"saga\", penalty=[\"l2\", \"elasticnet\"], c_list=[1,10]),\n",
    "    models.get_lr_param(penalty=[\"l1\"], c_list=[.1], max_iter=[1000]),\n",
    "    # models.get_lr_param(solver=\"saga\", penalty=[\"l2\"], c_list=[.1]),\n",
    "]\n",
    "grid_search = models.get_grid_search_cv(\n",
    "    pipeline=lr_pipeline, param_grid=param_grid, cv=3, n_jobs=20\n",
    ")"
   ]
  },
  {
   "cell_type": "code",
   "execution_count": null,
   "metadata": {},
   "outputs": [],
   "source": [
    "logreg_model = grid_search.fit(x_train, y_train.to_numpy().ravel())"
   ]
  },
  {
   "cell_type": "code",
   "execution_count": 6,
   "metadata": {},
   "outputs": [],
   "source": [
    "svm_pipeline = models.get_pipeline(ModelENUM.SVM)\n",
    "param_grid = [\n",
    "    models.get_svm_param(gamma=['scale'], c_list=[0.1], coef0=[0.1], kernel=['poly'])\n",
    "]\n",
    "grid_search = models.get_grid_search_cv(\n",
    "    pipeline=svm_pipeline, param_grid=param_grid, cv=3, n_jobs=20\n",
    ")"
   ]
  },
  {
   "cell_type": "code",
   "execution_count": 7,
   "metadata": {},
   "outputs": [
    {
     "name": "stdout",
     "output_type": "stream",
     "text": [
      "Fitting 3 folds for each of 1 candidates, totalling 3 fits\n",
      "[CV 1/3; 1/1] START svm__C=0.1, svm__coef0=0.1, svm__gamma=scale, svm__kernel=poly\n",
      "[CV 3/3; 1/1] START svm__C=0.1, svm__coef0=0.1, svm__gamma=scale, svm__kernel=poly\n",
      "[CV 2/3; 1/1] START svm__C=0.1, svm__coef0=0.1, svm__gamma=scale, svm__kernel=poly\n"
     ]
    }
   ],
   "source": [
    "svm_model = grid_search.fit(x_train, y_train.to_numpy().ravel())"
   ]
  }
 ],
 "metadata": {
  "kernelspec": {
   "display_name": ".venv",
   "language": "python",
   "name": "python3"
  },
  "language_info": {
   "codemirror_mode": {
    "name": "ipython",
    "version": 3
   },
   "file_extension": ".py",
   "mimetype": "text/x-python",
   "name": "python",
   "nbconvert_exporter": "python",
   "pygments_lexer": "ipython3",
   "version": "3.10.7"
  },
  "orig_nbformat": 4
 },
 "nbformat": 4,
 "nbformat_minor": 2
}
