{
 "cells": [
  {
   "cell_type": "code",
   "execution_count": null,
   "id": "4ed3dbc2-4b13-4c7c-a595-99145a59f811",
   "metadata": {},
   "outputs": [],
   "source": [
    "import pandas as pd\n",
    "import numpy as np\n",
    "import matplotlib.pyplot as plt\n",
    "from sklearn.linear_model import LogisticRegression\n",
    "from sklearn.model_selection import GridSearchCV\n",
    "from sklearn.model_selection import train_test_split\n",
    "from sklearn.svm import SVC\n",
    "from sklearn.pipeline import Pipeline\n",
    "from sklearn.preprocessing import StandardScaler\n",
    "from sklearn.metrics import ConfusionMatrixDisplay\n",
    "from sklearn.metrics import f1_score\n",
    "from sklearn.metrics import precision_recall_fscore_support\n",
    "from joblib import parallel_backend\n",
    "from sklearn.compose import ColumnTransformer\n",
    "from sklearn.preprocessing import OneHotEncoder\n",
    "from sklearn.feature_extraction import FeatureHasher\n",
    "from csv import writer\n",
    "\n",
    "# NOTE change your file path\n",
    "master_df = pd.read_csv(r\"C:\\Users\\Bram\\gitrepo\\CS6140-final-project\\raw\\Flights_2018_1.csv\",\n",
    "                nrows=10000,\n",
    "                low_memory=False # TODO not sure what this does\n",
    "                )\n",
    "\n",
    "# NOTE ***** SET THE NUMBER OF CORES FOR YOUR COMPUTER HERE*****#\n",
    "NUM_CORES = 16\n",
    "#***************************************************************#"
   ]
  },
  {
   "cell_type": "code",
   "execution_count": null,
   "id": "cc939bb1",
   "metadata": {},
   "outputs": [],
   "source": [
    "def analyze_model(model, X_test, X_train, y_test, y_train):\n",
    "    # TODO score vs score_samples\n",
    "    test_accuracy = model.score(X_test, y_test)\n",
    "    train_accuracy = model.score(X_train, y_train)\n",
    "    y_pred = model.predict(X_test)\n",
    "    f1 = f1_score(y_test, y_pred)\n",
    "    prf = precision_recall_fscore_support(y_test, y_pred, average='binary') # TODO different average values: micro macro binary weighted samples\n",
    "\n",
    "    print(f\"Test accuracy: {test_accuracy}\")\n",
    "    print(f\"Train accuracy: {train_accuracy}\")\n",
    "    print(f\"Precision: {prf[0]}\")\n",
    "    print(f\"Recall: {prf[1]}\")\n",
    "    print(f\"F-Beta Score: {prf[2]}\")\n",
    "    print(f\"F1 Score: {f1}\")\n",
    "\n",
    "    ConfusionMatrixDisplay.from_predictions(y_test, y_pred)\n",
    "    plt.show()"
   ]
  },
  {
   "cell_type": "code",
   "execution_count": null,
   "id": "37431acb",
   "metadata": {},
   "outputs": [],
   "source": [
    "'''\n",
    "process data for training, split into test and train\n",
    "'''\n",
    "feature_cols = [\"DayofMonth\",\"Month\",\"Year\", \"Distance\",\"DepDelay\", \"ArrDel15\", \"Operating_Airline \"]\n",
    "df = master_df[feature_cols].dropna() # get rid of nan\n",
    "\n",
    "# NOTE remove operating airline if not using one hot encoding\n",
    "X = df[[\"DayofMonth\",\"Month\",\"Year\", \"Distance\", \"DepDelay\", \"Operating_Airline \"]]\n",
    "y = df[[\"ArrDel15\"]]\n",
    "y = y.ArrDel15.ravel() # flatten\n",
    "\n",
    "print(\"# samples after dropping nan:\", y.shape[0])\n",
    "\n",
    "# split into train and \n",
    "X_train, X_test, y_train, y_test = train_test_split(X, y,\n",
    "                                                    test_size=0.2,\n",
    "                                                    random_state=150) # TODO how to choose random state\n"
   ]
  },
  {
   "cell_type": "code",
   "execution_count": null,
   "id": "5695f0b8",
   "metadata": {},
   "outputs": [],
   "source": [
    "'''\n",
    "NOTE Uncomment this cell to try Feature Hasher\n",
    "You'll have to add it to the pipeline\n",
    "'''\n",
    "# fh_encoder = FeatureHasher(n_features=10, input_type='numeric')\n",
    "# col_transf = ColumnTransformer(\n",
    "#     transformers=[('hasher', fh_encoder, onehot_cols)],\n",
    "#     remainder='passthrough')\n"
   ]
  },
  {
   "cell_type": "code",
   "execution_count": null,
   "id": "8856eb1c",
   "metadata": {},
   "outputs": [],
   "source": [
    "'''\n",
    "One hot encoding, create column transform which gets added to pipeline\n",
    "'''\n",
    "onehot_cols = ['Month', 'Operating_Airline ']\n",
    "col_transf = ColumnTransformer(transformers=[('encoder', OneHotEncoder(), onehot_cols)], remainder='passthrough')\n",
    "\n",
    "# NOTE get feature names by uncommenting the following: \n",
    "# col_transf.fit(X_train, y_train)\n",
    "# print(col_transf.get_feature_names_out())"
   ]
  },
  {
   "cell_type": "code",
   "execution_count": null,
   "id": "2291000d",
   "metadata": {},
   "outputs": [],
   "source": [
    "'''\n",
    "Logistic Regression Model\n",
    "\n",
    "'''\n",
    "# create logistic regression pipeline\n",
    "log_reg_pipe = Pipeline(steps=[('onehot', col_transf), (\"lr\",LogisticRegression())]) # standard scaler makes a huge difference of over 10%\n",
    "\n",
    "# dictionary of values for exhaustive cross validation search\n",
    "param_grid = [\n",
    "  {'lr__solver':['liblinear'],'lr__C':[.001, .01, .5, .1, 1, 5, 10], 'lr__penalty':['l1','l2']},\n",
    "  {'lr__solver':['saga'],'lr__C':[.001, .01, .5, .1, 1, 5, 10], 'lr__penalty':['l2','elasticnet']}\n",
    "]\n",
    "\n",
    "# NOTE CHANGE NUM_CORES FOR YOUR COMPUTER IN FIRST CELL OF NOTEBOOK\n",
    "search = GridSearchCV(log_reg_pipe, param_grid, scoring='f1', cv=5, verbose=0, n_jobs=NUM_CORES) \n",
    "# TODO choose cv\n",
    "# TODO choose verbosity\n",
    "# TODO choose scoring parameter\n",
    "\n",
    "logreg_model = search.fit(X_train, y_train)"
   ]
  },
  {
   "cell_type": "code",
   "execution_count": null,
   "id": "9f97ae36",
   "metadata": {},
   "outputs": [],
   "source": [
    "'''\n",
    "Logistic Regression Analysis\n",
    "'''\n",
    "# CV results\n",
    "print('Grid search found best solver:', logreg_model.best_estimator_.get_params()['lr__solver'])\n",
    "print('Grid search found best penalty:', logreg_model.best_estimator_.get_params()['lr__penalty'])\n",
    "print('Grid search found best hyperparameter C:', logreg_model.best_estimator_.get_params()['lr__C'])\n",
    "print()\n",
    "\n",
    "# print feature weights\n",
    "feats = logreg_model.best_estimator_.named_steps['onehot'].get_feature_names_out()\n",
    "\n",
    "print(\"Feature weights\")\n",
    "for i, coef in enumerate(logreg_model.best_estimator_.named_steps['lr'].coef_[0]): \n",
    "    print(f\"{feats[i] + ':':31s} {coef}\")\n",
    "print()\n",
    "\n",
    "# TODO confirm this is actually printing for best model from gridsearch\n",
    "analyze_model(logreg_model, X_test, X_train, y_test, y_train)\n"
   ]
  },
  {
   "cell_type": "code",
   "execution_count": 20,
   "id": "42553e3e",
   "metadata": {},
   "outputs": [
    {
     "name": "stdout",
     "output_type": "stream",
     "text": [
      "Fitting 5 folds for each of 48 candidates, totalling 240 fits\n"
     ]
    }
   ],
   "source": [
    "'''\n",
    "SVM Model Creation\n",
    "# NOTE THIS CAN TAKE A WHILE\n",
    "reference: https://scikit-learn.org/stable/modules/generated/sklearn.svm.SVC.html\n",
    "'''\n",
    "#NOTE uncomment one of the following to use or not use one hot encoding in pipe\n",
    "# svm = Pipeline(steps=[(\"scaler\", StandardScaler()), (\"svm\",SVC())])\n",
    "svm = Pipeline(steps=[('onehot', col_transf),(\"scaler\", StandardScaler()), (\"svm\",SVC())])\n",
    "# NOTE standard scaler makes a huge difference\n",
    "\n",
    "# NOTE adding more values to gamma makes things super slow\n",
    "param_grid = [\n",
    "  {'svm__gamma':['scale', 'auto'], 'svm__C':[.1, 1, 10, 100], 'svm__coef0':[0.0, .01, 1], \"svm__kernel\":['poly', 'sigmoid']},\n",
    "]\n",
    "# NOTE adding the following param dictionary significantly increases runtime\n",
    "# {'svm__gamma':['scale', 'auto'],'svm__C':[.1, 1, 10, 100], \"svm__kernel\":['linear', 'rbf']}\n",
    "\n",
    "# TODO is precomputed kernel type useful?\n",
    "\n",
    "# exhaustive cross validation\n",
    "search = GridSearchCV(svm, param_grid, scoring='f1', cv=5, verbose=3, n_jobs=NUM_CORES) # TODO how to choose cv\n",
    "\n",
    "svm_model = search.fit(X_train, y_train)"
   ]
  },
  {
   "cell_type": "code",
   "execution_count": 22,
   "id": "f8ada6fe",
   "metadata": {},
   "outputs": [
    {
     "name": "stdout",
     "output_type": "stream",
     "text": [
      "Grid search found best gamma: auto\n",
      "Grid search found best penalty: poly\n",
      "Grid search found best hyperparameter C: 10\n",
      "The following is only important if using poly or sigmoid kernel:\n",
      "Grid search found best coef0: 1\n",
      "\n",
      "Feature weights\n",
      "encoder__Month_1:               0.0\n",
      "encoder__Operating_Airline _9E: 0.0\n",
      "encoder__Operating_Airline _B6: 0.0\n",
      "remainder__DayofMonth:          -0.005876668469898635\n",
      "remainder__Year:                -0.0013071878916750958\n",
      "remainder__Distance:            -0.00014957068068306427\n",
      "remainder__DepDelay:            0.12596523887991723\n",
      "\n",
      "Test accuracy: 0.7763401109057302\n",
      "Train accuracy: 0.7990719257540604\n",
      "Precision: 0.9210526315789473\n",
      "Recall: 0.670926517571885\n",
      "F-Beta Score: 0.7763401109057302\n",
      "F1 Score: 0.7763401109057302\n"
     ]
    },
    {
     "data": {
      "image/png": "[encoded data removed]",
      "text/plain": [
       "<Figure size 640x480 with 2 Axes>"
      ]
     },
     "metadata": {},
     "output_type": "display_data"
    }
   ],
   "source": [
    "'''\n",
    "SVM Analysis\n",
    "'''\n",
    "print('Grid search found best gamma:', svm_model.best_estimator_.get_params()['svm__gamma'])\n",
    "print('Grid search found best penalty:', svm_model.best_estimator_.get_params()['svm__kernel'])\n",
    "print('Grid search found best hyperparameter C:', svm_model.best_estimator_.get_params()['svm__C'])\n",
    "print(\"The following is only important if using poly or sigmoid kernel:\")\n",
    "print('Grid search found best coef0:', svm_model.best_estimator_.get_params()['svm__coef0'])\n",
    "print()\n",
    "\n",
    "# feature weights\n",
    "feats = svm_model.best_estimator_.named_steps['onehot'].get_feature_names_out()\n",
    "print(\"Feature weights\")\n",
    "for i, coef in enumerate(logreg_model.best_estimator_.named_steps['lr'].coef_[0]): \n",
    "    print(f\"{feats[i] + ':':31s} {coef}\")\n",
    "print()\n",
    "\n",
    "# analysis\n",
    "analyze_model(svm_model, X_test, X_train, y_test, y_train)"
   ]
  }
 ],
 "metadata": {
  "kernelspec": {
   "display_name": "Python 3 (ipykernel)",
   "language": "python",
   "name": "python3"
  },
  "language_info": {
   "codemirror_mode": {
    "name": "ipython",
    "version": 3
   },
   "file_extension": ".py",
   "mimetype": "text/x-python",
   "name": "python",
   "nbconvert_exporter": "python",
   "pygments_lexer": "ipython3",
   "version": "3.9.0"
  }
 },
 "nbformat": 4,
 "nbformat_minor": 5
}
